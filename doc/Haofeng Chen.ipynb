{
 "cells": [
  {
   "cell_type": "markdown",
   "metadata": {},
   "source": [
    "# ADS Project 3 Group 4"
   ]
  },
  {
   "cell_type": "markdown",
   "metadata": {},
   "source": [
    "## Libraries and Settings"
   ]
  },
  {
   "cell_type": "code",
   "execution_count": 1,
   "metadata": {},
   "outputs": [
    {
     "name": "stderr",
     "output_type": "stream",
     "text": [
      "/anaconda3/lib/python3.7/site-packages/sklearn/ensemble/weight_boosting.py:29: DeprecationWarning: numpy.core.umath_tests is an internal NumPy module and should not be imported. It will be removed in a future NumPy release.\n",
      "  from numpy.core.umath_tests import inner1d\n"
     ]
    }
   ],
   "source": [
    "from scipy.io import loadmat\n",
    "import os\n",
    "import matplotlib.pyplot as plt\n",
    "import numpy as np\n",
    "import pandas as pd\n",
    "import PIL\n",
    "from PIL import Image\n",
    "from sklearn.model_selection import train_test_split\n",
    "from sklearn import preprocessing\n",
    "from sklearn.ensemble import RandomForestClassifier\n",
    "from sklearn.model_selection import RandomizedSearchCV\n",
    "from sklearn.model_selection import GridSearchCV\n",
    "from sklearn.metrics import accuracy_score\n",
    "from sklearn.model_selection import cross_val_score\n",
    "from scipy.spatial.distance import pdist\n",
    "from sklearn import svm"
   ]
  },
  {
   "cell_type": "code",
   "execution_count": 2,
   "metadata": {},
   "outputs": [],
   "source": [
    "\"\"\"\n",
    "Path\n",
    "\"\"\"\n",
    "DATA_PATH = \"../data/train_set\"\n",
    "IMAGE_FOLDER = os.path.join(DATA_PATH, \"images\")\n",
    "POINTS_FOLDER = os.path.join(DATA_PATH, \"points\")\n",
    "LABELS_FOLDER = DATA_PATH"
   ]
  },
  {
   "cell_type": "markdown",
   "metadata": {},
   "source": [
    "## Read Training Data"
   ]
  },
  {
   "cell_type": "code",
   "execution_count": 3,
   "metadata": {},
   "outputs": [],
   "source": [
    "def read_all_images():\n",
    "    \"\"\"\n",
    "    Read 2500 training images from the IMAGE_FOLDER\n",
    "    :return a 4d numpy array in form of (index, height, width, channels), channels is RGB \n",
    "    \"\"\"\n",
    "    files = [file for file in os.listdir(IMAGE_FOLDER) if file.endswith('.jpg')]\n",
    "    files.sort()\n",
    "    \n",
    "    face_images = np.zeros((len(files), 750, 1000, 3))\n",
    "    \n",
    "    for index, filename in enumerate(files):\n",
    "        face_img_arr = plt.imread(os.path.join(IMAGE_FOLDER, filename))\n",
    "        if face_img_arr.shape != (750,1000,3):\n",
    "            # resize the image\n",
    "            face_img = Image.fromarray(face_img_arr)\n",
    "            face_img = face_img.resize((1000,750))\n",
    "            face_img_arr = np.array(face_img)\n",
    "        face_images[index] = face_img_arr\n",
    "    return face_images\n",
    "\n",
    "def read_labels():\n",
    "    \"\"\"\n",
    "    Read the image labels from the label.csv file\n",
    "    :return a pandas.DataFrame with 3 columns: 'emotion_idx','emotion_cat','type'\n",
    "    \"\"\"\n",
    "    labels_df = pd.read_csv(os.path.join(LABELS_FOLDER, 'label.csv'))\n",
    "    labels_df = labels_df.loc[:,['emotion_idx','emotion_cat','type']]\n",
    "    return labels_df\n",
    "    \n",
    "\n",
    "def read_all_points():\n",
    "    \"\"\"\n",
    "    Read all face coordinates points\n",
    "    :return a tuple of shape (2500, 78, 2). Because for each of 2500 images there are 78 points associated with it\n",
    "    \"\"\"\n",
    "    files = [file for file in os.listdir(POINTS_FOLDER) if file.endswith('.mat')]\n",
    "    files.sort()\n",
    "    \n",
    "    face_points = np.zeros((len(files), 78, 2))\n",
    "    for index, filename in enumerate(files):\n",
    "        face_points_dict = loadmat(os.path.join(POINTS_FOLDER, filename))\n",
    "    \n",
    "        face_points[index] = face_points_dict.get('faceCoordinatesUnwarped',  face_points_dict.get('faceCoordinates2'))\n",
    "    return face_points\n",
    "\n",
    "def load_data(loadImage = False):\n",
    "    \"\"\"\n",
    "    Load training data from local files\n",
    "    \n",
    "    :loadImage if it's False, this function will not load original images\n",
    "    :return a tuple (images, points, labels)\n",
    "        if loadImage is False, the 'images' will None. Otherwise its a numpy array with shape (2500,750,1000,3)\n",
    "        points is a numpy array with shape (2500, 78, 2)\n",
    "        labels is a pandas.DataFrame\n",
    "    \"\"\"\n",
    "    face_images_narr =  read_all_images() if loadImage else None\n",
    "    face_images_points = read_all_points()\n",
    "    labels = read_labels()\n",
    "    return face_images_narr, face_images_points, labels"
   ]
  },
  {
   "cell_type": "code",
   "execution_count": 4,
   "metadata": {},
   "outputs": [],
   "source": [
    "# pass True if you want to read original images, it might take some time to do it\n",
    "images, points, labels = load_data(False)"
   ]
  },
  {
   "cell_type": "code",
   "execution_count": 5,
   "metadata": {},
   "outputs": [
    {
     "name": "stdout",
     "output_type": "stream",
     "text": [
      "(2500, 78, 2)\n"
     ]
    }
   ],
   "source": [
    "if images:\n",
    "    print(images.shape)\n",
    "\n",
    "print(points.shape)"
   ]
  },
  {
   "cell_type": "markdown",
   "metadata": {},
   "source": [
    "## Random Forest"
   ]
  },
  {
   "cell_type": "code",
   "execution_count": 9,
   "metadata": {},
   "outputs": [],
   "source": [
    "distances = np.zeros((2500, 3003))\n",
    "for i in range(2500):\n",
    "    current = points[i]\n",
    "    distances[i,] = pdist(current)"
   ]
  },
  {
   "cell_type": "code",
   "execution_count": 10,
   "metadata": {},
   "outputs": [],
   "source": [
    "new_feature = pd.DataFrame(distances.reshape(2500,-1))\n",
    "j = 0\n",
    "for i in range(3003):\n",
    "    j += 1\n",
    "    new_feature = new_feature.rename(columns = {i:('distance_'+ str(j))})\n",
    "label = np.array(labels)"
   ]
  },
  {
   "cell_type": "code",
   "execution_count": 17,
   "metadata": {},
   "outputs": [],
   "source": [
    "new_feature = np.array(new_feature)\n",
    "train_feature, test_feature, train_label, test_label = train_test_split(new_feature, label, test_size = 0.25, random_state = 42)\n",
    "train_feature = preprocessing.scale(train_feature)\n",
    "test_feature = preprocessing.scale(test_feature)"
   ]
  },
  {
   "cell_type": "markdown",
   "metadata": {},
   "source": [
    "### Set up random grid search for random forest"
   ]
  },
  {
   "cell_type": "code",
   "execution_count": 20,
   "metadata": {},
   "outputs": [
    {
     "name": "stdout",
     "output_type": "stream",
     "text": [
      "Fitting 5 folds for each of 100 candidates, totalling 500 fits\n",
      "[CV] n_estimators=773, max_features=sqrt, max_depth=100 ..............\n",
      "[CV] n_estimators=773, max_features=sqrt, max_depth=100 ..............\n",
      "[CV] n_estimators=773, max_features=sqrt, max_depth=100 ..............\n",
      "[CV] n_estimators=773, max_features=sqrt, max_depth=100 ..............\n",
      "[CV]  n_estimators=773, max_features=sqrt, max_depth=100, total= 1.2min\n",
      "[CV] n_estimators=773, max_features=sqrt, max_depth=100 ..............\n",
      "[CV]  n_estimators=773, max_features=sqrt, max_depth=100, total= 1.2min\n",
      "[CV] n_estimators=1300, max_features=auto, max_depth=82 ..............\n",
      "[CV]  n_estimators=773, max_features=sqrt, max_depth=100, total= 1.2min\n",
      "[CV] n_estimators=1300, max_features=auto, max_depth=82 ..............\n",
      "[CV]  n_estimators=773, max_features=sqrt, max_depth=100, total= 1.2min\n",
      "[CV] n_estimators=1300, max_features=auto, max_depth=82 ..............\n",
      "[CV]  n_estimators=773, max_features=sqrt, max_depth=100, total= 1.4min\n",
      "[CV] n_estimators=1300, max_features=auto, max_depth=82 ..............\n",
      "[CV]  n_estimators=1300, max_features=auto, max_depth=82, total= 2.3min\n",
      "[CV]  n_estimators=1300, max_features=auto, max_depth=82, total= 2.3min\n",
      "[CV] n_estimators=1300, max_features=auto, max_depth=82 ..............\n",
      "[CV] n_estimators=1089, max_features=auto, max_depth=28 ..............\n",
      "[CV]  n_estimators=1300, max_features=auto, max_depth=82, total= 2.3min\n",
      "[CV] n_estimators=1089, max_features=auto, max_depth=28 ..............\n",
      "[CV]  n_estimators=1300, max_features=auto, max_depth=82, total= 2.5min\n",
      "[CV] n_estimators=1089, max_features=auto, max_depth=28 ..............\n",
      "[CV]  n_estimators=1089, max_features=auto, max_depth=28, total= 2.1min\n",
      "[CV]  n_estimators=1089, max_features=auto, max_depth=28, total= 2.1min\n",
      "[CV] n_estimators=1089, max_features=auto, max_depth=28 ..............\n",
      "[CV] n_estimators=1089, max_features=auto, max_depth=28 ..............\n",
      "[CV]  n_estimators=1300, max_features=auto, max_depth=82, total= 2.5min\n",
      "[CV] n_estimators=300, max_features=auto, max_depth=82 ...............\n",
      "[CV]  n_estimators=300, max_features=auto, max_depth=82, total=  27.7s\n",
      "[CV] n_estimators=300, max_features=auto, max_depth=82 ...............\n",
      "[CV]  n_estimators=1089, max_features=auto, max_depth=28, total= 1.8min\n",
      "[CV] n_estimators=300, max_features=auto, max_depth=82 ...............\n",
      "[CV]  n_estimators=300, max_features=auto, max_depth=82, total=  32.7s\n",
      "[CV] n_estimators=300, max_features=auto, max_depth=82 ...............\n"
     ]
    },
    {
     "ename": "KeyboardInterrupt",
     "evalue": "",
     "output_type": "error",
     "traceback": [
      "\u001b[0;31m---------------------------------------------------------------------------\u001b[0m",
      "\u001b[0;31mKeyboardInterrupt\u001b[0m                         Traceback (most recent call last)",
      "\u001b[0;32m<timed exec>\u001b[0m in \u001b[0;36m<module>\u001b[0;34m()\u001b[0m\n",
      "\u001b[0;32m/anaconda3/lib/python3.7/site-packages/sklearn/model_selection/_search.py\u001b[0m in \u001b[0;36mfit\u001b[0;34m(self, X, y, groups, **fit_params)\u001b[0m\n\u001b[1;32m    638\u001b[0m                                   error_score=self.error_score)\n\u001b[1;32m    639\u001b[0m           for parameters, (train, test) in product(candidate_params,\n\u001b[0;32m--> 640\u001b[0;31m                                                    cv.split(X, y, groups)))\n\u001b[0m\u001b[1;32m    641\u001b[0m \u001b[0;34m\u001b[0m\u001b[0m\n\u001b[1;32m    642\u001b[0m         \u001b[0;31m# if one choose to see train score, \"out\" will contain train score info\u001b[0m\u001b[0;34m\u001b[0m\u001b[0;34m\u001b[0m\u001b[0m\n",
      "\u001b[0;32m/anaconda3/lib/python3.7/site-packages/sklearn/externals/joblib/parallel.py\u001b[0m in \u001b[0;36m__call__\u001b[0;34m(self, iterable)\u001b[0m\n\u001b[1;32m    787\u001b[0m                 \u001b[0;31m# consumption.\u001b[0m\u001b[0;34m\u001b[0m\u001b[0;34m\u001b[0m\u001b[0m\n\u001b[1;32m    788\u001b[0m                 \u001b[0mself\u001b[0m\u001b[0;34m.\u001b[0m\u001b[0m_iterating\u001b[0m \u001b[0;34m=\u001b[0m \u001b[0;32mFalse\u001b[0m\u001b[0;34m\u001b[0m\u001b[0m\n\u001b[0;32m--> 789\u001b[0;31m             \u001b[0mself\u001b[0m\u001b[0;34m.\u001b[0m\u001b[0mretrieve\u001b[0m\u001b[0;34m(\u001b[0m\u001b[0;34m)\u001b[0m\u001b[0;34m\u001b[0m\u001b[0m\n\u001b[0m\u001b[1;32m    790\u001b[0m             \u001b[0;31m# Make sure that we get a last message telling us we are done\u001b[0m\u001b[0;34m\u001b[0m\u001b[0;34m\u001b[0m\u001b[0m\n\u001b[1;32m    791\u001b[0m             \u001b[0melapsed_time\u001b[0m \u001b[0;34m=\u001b[0m \u001b[0mtime\u001b[0m\u001b[0;34m.\u001b[0m\u001b[0mtime\u001b[0m\u001b[0;34m(\u001b[0m\u001b[0;34m)\u001b[0m \u001b[0;34m-\u001b[0m \u001b[0mself\u001b[0m\u001b[0;34m.\u001b[0m\u001b[0m_start_time\u001b[0m\u001b[0;34m\u001b[0m\u001b[0m\n",
      "\u001b[0;32m/anaconda3/lib/python3.7/site-packages/sklearn/externals/joblib/parallel.py\u001b[0m in \u001b[0;36mretrieve\u001b[0;34m(self)\u001b[0m\n\u001b[1;32m    697\u001b[0m             \u001b[0;32mtry\u001b[0m\u001b[0;34m:\u001b[0m\u001b[0;34m\u001b[0m\u001b[0m\n\u001b[1;32m    698\u001b[0m                 \u001b[0;32mif\u001b[0m \u001b[0mgetattr\u001b[0m\u001b[0;34m(\u001b[0m\u001b[0mself\u001b[0m\u001b[0;34m.\u001b[0m\u001b[0m_backend\u001b[0m\u001b[0;34m,\u001b[0m \u001b[0;34m'supports_timeout'\u001b[0m\u001b[0;34m,\u001b[0m \u001b[0;32mFalse\u001b[0m\u001b[0;34m)\u001b[0m\u001b[0;34m:\u001b[0m\u001b[0;34m\u001b[0m\u001b[0m\n\u001b[0;32m--> 699\u001b[0;31m                     \u001b[0mself\u001b[0m\u001b[0;34m.\u001b[0m\u001b[0m_output\u001b[0m\u001b[0;34m.\u001b[0m\u001b[0mextend\u001b[0m\u001b[0;34m(\u001b[0m\u001b[0mjob\u001b[0m\u001b[0;34m.\u001b[0m\u001b[0mget\u001b[0m\u001b[0;34m(\u001b[0m\u001b[0mtimeout\u001b[0m\u001b[0;34m=\u001b[0m\u001b[0mself\u001b[0m\u001b[0;34m.\u001b[0m\u001b[0mtimeout\u001b[0m\u001b[0;34m)\u001b[0m\u001b[0;34m)\u001b[0m\u001b[0;34m\u001b[0m\u001b[0m\n\u001b[0m\u001b[1;32m    700\u001b[0m                 \u001b[0;32melse\u001b[0m\u001b[0;34m:\u001b[0m\u001b[0;34m\u001b[0m\u001b[0m\n\u001b[1;32m    701\u001b[0m                     \u001b[0mself\u001b[0m\u001b[0;34m.\u001b[0m\u001b[0m_output\u001b[0m\u001b[0;34m.\u001b[0m\u001b[0mextend\u001b[0m\u001b[0;34m(\u001b[0m\u001b[0mjob\u001b[0m\u001b[0;34m.\u001b[0m\u001b[0mget\u001b[0m\u001b[0;34m(\u001b[0m\u001b[0;34m)\u001b[0m\u001b[0;34m)\u001b[0m\u001b[0;34m\u001b[0m\u001b[0m\n",
      "\u001b[0;32m/anaconda3/lib/python3.7/multiprocessing/pool.py\u001b[0m in \u001b[0;36mget\u001b[0;34m(self, timeout)\u001b[0m\n\u001b[1;32m    649\u001b[0m \u001b[0;34m\u001b[0m\u001b[0m\n\u001b[1;32m    650\u001b[0m     \u001b[0;32mdef\u001b[0m \u001b[0mget\u001b[0m\u001b[0;34m(\u001b[0m\u001b[0mself\u001b[0m\u001b[0;34m,\u001b[0m \u001b[0mtimeout\u001b[0m\u001b[0;34m=\u001b[0m\u001b[0;32mNone\u001b[0m\u001b[0;34m)\u001b[0m\u001b[0;34m:\u001b[0m\u001b[0;34m\u001b[0m\u001b[0m\n\u001b[0;32m--> 651\u001b[0;31m         \u001b[0mself\u001b[0m\u001b[0;34m.\u001b[0m\u001b[0mwait\u001b[0m\u001b[0;34m(\u001b[0m\u001b[0mtimeout\u001b[0m\u001b[0;34m)\u001b[0m\u001b[0;34m\u001b[0m\u001b[0m\n\u001b[0m\u001b[1;32m    652\u001b[0m         \u001b[0;32mif\u001b[0m \u001b[0;32mnot\u001b[0m \u001b[0mself\u001b[0m\u001b[0;34m.\u001b[0m\u001b[0mready\u001b[0m\u001b[0;34m(\u001b[0m\u001b[0;34m)\u001b[0m\u001b[0;34m:\u001b[0m\u001b[0;34m\u001b[0m\u001b[0m\n\u001b[1;32m    653\u001b[0m             \u001b[0;32mraise\u001b[0m \u001b[0mTimeoutError\u001b[0m\u001b[0;34m\u001b[0m\u001b[0m\n",
      "\u001b[0;32m/anaconda3/lib/python3.7/multiprocessing/pool.py\u001b[0m in \u001b[0;36mwait\u001b[0;34m(self, timeout)\u001b[0m\n\u001b[1;32m    646\u001b[0m \u001b[0;34m\u001b[0m\u001b[0m\n\u001b[1;32m    647\u001b[0m     \u001b[0;32mdef\u001b[0m \u001b[0mwait\u001b[0m\u001b[0;34m(\u001b[0m\u001b[0mself\u001b[0m\u001b[0;34m,\u001b[0m \u001b[0mtimeout\u001b[0m\u001b[0;34m=\u001b[0m\u001b[0;32mNone\u001b[0m\u001b[0;34m)\u001b[0m\u001b[0;34m:\u001b[0m\u001b[0;34m\u001b[0m\u001b[0m\n\u001b[0;32m--> 648\u001b[0;31m         \u001b[0mself\u001b[0m\u001b[0;34m.\u001b[0m\u001b[0m_event\u001b[0m\u001b[0;34m.\u001b[0m\u001b[0mwait\u001b[0m\u001b[0;34m(\u001b[0m\u001b[0mtimeout\u001b[0m\u001b[0;34m)\u001b[0m\u001b[0;34m\u001b[0m\u001b[0m\n\u001b[0m\u001b[1;32m    649\u001b[0m \u001b[0;34m\u001b[0m\u001b[0m\n\u001b[1;32m    650\u001b[0m     \u001b[0;32mdef\u001b[0m \u001b[0mget\u001b[0m\u001b[0;34m(\u001b[0m\u001b[0mself\u001b[0m\u001b[0;34m,\u001b[0m \u001b[0mtimeout\u001b[0m\u001b[0;34m=\u001b[0m\u001b[0;32mNone\u001b[0m\u001b[0;34m)\u001b[0m\u001b[0;34m:\u001b[0m\u001b[0;34m\u001b[0m\u001b[0m\n",
      "\u001b[0;32m/anaconda3/lib/python3.7/threading.py\u001b[0m in \u001b[0;36mwait\u001b[0;34m(self, timeout)\u001b[0m\n\u001b[1;32m    550\u001b[0m             \u001b[0msignaled\u001b[0m \u001b[0;34m=\u001b[0m \u001b[0mself\u001b[0m\u001b[0;34m.\u001b[0m\u001b[0m_flag\u001b[0m\u001b[0;34m\u001b[0m\u001b[0m\n\u001b[1;32m    551\u001b[0m             \u001b[0;32mif\u001b[0m \u001b[0;32mnot\u001b[0m \u001b[0msignaled\u001b[0m\u001b[0;34m:\u001b[0m\u001b[0;34m\u001b[0m\u001b[0m\n\u001b[0;32m--> 552\u001b[0;31m                 \u001b[0msignaled\u001b[0m \u001b[0;34m=\u001b[0m \u001b[0mself\u001b[0m\u001b[0;34m.\u001b[0m\u001b[0m_cond\u001b[0m\u001b[0;34m.\u001b[0m\u001b[0mwait\u001b[0m\u001b[0;34m(\u001b[0m\u001b[0mtimeout\u001b[0m\u001b[0;34m)\u001b[0m\u001b[0;34m\u001b[0m\u001b[0m\n\u001b[0m\u001b[1;32m    553\u001b[0m             \u001b[0;32mreturn\u001b[0m \u001b[0msignaled\u001b[0m\u001b[0;34m\u001b[0m\u001b[0m\n\u001b[1;32m    554\u001b[0m \u001b[0;34m\u001b[0m\u001b[0m\n",
      "\u001b[0;32m/anaconda3/lib/python3.7/threading.py\u001b[0m in \u001b[0;36mwait\u001b[0;34m(self, timeout)\u001b[0m\n\u001b[1;32m    294\u001b[0m         \u001b[0;32mtry\u001b[0m\u001b[0;34m:\u001b[0m    \u001b[0;31m# restore state no matter what (e.g., KeyboardInterrupt)\u001b[0m\u001b[0;34m\u001b[0m\u001b[0m\n\u001b[1;32m    295\u001b[0m             \u001b[0;32mif\u001b[0m \u001b[0mtimeout\u001b[0m \u001b[0;32mis\u001b[0m \u001b[0;32mNone\u001b[0m\u001b[0;34m:\u001b[0m\u001b[0;34m\u001b[0m\u001b[0m\n\u001b[0;32m--> 296\u001b[0;31m                 \u001b[0mwaiter\u001b[0m\u001b[0;34m.\u001b[0m\u001b[0macquire\u001b[0m\u001b[0;34m(\u001b[0m\u001b[0;34m)\u001b[0m\u001b[0;34m\u001b[0m\u001b[0m\n\u001b[0m\u001b[1;32m    297\u001b[0m                 \u001b[0mgotit\u001b[0m \u001b[0;34m=\u001b[0m \u001b[0;32mTrue\u001b[0m\u001b[0;34m\u001b[0m\u001b[0m\n\u001b[1;32m    298\u001b[0m             \u001b[0;32melse\u001b[0m\u001b[0;34m:\u001b[0m\u001b[0;34m\u001b[0m\u001b[0m\n",
      "\u001b[0;31mKeyboardInterrupt\u001b[0m: "
     ]
    }
   ],
   "source": [
    "%%time\n",
    "## Set up random grid \n",
    "\n",
    "n_estimators = [int(x) for x in np.linspace(start=300, stop = 1300, num = 20)]\n",
    "max_features = ['auto','sqrt','log2']\n",
    "max_depth = [int(x) for x in np.linspace(10, 100, 11, endpoint=True)]\n",
    "\n",
    "random_grid = {'n_estimators' : n_estimators,\n",
    "              'max_features' : max_features,\n",
    "              'max_depth' : max_depth\n",
    "              }\n",
    "\n",
    "clf = RandomForestClassifier()\n",
    "clf_random = RandomizedSearchCV(estimator = clf,\n",
    "                                param_distributions=random_grid,\n",
    "                               n_iter = 100,\n",
    "                               cv = 5,\n",
    "                                verbose = 2,\n",
    "                                random_state = 42,\n",
    "                                n_jobs = -1\n",
    "                               )\n",
    "clf_random.fit(train_feature,train_label)\n",
    "result = clf_random.predict(test_feature)"
   ]
  },
  {
   "cell_type": "code",
   "execution_count": 19,
   "metadata": {},
   "outputs": [
    {
     "ename": "NameError",
     "evalue": "name 'clf_random' is not defined",
     "output_type": "error",
     "traceback": [
      "\u001b[0;31m---------------------------------------------------------------------------\u001b[0m",
      "\u001b[0;31mNameError\u001b[0m                                 Traceback (most recent call last)",
      "\u001b[0;32m<ipython-input-19-fda82458f0ae>\u001b[0m in \u001b[0;36m<module>\u001b[0;34m()\u001b[0m\n\u001b[1;32m      1\u001b[0m \u001b[0;31m## Find the best parameters\u001b[0m\u001b[0;34m\u001b[0m\u001b[0;34m\u001b[0m\u001b[0m\n\u001b[0;32m----> 2\u001b[0;31m \u001b[0mclf_random\u001b[0m\u001b[0;34m.\u001b[0m\u001b[0mbest_params_\u001b[0m\u001b[0;34m\u001b[0m\u001b[0m\n\u001b[0m",
      "\u001b[0;31mNameError\u001b[0m: name 'clf_random' is not defined"
     ]
    }
   ],
   "source": [
    "## Find the best parameters\n",
    "clf_random.best_params_"
   ]
  },
  {
   "cell_type": "code",
   "execution_count": 13,
   "metadata": {},
   "outputs": [
    {
     "name": "stdout",
     "output_type": "stream",
     "text": [
      "Fitting 5 folds for each of 25 candidates, totalling 125 fits\n",
      "[CV] max_depth=62, max_features=sqrt, n_estimators=800 ...............\n",
      "[CV] max_depth=62, max_features=sqrt, n_estimators=800 ...............\n",
      "[CV] max_depth=62, max_features=sqrt, n_estimators=800 ...............\n",
      "[CV] max_depth=62, max_features=sqrt, n_estimators=800 ...............\n",
      "[CV]  max_depth=62, max_features=sqrt, n_estimators=800, total= 1.2min\n",
      "[CV] max_depth=62, max_features=sqrt, n_estimators=800 ...............\n",
      "[CV]  max_depth=62, max_features=sqrt, n_estimators=800, total= 1.2min\n",
      "[CV] max_depth=62, max_features=sqrt, n_estimators=820 ...............\n",
      "[CV]  max_depth=62, max_features=sqrt, n_estimators=800, total= 1.2min\n",
      "[CV] max_depth=62, max_features=sqrt, n_estimators=820 ...............\n",
      "[CV]  max_depth=62, max_features=sqrt, n_estimators=800, total= 1.2min\n",
      "[CV] max_depth=62, max_features=sqrt, n_estimators=820 ...............\n",
      "[CV]  max_depth=62, max_features=sqrt, n_estimators=800, total= 1.4min\n",
      "[CV] max_depth=62, max_features=sqrt, n_estimators=820 ...............\n",
      "[CV]  max_depth=62, max_features=sqrt, n_estimators=820, total= 1.4min\n",
      "[CV]  max_depth=62, max_features=sqrt, n_estimators=820, total= 1.4min\n",
      "[CV] max_depth=62, max_features=sqrt, n_estimators=820 ...............\n",
      "[CV] max_depth=62, max_features=sqrt, n_estimators=840 ...............\n",
      "[CV]  max_depth=62, max_features=sqrt, n_estimators=820, total= 1.4min\n",
      "[CV] max_depth=62, max_features=sqrt, n_estimators=840 ...............\n",
      "[CV]  max_depth=62, max_features=sqrt, n_estimators=820, total= 1.3min\n",
      "[CV] max_depth=62, max_features=sqrt, n_estimators=840 ...............\n",
      "[CV]  max_depth=62, max_features=sqrt, n_estimators=840, total= 1.3min\n",
      "[CV] max_depth=62, max_features=sqrt, n_estimators=840 ...............\n",
      "[CV]  max_depth=62, max_features=sqrt, n_estimators=820, total= 1.3min\n",
      "[CV] max_depth=62, max_features=sqrt, n_estimators=840 ...............\n",
      "[CV]  max_depth=62, max_features=sqrt, n_estimators=840, total= 1.3min\n",
      "[CV] max_depth=62, max_features=sqrt, n_estimators=860 ...............\n",
      "[CV]  max_depth=62, max_features=sqrt, n_estimators=840, total= 1.2min\n",
      "[CV] max_depth=62, max_features=sqrt, n_estimators=860 ...............\n",
      "[CV]  max_depth=62, max_features=sqrt, n_estimators=840, total= 1.2min\n",
      "[CV] max_depth=62, max_features=sqrt, n_estimators=860 ...............\n",
      "[CV]  max_depth=62, max_features=sqrt, n_estimators=840, total= 1.3min\n",
      "[CV] max_depth=62, max_features=sqrt, n_estimators=860 ...............\n",
      "[CV]  max_depth=62, max_features=sqrt, n_estimators=860, total= 1.3min\n",
      "[CV] max_depth=62, max_features=sqrt, n_estimators=860 ...............\n",
      "[CV]  max_depth=62, max_features=sqrt, n_estimators=860, total= 1.3min\n",
      "[CV] max_depth=62, max_features=sqrt, n_estimators=880 ...............\n",
      "[CV]  max_depth=62, max_features=sqrt, n_estimators=860, total= 1.3min\n",
      "[CV] max_depth=62, max_features=sqrt, n_estimators=880 ...............\n",
      "[CV]  max_depth=62, max_features=sqrt, n_estimators=860, total= 1.4min\n",
      "[CV] max_depth=62, max_features=sqrt, n_estimators=880 ...............\n",
      "[CV]  max_depth=62, max_features=sqrt, n_estimators=860, total= 1.4min\n",
      "[CV] max_depth=62, max_features=sqrt, n_estimators=880 ...............\n",
      "[CV]  max_depth=62, max_features=sqrt, n_estimators=880, total= 1.5min\n",
      "[CV] max_depth=62, max_features=sqrt, n_estimators=880 ...............\n",
      "[CV]  max_depth=62, max_features=sqrt, n_estimators=880, total= 1.5min\n",
      "[CV] max_depth=64, max_features=sqrt, n_estimators=800 ...............\n",
      "[CV]  max_depth=62, max_features=sqrt, n_estimators=880, total= 1.5min\n",
      "[CV] max_depth=64, max_features=sqrt, n_estimators=800 ...............\n",
      "[CV]  max_depth=62, max_features=sqrt, n_estimators=880, total= 1.5min\n",
      "[CV] max_depth=64, max_features=sqrt, n_estimators=800 ...............\n",
      "[CV]  max_depth=64, max_features=sqrt, n_estimators=800, total= 1.2min\n",
      "[CV] max_depth=64, max_features=sqrt, n_estimators=800 ...............\n",
      "[CV]  max_depth=64, max_features=sqrt, n_estimators=800, total= 1.2min\n",
      "[CV] max_depth=64, max_features=sqrt, n_estimators=800 ...............\n",
      "[CV]  max_depth=64, max_features=sqrt, n_estimators=800, total= 1.2min\n",
      "[CV] max_depth=64, max_features=sqrt, n_estimators=820 ...............\n",
      "[CV]  max_depth=62, max_features=sqrt, n_estimators=880, total= 1.4min\n",
      "[CV] max_depth=64, max_features=sqrt, n_estimators=820 ...............\n",
      "[CV]  max_depth=64, max_features=sqrt, n_estimators=800, total= 1.2min\n",
      "[CV] max_depth=64, max_features=sqrt, n_estimators=820 ...............\n",
      "[CV]  max_depth=64, max_features=sqrt, n_estimators=800, total= 1.2min\n",
      "[CV] max_depth=64, max_features=sqrt, n_estimators=820 ...............\n",
      "[CV]  max_depth=64, max_features=sqrt, n_estimators=820, total= 1.2min\n",
      "[CV] max_depth=64, max_features=sqrt, n_estimators=820 ...............\n",
      "[CV]  max_depth=64, max_features=sqrt, n_estimators=820, total= 1.2min\n",
      "[CV] max_depth=64, max_features=sqrt, n_estimators=840 ...............\n",
      "[CV]  max_depth=64, max_features=sqrt, n_estimators=820, total= 1.3min\n",
      "[CV] max_depth=64, max_features=sqrt, n_estimators=840 ...............\n"
     ]
    },
    {
     "name": "stderr",
     "output_type": "stream",
     "text": [
      "[Parallel(n_jobs=-1)]: Done  33 tasks      | elapsed: 11.9min\n"
     ]
    },
    {
     "name": "stdout",
     "output_type": "stream",
     "text": [
      "[CV]  max_depth=64, max_features=sqrt, n_estimators=820, total= 1.3min\n",
      "[CV] max_depth=64, max_features=sqrt, n_estimators=840 ...............\n",
      "[CV]  max_depth=64, max_features=sqrt, n_estimators=820, total= 1.4min\n",
      "[CV] max_depth=64, max_features=sqrt, n_estimators=840 ...............\n",
      "[CV]  max_depth=64, max_features=sqrt, n_estimators=840, total= 1.4min\n",
      "[CV] max_depth=64, max_features=sqrt, n_estimators=840 ...............\n",
      "[CV]  max_depth=64, max_features=sqrt, n_estimators=840, total= 1.4min\n",
      "[CV] max_depth=64, max_features=sqrt, n_estimators=860 ...............\n",
      "[CV]  max_depth=64, max_features=sqrt, n_estimators=840, total= 1.4min\n",
      "[CV] max_depth=64, max_features=sqrt, n_estimators=860 ...............\n",
      "[CV]  max_depth=64, max_features=sqrt, n_estimators=840, total= 1.5min\n",
      "[CV] max_depth=64, max_features=sqrt, n_estimators=860 ...............\n",
      "[CV]  max_depth=64, max_features=sqrt, n_estimators=840, total= 1.5min\n",
      "[CV] max_depth=64, max_features=sqrt, n_estimators=860 ...............\n",
      "[CV]  max_depth=64, max_features=sqrt, n_estimators=860, total= 1.4min\n",
      "[CV] max_depth=64, max_features=sqrt, n_estimators=860 ...............\n",
      "[CV]  max_depth=64, max_features=sqrt, n_estimators=860, total= 1.3min\n",
      "[CV] max_depth=64, max_features=sqrt, n_estimators=880 ...............\n",
      "[CV]  max_depth=64, max_features=sqrt, n_estimators=860, total= 1.4min\n",
      "[CV] max_depth=64, max_features=sqrt, n_estimators=880 ...............\n",
      "[CV]  max_depth=64, max_features=sqrt, n_estimators=860, total= 1.4min\n",
      "[CV] max_depth=64, max_features=sqrt, n_estimators=880 ...............\n",
      "[CV]  max_depth=64, max_features=sqrt, n_estimators=860, total= 1.8min\n",
      "[CV] max_depth=64, max_features=sqrt, n_estimators=880 ...............\n",
      "[CV]  max_depth=64, max_features=sqrt, n_estimators=880, total= 1.8min\n",
      "[CV] max_depth=64, max_features=sqrt, n_estimators=880 ...............\n",
      "[CV]  max_depth=64, max_features=sqrt, n_estimators=880, total= 1.7min\n",
      "[CV] max_depth=66, max_features=sqrt, n_estimators=800 ...............\n",
      "[CV]  max_depth=64, max_features=sqrt, n_estimators=880, total= 1.7min\n",
      "[CV] max_depth=66, max_features=sqrt, n_estimators=800 ...............\n",
      "[CV]  max_depth=66, max_features=sqrt, n_estimators=800, total= 1.2min\n",
      "[CV] max_depth=66, max_features=sqrt, n_estimators=800 ...............\n",
      "[CV]  max_depth=64, max_features=sqrt, n_estimators=880, total= 1.3min\n",
      "[CV] max_depth=66, max_features=sqrt, n_estimators=800 ...............\n",
      "[CV]  max_depth=66, max_features=sqrt, n_estimators=800, total= 1.2min\n",
      "[CV] max_depth=66, max_features=sqrt, n_estimators=800 ...............\n",
      "[CV]  max_depth=64, max_features=sqrt, n_estimators=880, total= 1.3min\n",
      "[CV] max_depth=66, max_features=sqrt, n_estimators=820 ...............\n",
      "[CV]  max_depth=66, max_features=sqrt, n_estimators=800, total= 1.1min\n",
      "[CV] max_depth=66, max_features=sqrt, n_estimators=820 ...............\n",
      "[CV]  max_depth=66, max_features=sqrt, n_estimators=800, total= 1.1min\n",
      "[CV] max_depth=66, max_features=sqrt, n_estimators=820 ...............\n",
      "[CV]  max_depth=66, max_features=sqrt, n_estimators=800, total= 1.1min\n",
      "[CV] max_depth=66, max_features=sqrt, n_estimators=820 ...............\n",
      "[CV]  max_depth=66, max_features=sqrt, n_estimators=820, total= 1.1min\n",
      "[CV] max_depth=66, max_features=sqrt, n_estimators=820 ...............\n",
      "[CV]  max_depth=66, max_features=sqrt, n_estimators=820, total= 1.1min\n",
      "[CV] max_depth=66, max_features=sqrt, n_estimators=840 ...............\n",
      "[CV]  max_depth=66, max_features=sqrt, n_estimators=820, total= 1.2min\n",
      "[CV] max_depth=66, max_features=sqrt, n_estimators=840 ...............\n",
      "[CV]  max_depth=66, max_features=sqrt, n_estimators=820, total= 1.2min\n",
      "[CV] max_depth=66, max_features=sqrt, n_estimators=840 ...............\n",
      "[CV]  max_depth=66, max_features=sqrt, n_estimators=820, total= 1.2min\n",
      "[CV] max_depth=66, max_features=sqrt, n_estimators=840 ...............\n",
      "[CV]  max_depth=66, max_features=sqrt, n_estimators=840, total= 1.2min\n",
      "[CV] max_depth=66, max_features=sqrt, n_estimators=840 ...............\n",
      "[CV]  max_depth=66, max_features=sqrt, n_estimators=840, total= 1.2min\n",
      "[CV] max_depth=66, max_features=sqrt, n_estimators=860 ...............\n",
      "[CV]  max_depth=66, max_features=sqrt, n_estimators=840, total= 1.2min\n",
      "[CV] max_depth=66, max_features=sqrt, n_estimators=860 ...............\n",
      "[CV]  max_depth=66, max_features=sqrt, n_estimators=840, total= 1.2min\n",
      "[CV] max_depth=66, max_features=sqrt, n_estimators=860 ...............\n",
      "[CV]  max_depth=66, max_features=sqrt, n_estimators=840, total= 1.2min\n",
      "[CV] max_depth=66, max_features=sqrt, n_estimators=860 ...............\n",
      "[CV]  max_depth=66, max_features=sqrt, n_estimators=860, total= 1.2min\n",
      "[CV] max_depth=66, max_features=sqrt, n_estimators=860 ...............\n",
      "[CV]  max_depth=66, max_features=sqrt, n_estimators=860, total= 1.2min\n",
      "[CV] max_depth=66, max_features=sqrt, n_estimators=880 ...............\n",
      "[CV]  max_depth=66, max_features=sqrt, n_estimators=860, total= 1.2min\n",
      "[CV] max_depth=66, max_features=sqrt, n_estimators=880 ...............\n",
      "[CV]  max_depth=66, max_features=sqrt, n_estimators=860, total= 1.2min\n",
      "[CV] max_depth=66, max_features=sqrt, n_estimators=880 ...............\n",
      "[CV]  max_depth=66, max_features=sqrt, n_estimators=860, total= 1.2min\n",
      "[CV] max_depth=66, max_features=sqrt, n_estimators=880 ...............\n",
      "[CV]  max_depth=66, max_features=sqrt, n_estimators=880, total= 1.2min\n",
      "[CV] max_depth=66, max_features=sqrt, n_estimators=880 ...............\n",
      "[CV]  max_depth=66, max_features=sqrt, n_estimators=880, total= 1.2min\n",
      "[CV] max_depth=68, max_features=sqrt, n_estimators=800 ...............\n",
      "[CV]  max_depth=66, max_features=sqrt, n_estimators=880, total= 1.2min\n",
      "[CV] max_depth=68, max_features=sqrt, n_estimators=800 ...............\n",
      "[CV]  max_depth=68, max_features=sqrt, n_estimators=800, total= 1.1min\n",
      "[CV] max_depth=68, max_features=sqrt, n_estimators=800 ...............\n",
      "[CV]  max_depth=66, max_features=sqrt, n_estimators=880, total= 1.2min\n",
      "[CV] max_depth=68, max_features=sqrt, n_estimators=800 ...............\n",
      "[CV]  max_depth=66, max_features=sqrt, n_estimators=880, total= 1.2min\n",
      "[CV] max_depth=68, max_features=sqrt, n_estimators=800 ...............\n",
      "[CV]  max_depth=68, max_features=sqrt, n_estimators=800, total= 1.1min\n",
      "[CV] max_depth=68, max_features=sqrt, n_estimators=820 ...............\n",
      "[CV]  max_depth=68, max_features=sqrt, n_estimators=800, total= 1.1min\n",
      "[CV] max_depth=68, max_features=sqrt, n_estimators=820 ...............\n",
      "[CV]  max_depth=68, max_features=sqrt, n_estimators=800, total= 1.1min\n",
      "[CV] max_depth=68, max_features=sqrt, n_estimators=820 ...............\n",
      "[CV]  max_depth=68, max_features=sqrt, n_estimators=800, total= 1.2min\n",
      "[CV] max_depth=68, max_features=sqrt, n_estimators=820 ...............\n",
      "[CV]  max_depth=68, max_features=sqrt, n_estimators=820, total= 1.1min\n",
      "[CV] max_depth=68, max_features=sqrt, n_estimators=820 ...............\n",
      "[CV]  max_depth=68, max_features=sqrt, n_estimators=820, total= 1.1min\n",
      "[CV] max_depth=68, max_features=sqrt, n_estimators=840 ...............\n",
      "[CV]  max_depth=68, max_features=sqrt, n_estimators=820, total= 1.1min\n",
      "[CV] max_depth=68, max_features=sqrt, n_estimators=840 ...............\n",
      "[CV]  max_depth=68, max_features=sqrt, n_estimators=820, total= 1.1min\n",
      "[CV] max_depth=68, max_features=sqrt, n_estimators=840 ...............\n",
      "[CV]  max_depth=68, max_features=sqrt, n_estimators=820, total= 1.2min\n",
      "[CV] max_depth=68, max_features=sqrt, n_estimators=840 ...............\n",
      "[CV]  max_depth=68, max_features=sqrt, n_estimators=840, total= 1.2min\n",
      "[CV] max_depth=68, max_features=sqrt, n_estimators=840 ...............\n",
      "[CV]  max_depth=68, max_features=sqrt, n_estimators=840, total= 1.2min\n",
      "[CV] max_depth=68, max_features=sqrt, n_estimators=860 ...............\n",
      "[CV]  max_depth=68, max_features=sqrt, n_estimators=840, total= 1.2min\n",
      "[CV] max_depth=68, max_features=sqrt, n_estimators=860 ...............\n",
      "[CV]  max_depth=68, max_features=sqrt, n_estimators=840, total= 1.2min\n",
      "[CV] max_depth=68, max_features=sqrt, n_estimators=860 ...............\n",
      "[CV]  max_depth=68, max_features=sqrt, n_estimators=840, total= 1.2min\n",
      "[CV] max_depth=68, max_features=sqrt, n_estimators=860 ...............\n",
      "[CV]  max_depth=68, max_features=sqrt, n_estimators=860, total= 1.2min\n",
      "[CV] max_depth=68, max_features=sqrt, n_estimators=860 ...............\n",
      "[CV]  max_depth=68, max_features=sqrt, n_estimators=860, total= 1.2min\n",
      "[CV] max_depth=68, max_features=sqrt, n_estimators=880 ...............\n",
      "[CV]  max_depth=68, max_features=sqrt, n_estimators=860, total= 1.2min\n",
      "[CV] max_depth=68, max_features=sqrt, n_estimators=880 ...............\n",
      "[CV]  max_depth=68, max_features=sqrt, n_estimators=860, total= 1.2min\n",
      "[CV] max_depth=68, max_features=sqrt, n_estimators=880 ...............\n",
      "[CV]  max_depth=68, max_features=sqrt, n_estimators=860, total= 1.2min\n",
      "[CV] max_depth=68, max_features=sqrt, n_estimators=880 ...............\n",
      "[CV]  max_depth=68, max_features=sqrt, n_estimators=880, total= 1.2min\n",
      "[CV] max_depth=68, max_features=sqrt, n_estimators=880 ...............\n",
      "[CV]  max_depth=68, max_features=sqrt, n_estimators=880, total= 1.2min\n",
      "[CV] max_depth=70, max_features=sqrt, n_estimators=800 ...............\n",
      "[CV]  max_depth=68, max_features=sqrt, n_estimators=880, total= 1.2min\n",
      "[CV] max_depth=70, max_features=sqrt, n_estimators=800 ...............\n",
      "[CV]  max_depth=68, max_features=sqrt, n_estimators=880, total= 1.3min\n",
      "[CV] max_depth=70, max_features=sqrt, n_estimators=800 ...............\n",
      "[CV]  max_depth=68, max_features=sqrt, n_estimators=880, total= 1.3min\n",
      "[CV] max_depth=70, max_features=sqrt, n_estimators=800 ...............\n",
      "[CV]  max_depth=70, max_features=sqrt, n_estimators=800, total= 1.2min\n",
      "[CV] max_depth=70, max_features=sqrt, n_estimators=800 ...............\n",
      "[CV]  max_depth=70, max_features=sqrt, n_estimators=800, total= 1.2min\n",
      "[CV] max_depth=70, max_features=sqrt, n_estimators=820 ...............\n",
      "[CV]  max_depth=70, max_features=sqrt, n_estimators=800, total= 1.2min\n",
      "[CV] max_depth=70, max_features=sqrt, n_estimators=820 ...............\n",
      "[CV]  max_depth=70, max_features=sqrt, n_estimators=800, total= 1.2min\n",
      "[CV] max_depth=70, max_features=sqrt, n_estimators=820 ...............\n",
      "[CV]  max_depth=70, max_features=sqrt, n_estimators=800, total= 1.1min\n",
      "[CV] max_depth=70, max_features=sqrt, n_estimators=820 ...............\n",
      "[CV]  max_depth=70, max_features=sqrt, n_estimators=820, total= 1.1min\n",
      "[CV] max_depth=70, max_features=sqrt, n_estimators=820 ...............\n",
      "[CV]  max_depth=70, max_features=sqrt, n_estimators=820, total= 1.1min\n",
      "[CV] max_depth=70, max_features=sqrt, n_estimators=840 ...............\n",
      "[CV]  max_depth=70, max_features=sqrt, n_estimators=820, total= 1.1min\n",
      "[CV] max_depth=70, max_features=sqrt, n_estimators=840 ...............\n",
      "[CV]  max_depth=70, max_features=sqrt, n_estimators=820, total= 1.1min\n",
      "[CV] max_depth=70, max_features=sqrt, n_estimators=840 ...............\n",
      "[CV]  max_depth=70, max_features=sqrt, n_estimators=820, total= 1.2min\n",
      "[CV] max_depth=70, max_features=sqrt, n_estimators=840 ...............\n",
      "[CV]  max_depth=70, max_features=sqrt, n_estimators=840, total= 1.2min\n",
      "[CV] max_depth=70, max_features=sqrt, n_estimators=840 ...............\n",
      "[CV]  max_depth=70, max_features=sqrt, n_estimators=840, total= 1.2min\n",
      "[CV] max_depth=70, max_features=sqrt, n_estimators=860 ...............\n",
      "[CV]  max_depth=70, max_features=sqrt, n_estimators=840, total= 1.2min\n",
      "[CV] max_depth=70, max_features=sqrt, n_estimators=860 ...............\n",
      "[CV]  max_depth=70, max_features=sqrt, n_estimators=840, total= 1.2min\n",
      "[CV] max_depth=70, max_features=sqrt, n_estimators=860 ...............\n",
      "[CV]  max_depth=70, max_features=sqrt, n_estimators=840, total= 1.2min\n",
      "[CV] max_depth=70, max_features=sqrt, n_estimators=860 ...............\n",
      "[CV]  max_depth=70, max_features=sqrt, n_estimators=860, total= 1.2min\n",
      "[CV] max_depth=70, max_features=sqrt, n_estimators=860 ...............\n",
      "[CV]  max_depth=70, max_features=sqrt, n_estimators=860, total= 1.2min\n",
      "[CV] max_depth=70, max_features=sqrt, n_estimators=880 ...............\n",
      "[CV]  max_depth=70, max_features=sqrt, n_estimators=860, total= 1.2min\n",
      "[CV] max_depth=70, max_features=sqrt, n_estimators=880 ...............\n",
      "[CV]  max_depth=70, max_features=sqrt, n_estimators=860, total= 1.2min\n",
      "[CV] max_depth=70, max_features=sqrt, n_estimators=880 ...............\n",
      "[CV]  max_depth=70, max_features=sqrt, n_estimators=860, total= 1.2min\n",
      "[CV] max_depth=70, max_features=sqrt, n_estimators=880 ...............\n",
      "[CV]  max_depth=70, max_features=sqrt, n_estimators=880, total= 1.2min\n",
      "[CV] max_depth=70, max_features=sqrt, n_estimators=880 ...............\n",
      "[CV]  max_depth=70, max_features=sqrt, n_estimators=880, total= 1.2min\n",
      "[CV]  max_depth=70, max_features=sqrt, n_estimators=880, total= 1.2min\n",
      "[CV]  max_depth=70, max_features=sqrt, n_estimators=880, total= 1.1min\n",
      "[CV]  max_depth=70, max_features=sqrt, n_estimators=880, total=  51.6s\n"
     ]
    },
    {
     "name": "stderr",
     "output_type": "stream",
     "text": [
      "[Parallel(n_jobs=-1)]: Done 125 out of 125 | elapsed: 39.8min finished\n"
     ]
    },
    {
     "name": "stdout",
     "output_type": "stream",
     "text": [
      "CPU times: user 1min 9s, sys: 1.38 s, total: 1min 10s\n",
      "Wall time: 40min 49s\n"
     ]
    }
   ],
   "source": [
    "%%time\n",
    "clf = RandomForestClassifier()\n",
    "cv_param = {'n_estimators' : [800,820,840,860,880],\n",
    "              'max_features' : ['sqrt'],\n",
    "              'max_depth' : [62,64,66,68,70]}\n",
    "clf_cv = GridSearchCV(estimator = clf, param_grid = cv_param, cv = 5, n_jobs = -1, verbose =2)\n",
    "clf_cv.fit(train_feature,train_label)\n",
    "cv_result = clf_cv.predict(test_feature)"
   ]
  },
  {
   "cell_type": "code",
   "execution_count": 14,
   "metadata": {},
   "outputs": [
    {
     "data": {
      "text/plain": [
       "{'max_depth': 62, 'max_features': 'sqrt', 'n_estimators': 840}"
      ]
     },
     "execution_count": 14,
     "metadata": {},
     "output_type": "execute_result"
    }
   ],
   "source": [
    "clf_cv.best_params_"
   ]
  },
  {
   "cell_type": "code",
   "execution_count": 15,
   "metadata": {},
   "outputs": [
    {
     "name": "stdout",
     "output_type": "stream",
     "text": [
      "Accuracy: 0.424\n"
     ]
    }
   ],
   "source": [
    "clf_tunned = RandomForestClassifier(max_depth = 62, \n",
    "                                    max_features = 'sqrt',\n",
    "                                    n_estimators = 840,\n",
    "                                    random_state=0)\n",
    "clf_tunned.fit(train_feature, train_label)\n",
    "result = clf_tunned.predict(test_feature)\n",
    "print('Random Forest Accuracy:', accuracy_score(test_label, clf_tunned.predict(test_feature)))"
   ]
  },
  {
   "cell_type": "markdown",
   "metadata": {},
   "source": [
    "## SVM"
   ]
  },
  {
   "cell_type": "code",
   "execution_count": 12,
   "metadata": {},
   "outputs": [
    {
     "name": "stdout",
     "output_type": "stream",
     "text": [
      "CPU times: user 26min 41s, sys: 3.74 s, total: 26min 44s\n",
      "Wall time: 26min 53s\n"
     ]
    }
   ],
   "source": [
    "%%time\n",
    "Cs = [0.1,1,10,100,1000]\n",
    "param_grid = {'C':Cs}\n",
    "grid_search = GridSearchCV(svm.SVC(kernel='linear'), param_grid, cv=5)\n",
    "grid_search.fit(train_feature, train_label)\n",
    "score = cross_val_score(grid_search, train_feature, train_label, scoring='accuracy',cv=5).tolist()  \n",
    "best_params = grid_search.best_params_"
   ]
  },
  {
   "cell_type": "code",
   "execution_count": 13,
   "metadata": {},
   "outputs": [
    {
     "data": {
      "text/plain": [
       "{'C': 0.1}"
      ]
     },
     "execution_count": 13,
     "metadata": {},
     "output_type": "execute_result"
    }
   ],
   "source": [
    "best_params"
   ]
  },
  {
   "cell_type": "code",
   "execution_count": 14,
   "metadata": {},
   "outputs": [
    {
     "data": {
      "text/plain": [
       "0.4848"
      ]
     },
     "execution_count": 14,
     "metadata": {},
     "output_type": "execute_result"
    }
   ],
   "source": [
    "from sklearn.svm import SVC \n",
    "svm_model_linear = SVC(kernel = 'linear', C = 0.1).fit(train_feature, train_label) \n",
    "svm_predictions = svm_model_linear.predict(test_feature) \n",
    "  \n",
    "# model accuracy for X_test   \n",
    "accuracy = svm_model_linear.score(test_feature, test_label)\n",
    "print('SVM Accuracy:',svm_model_linear.score(test_feature, test_label))"
   ]
  }
 ],
 "metadata": {
  "kernelspec": {
   "display_name": "Python 3",
   "language": "python",
   "name": "python3"
  },
  "language_info": {
   "codemirror_mode": {
    "name": "ipython",
    "version": 3
   },
   "file_extension": ".py",
   "mimetype": "text/x-python",
   "name": "python",
   "nbconvert_exporter": "python",
   "pygments_lexer": "ipython3",
   "version": "3.6.9"
  }
 },
 "nbformat": 4,
 "nbformat_minor": 2
}
