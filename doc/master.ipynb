{
 "cells": [
  {
   "cell_type": "code",
   "execution_count": 20,
   "metadata": {},
   "outputs": [],
   "source": [
    "import sys\n",
    "import os\n",
    "import matplotlib.pyplot as plt\n",
    "import numpy as np\n",
    "import pandas as pd\n",
    "import PIL\n",
    "from PIL import Image\n",
    "from scipy.io import loadmat\n",
    "from scipy.spatial.distance import pdist\n",
    "\n",
    "from sklearn import ensemble\n",
    "from sklearn.model_selection import train_test_split, cross_validate, StratifiedKFold\n",
    "from sklearn.metrics import accuracy_score, make_scorer\n",
    "from statistics import mean\n",
    "import time\n",
    "\n",
    "from sklearn.model_selection import StratifiedKFold\n",
    "from sklearn.dummy import DummyClassifier\n",
    "from sklearn.neighbors import KNeighborsClassifier\n",
    "from sklearn.preprocessing import StandardScaler\n",
    "from sklearn.tree import DecisionTreeClassifier\n",
    "from sklearn.ensemble import RandomForestClassifier\n",
    "from sklearn.svm import LinearSVC, SVC\n",
    "from sklearn.linear_model import LogisticRegression\n",
    "from sklearn.neural_network import MLPClassifier\n",
    "\n",
    "from keras.callbacks import EarlyStopping\n",
    "from keras import models\n",
    "from keras import layers\n",
    "from keras.preprocessing.image import ImageDataGenerator\n",
    "from keras import regularizers\n",
    "from keras.utils.np_utils import to_categorical"
   ]
  },
  {
   "cell_type": "markdown",
   "metadata": {},
   "source": [
    "## Fundamental Configurations"
   ]
  },
  {
   "cell_type": "code",
   "execution_count": 4,
   "metadata": {},
   "outputs": [],
   "source": [
    "\"\"\"\n",
    "Path\n",
    "\"\"\"\n",
    "DATA_PATH = \"../data/train_set\"\n",
    "IMAGE_FOLDER = os.path.join(DATA_PATH, \"images\")\n",
    "POINTS_FOLDER = os.path.join(DATA_PATH, \"points\")\n",
    "LABELS_FOLDER = DATA_PATH\n",
    "\n",
    "RANDOM_SEED = 13"
   ]
  },
  {
   "cell_type": "markdown",
   "metadata": {},
   "source": [
    "## Data Import"
   ]
  },
  {
   "cell_type": "code",
   "execution_count": 2,
   "metadata": {},
   "outputs": [],
   "source": [
    "def read_all_images(height = 750, width = 1000, crop_gray = False, points = None):\n",
    "    \"\"\"\n",
    "    Read 2500 training images from the IMAGE_FOLDER, resized to 'height x width'\n",
    "    \n",
    "    :param height: resized height of images\n",
    "    :param width: resized width of images\n",
    "    :return: a 4d numpy array in form of (index, height, width, channels), channels is RGB \n",
    "    \"\"\"\n",
    "    files = [file for file in os.listdir(IMAGE_FOLDER) if file.endswith('.jpg')]\n",
    "    files.sort()\n",
    "    \n",
    "    \n",
    "    face_images_arr = np.zeros((len(files), height, width, 1 if crop_gray else 3 ))\n",
    "    \n",
    "    for index, filename in enumerate(files):\n",
    "        face_img = Image.open(os.path.join(IMAGE_FOLDER, filename))\n",
    "        # if crop_gray, then the image will be cropped to fit the facial part\n",
    "        # and then it will return a grayscale version\n",
    "        if crop_gray:\n",
    "            face_img = face_img.convert('L')\n",
    "\n",
    "            face_points = points[index]\n",
    "            # calculate crop position\n",
    "            left = np.min(face_points[:,0]) \n",
    "            right = np.max(face_points[:,0]) \n",
    "            top = np.min(face_points[:,1])\n",
    "            bot = np.max(face_points[:,1])\n",
    "\n",
    "            face_img = face_img.crop((left,top,right,bot))\n",
    "        \n",
    "        face_img = face_img.resize((width, height))\n",
    "        # fit the dimension\n",
    "        face_images_arr[index] = np.array(face_img).reshape((height,width, -1))\n",
    "        \n",
    "    return face_images_arr\n",
    "\n",
    "def read_labels():\n",
    "    \"\"\"\n",
    "    Read the image labels from the label.csv file\n",
    "    :return: a pandas.DataFrame with 3 columns: 'emotion_idx','emotion_cat','type'\n",
    "    \"\"\"\n",
    "    labels_df = pd.read_csv(os.path.join(LABELS_FOLDER, 'label.csv'))\n",
    "    labels_df = labels_df.loc[:,['emotion_idx','emotion_cat','type']]\n",
    "    return labels_df\n",
    "    \n",
    "\n",
    "def read_all_points():\n",
    "    \"\"\"\n",
    "    Read all face coordinates points\n",
    "    :return: a tuple of shape (2500, 78, 2). Because for each of 2500 images there are 78 points associated with it\n",
    "    \"\"\"\n",
    "    files = [file for file in os.listdir(POINTS_FOLDER) if file.endswith('.mat')]\n",
    "    files.sort()\n",
    "    \n",
    "    face_points = np.zeros((len(files), 78, 2))\n",
    "    for index, filename in enumerate(files):\n",
    "        face_points_dict = loadmat(os.path.join(POINTS_FOLDER, filename))\n",
    "    \n",
    "        face_points[index] = face_points_dict.get('faceCoordinatesUnwarped',  face_points_dict.get('faceCoordinates2'))\n",
    "    return face_points\n",
    "\n",
    "def load_data(loadImage = False, height = 750, width = 1000, crop_gray = False):\n",
    "    \"\"\"\n",
    "    Load training data from local files\n",
    "    \n",
    "    :param loadImage: if it's False, this function will not load original images\n",
    "    :return: a tuple (images, points, labels)\n",
    "        if loadImage is False, the 'images' will None. Otherwise its a numpy array with shape (2500,750,1000,3)\n",
    "        points is a numpy array with shape (2500, 78, 2)\n",
    "        labels is a pandas.DataFrame\n",
    "    \"\"\"\n",
    "    \n",
    "    face_images_points = read_all_points()\n",
    "    \n",
    "    face_images_ndarr =  read_all_images(height, width, crop_gray, face_images_points) if loadImage else None\n",
    "    labels = read_labels()\n",
    "    \n",
    "    return face_images_ndarr, face_images_points, labels\n",
    "\n",
    "\n",
    "\n",
    "def show_image(index, all_images = None):\n",
    "    \"\"\"\n",
    "    Display the (index)th image.\n",
    "    all_images is passed, the this image numpy array can be easily retrieved from it. \n",
    "    Otherwise the original images needs to be read from disk\n",
    "    \n",
    "    :param index: the index to specify which image to disply\n",
    "    :param all_images: the return value of 'read_all_images' function\n",
    "    \"\"\"\n",
    "    \n",
    "    if all_images is not None and index < len(all_images):\n",
    "        face_img_arr = all_images[index].astype('uint8')\n",
    "        if face_img_arr.shape[2] == 1:\n",
    "            face_img_arr = face_img_arr.reshape((face_img_arr.shape[0],face_img_arr.shape[1]))\n",
    "    else:\n",
    "        face_img_arr = plt.imread(os.path.join(IMAGE_FOLDER, f\"{index:04}.jpg\"))\n",
    "    plt.imshow(face_img_arr, cmap='gray')\n",
    "    plt.show()\n"
   ]
  },
  {
   "cell_type": "code",
   "execution_count": 5,
   "metadata": {},
   "outputs": [],
   "source": [
    "\"\"\"\n",
    "Read images with 200x200 resolution and facial points, labels\n",
    "\"\"\"\n",
    "height = 200\n",
    "width = 200\n",
    "images, points, labels = load_data(loadImage= False,crop_gray=True, height = height, width = width)"
   ]
  },
  {
   "cell_type": "code",
   "execution_count": 6,
   "metadata": {},
   "outputs": [
    {
     "name": "stdout",
     "output_type": "stream",
     "text": [
      "shape of points (2500, 78, 2)\n"
     ]
    }
   ],
   "source": [
    "if images is not None:\n",
    "    print(\"shape of image\",images.shape)\n",
    "    print(f\"memory of image ndarray is {sys.getsizeof(images)/1024/1024/1024:.2f} GB\")\n",
    "if points is not None:\n",
    "    print(\"shape of points\",points.shape)"
   ]
  },
  {
   "cell_type": "markdown",
   "metadata": {},
   "source": [
    "## Data Preprocessing And Data Featuring"
   ]
  },
  {
   "cell_type": "code",
   "execution_count": 12,
   "metadata": {},
   "outputs": [
    {
     "name": "stdout",
     "output_type": "stream",
     "text": [
      "(2500, 3003) (2500, 156) (2500,)\n"
     ]
    }
   ],
   "source": [
    "\"\"\"\n",
    "Preprocessing\n",
    "\"\"\"\n",
    "\n",
    "X_distances = np.zeros((2500, 3003))\n",
    "for i in range(2500):\n",
    "    current = points[i]\n",
    "    X_distances[i,] = pdist(current)\n",
    "\n",
    "\n",
    "X_points = points.reshape((points.shape[0], -1))\n",
    "\n",
    "y = labels['emotion_idx'].values - 1\n",
    "\n",
    "print(X_distances.shape,X_points.shape, y.shape)"
   ]
  },
  {
   "cell_type": "markdown",
   "metadata": {},
   "source": [
    "## Baseline Model"
   ]
  },
  {
   "cell_type": "code",
   "execution_count": 21,
   "metadata": {},
   "outputs": [
    {
     "name": "stdout",
     "output_type": "stream",
     "text": [
      "###### Time: 94.284029s ######\n",
      "###### Time: 95.914360s ######\n",
      "###### Time: 97.368861s ######\n",
      "###### Time: 94.959776s ######\n"
     ]
    },
    {
     "data": {
      "image/png": "[encoded data removed]",
      "text/plain": [
       "<Figure size 432x288 with 1 Axes>"
      ]
     },
     "metadata": {
      "needs_background": "light"
     },
     "output_type": "display_data"
    }
   ],
   "source": [
    "X = X_distances\n",
    "Y = labels['emotion_idx']\n",
    "plt.figure()\n",
    "original_params = {'n_estimators': 1000, 'max_features': 1, 'max_depth': 1,\n",
    "                   'learning_rate': 0.1}\n",
    "for label, color, setting in [('learning_rate=0.1','orange',\n",
    "                               {'learning_rate':0.1}),\n",
    "                              ('learning_rate=0.2','turquoise',\n",
    "                               {'learning_rate':0.2}),\n",
    "                              ('learning_rate=0.15','blue',\n",
    "                               {'learning_rate':0.15}),\n",
    "                              ('learning_rate=0.05','gray',\n",
    "                               {'learning_rate':0.1})]: \n",
    "    start_time = time.time()\n",
    "    skf = StratifiedKFold(n_splits = 5, random_state = 666)\n",
    "    params = dict(original_params)\n",
    "    base_score = np.zeros((5,params['n_estimators']), dtype=np.float64)                              \n",
    "    params.update(setting)\n",
    "    clf = ensemble.GradientBoostingClassifier(**params)\n",
    "    \n",
    "    for j, (train_index, test_index) in zip(range(5), skf.split(X, Y)):\n",
    "        X_train, Y_train = X[train_index], Y[train_index]\n",
    "        X_test, Y_test = X[test_index], Y[test_index]\n",
    "        clf.fit(X_train, Y_train)\n",
    "\n",
    "        for i, Y_pred in enumerate(clf.staged_predict(X_test)):\n",
    "            base_score[j,i] = accuracy_score(Y_test, Y_pred)\n",
    "        \n",
    "    score = [mean(base_score[:,i]) for i in range(1000)]\n",
    "    plt.plot(range(1, 1001), score, color=color, label=label)\n",
    "    print(\"###### Time: %f\" % (time.time() - start_time) + \"s ######\")\n",
    "\n",
    "plt.legend(loc='upper left')\n",
    "plt.xlabel('Boosting Iterations')\n",
    "plt.ylabel('CV Test Accuracy')\n",
    "plt.title('Baseline Model')\n",
    "plt.show()"
   ]
  },
  {
   "cell_type": "code",
   "execution_count": 37,
   "metadata": {},
   "outputs": [
    {
     "name": "stdout",
     "output_type": "stream",
     "text": [
      "###### Time: 93.063822s ######\n",
      "###### Time: 105.025655s ######\n",
      "###### Time: 106.438205s ######\n",
      "###### Time: 105.194551s ######\n",
      "###### Time: 98.242049s ######\n"
     ]
    },
    {
     "data": {
      "image/png": "[encoded data removed]",
      "text/plain": [
       "<Figure size 432x288 with 1 Axes>"
      ]
     },
     "metadata": {
      "needs_background": "light"
     },
     "output_type": "display_data"
    }
   ],
   "source": [
    "\n",
    "plt.figure()\n",
    "original_params.update({'learning_rate':0.2})\n",
    "for label, color, setting in [('min_samples_split=2','orange',\n",
    "                               {'min_samples_split':2}),\n",
    "                              ('min_samples_split=4','turquoise',\n",
    "                               {'min_samples_split':4}),\n",
    "                              ('min_samples_split=6','blue',\n",
    "                               {'min_samples_split':6}),\n",
    "                              ('min_samples_split=8','gray',\n",
    "                               {'min_samples_split':8}),\n",
    "                             ('min_samples_split=10','magenta',\n",
    "                               {'min_samples_split':10})]: \n",
    "    start_time = time.time()\n",
    "    skf = StratifiedKFold(n_splits = 5, random_state = 666)\n",
    "    params = dict(original_params)\n",
    "    base_score = np.zeros((5,params['n_estimators']), dtype=np.float64)                              \n",
    "    params.update(setting)\n",
    "    clf = ensemble.GradientBoostingClassifier(**params)\n",
    "    \n",
    "    for j, (train_index, test_index) in zip(range(5), skf.split(X, Y)):\n",
    "        X_train, Y_train = X[train_index], Y[train_index]\n",
    "        X_test, Y_test = X[test_index], Y[test_index]\n",
    "        clf.fit(X_train, Y_train)\n",
    "\n",
    "        for i, Y_pred in enumerate(clf.staged_predict(X_test)):\n",
    "            base_score[j,i] = accuracy_score(Y_test, Y_pred)\n",
    "        \n",
    "    score = [mean(base_score[:,i]) for i in range(1000)]\n",
    "    plt.plot(range(1, 1001), score, color=color, label=label)\n",
    "    print(\"###### Time: %f\" % (time.time() - start_time) + \"s ######\")\n",
    "\n",
    "plt.legend(loc='upper left')\n",
    "plt.xlabel('Boosting Iterations')\n",
    "plt.ylabel('CV Test Accuracy')\n",
    "plt.title('Baseline Model')\n",
    "plt.show()"
   ]
  },
  {
   "cell_type": "code",
   "execution_count": null,
   "metadata": {},
   "outputs": [],
   "source": [
    "plt.figure()\n",
    "original_params.update({'min_samples_split':4})\n",
    "for label, color, setting in [('min_samples_leaf=1','orange',\n",
    "                               {'min_samples_leaf':1}),\n",
    "                              ('min_samples_leaf=2','turquoise',\n",
    "                               {'min_samples_leaf':2}),\n",
    "                              ('min_samples_leaf=3','blue',\n",
    "                               {'min_samples_leaf':3}),\n",
    "                              ('min_samples_leaf=4','gray',\n",
    "                               {'min_samples_leaf':4}),\n",
    "                             ('min_samples_leaf=5','magenta',\n",
    "                               {'min_samples_leaf':5})]: \n",
    "    start_time = time.time()\n",
    "    skf = StratifiedKFold(n_splits = 5, random_state = 666)\n",
    "    params = dict(original_params)\n",
    "    base_score = np.zeros((5,params['n_estimators']), dtype=np.float64)                              \n",
    "    params.update(setting)\n",
    "    clf = ensemble.GradientBoostingClassifier(**params)\n",
    "    \n",
    "    for j, (train_index, test_index) in zip(range(5), skf.split(X, Y)):\n",
    "        X_train, Y_train = X[train_index], Y[train_index]\n",
    "        X_test, Y_test = X[test_index], Y[test_index]\n",
    "        clf.fit(X_train, Y_train)\n",
    "\n",
    "        for i, Y_pred in enumerate(clf.staged_predict(X_test)):\n",
    "            base_score[j,i] = accuracy_score(Y_test, Y_pred)\n",
    "        \n",
    "    score = [mean(base_score[:,i]) for i in range(1000)]\n",
    "    plt.plot(range(1, 1001), score, color=color, label=label)\n",
    "    print(\"###### CV Score: %f\" % max(score))\n",
    "    print(\"###### Time: %f\" % (time.time() - start_time) + \"s ######\")\n",
    "\n",
    "plt.legend(loc='upper left')\n",
    "plt.xlabel('Boosting Iterations')\n",
    "plt.ylabel('CV Test Accuracy')\n",
    "plt.title('Baseline Model')\n",
    "plt.show()"
   ]
  },
  {
   "cell_type": "code",
   "execution_count": null,
   "metadata": {},
   "outputs": [],
   "source": [
    "start_time = time.time()\n",
    "chosen_params = {'min_samples_leaf':1, 'min_samples_split':4, 'learning_rate':0.2,\n",
    "                'n_estimators':10000, 'max_features':1, 'max_depth':1}\n",
    "chosen_baseline = ensemble.GradientBoostingClassifier(**chosen_params)\n",
    "chosen_baseline.fit(X,Y)\n",
    "print(\"###### Model Training Time: %f\" % (time.time() - start_time) + \"s ######\")"
   ]
  },
  {
   "cell_type": "code",
   "execution_count": null,
   "metadata": {},
   "outputs": [],
   "source": [
    "emotion_cat = {x[0]:x[1] for x in labels.values}\n",
    "emotion_type = {x[0]:x[2] for x in labels.values}\n",
    "\n",
    "def baseline_predict(Xtest, Ytest = None, output = True):\n",
    "    clf = chosen_baseline\n",
    "    Ypred = clf.predict(Xtest)\n",
    "    if Ytest is not None:\n",
    "        score = accuracy_score(Ytest, Ypred)\n",
    "        print(\"###### Accuracy: %f\" % score + \" ######\")\n",
    "    if output:\n",
    "        d = {'emotion_idx':Ypred, 'emotion_cat':[emotion_cat.get(key) for key in Ypred],\n",
    "             'type':[emotion_type.get(key) for key in Ypred]}\n",
    "        #cat = [emotion_cat.get(key) for key in Ypred]\n",
    "        #type = [emotion_type.get(key) for key in Ypred]\n",
    "        df = pd.DataFrame(data = d)\n",
    "        df.to_csv('../output/baseline_prediction.csv')\n",
    "        "
   ]
  },
  {
   "cell_type": "markdown",
   "metadata": {},
   "source": [
    "## Improved Model - Feedforward Neural Network"
   ]
  },
  {
   "cell_type": "code",
   "execution_count": 13,
   "metadata": {},
   "outputs": [],
   "source": [
    "def create_ff_model(input_shape, hidden_layers = (512,) , outputs = 22, optimizer = 'adam'):\n",
    "    \"\"\"\n",
    "    Create a feedforward model without any regularization\n",
    "    \n",
    "    :param input_shape: the size of input a 2-tupple\n",
    "    :param hidden_layers: the hidden units of each hidden layers\n",
    "    :param outputs: the number of expected output labels\n",
    "    \n",
    "    :return: compiled feedforwad nn model\n",
    "    \"\"\"\n",
    "    if len(hidden_layers) < 1:\n",
    "        raise Exception(\"Wrong parameter for hidden layer units\")\n",
    "        \n",
    "    ff_model = models.Sequential()\n",
    "    \n",
    "    # input layer\n",
    "    ff_model.add(layers.Dense(hidden_layers[0], activation='relu', input_shape = input_shape))\n",
    "                 \n",
    "    # add hidden layers\n",
    "    for index in range(1, len(hidden_layers)):\n",
    "        ff_model.add(layers.Dense(hidden_layers[index], activation='relu'))\n",
    "    \n",
    "    # output layer\n",
    "    ff_model.add(layers.Dense(outputs, activation='softmax'))\n",
    "    # rmsprop\n",
    "    \n",
    "    ff_model.compile(optimizer = optimizer, loss='categorical_crossentropy', metrics = ['acc'])\n",
    "    \n",
    "    return ff_model"
   ]
  },
  {
   "cell_type": "code",
   "execution_count": 14,
   "metadata": {},
   "outputs": [],
   "source": [
    "def create_regularized_ff_model(input_shape, hidden_layers = (512,) , outputs = 22, optimizer = 'adam', l2 = 0.01):\n",
    "    \"\"\"\n",
    "    Create a feedforward model `with` any regularization\n",
    "    \n",
    "    :param input_shape: the size of input a 2-tupple\n",
    "    :param hidden_layers: the hidden units of each hidden layers\n",
    "    :param outputs: the number of expected output labels\n",
    "    \n",
    "    :return: compiled feedforwad nn model\n",
    "    \"\"\"\n",
    "    if len(hidden_layers) < 1:\n",
    "        raise Exception(\"Wrong parameter for hidden layer units\")\n",
    "        \n",
    "    ff_model = models.Sequential()\n",
    "    \n",
    "    l2_regularizer = regularizers.l2(l2)\n",
    "    \n",
    "    # input layer\n",
    "    ff_model.add(layers.Dense(hidden_layers[0], activation='relu', input_shape = input_shape, kernel_regularizer = l2_regularizer))\n",
    "#     ff_model.add(layers.Dropout(0.5))         \n",
    "    # add hidden layers\n",
    "    for index in range(1, len(hidden_layers)):\n",
    "        ff_model.add(layers.Dense(hidden_layers[index], activation='relu', kernel_regularizer = l2_regularizer))\n",
    "#         ff_model.add(layers.Dropout(0.5))\n",
    "    # output layer\n",
    "    ff_model.add(layers.Dense(outputs, activation='softmax'))\n",
    "    # rmsprop\n",
    "    \n",
    "    ff_model.compile(optimizer = optimizer, loss='categorical_crossentropy', metrics = ['acc'])\n",
    "    \n",
    "    return ff_model"
   ]
  },
  {
   "cell_type": "code",
   "execution_count": 15,
   "metadata": {},
   "outputs": [],
   "source": [
    "def k_fold_feedforward_points(model, X, y, fold = 5, random_state = 13):\n",
    "    \"\"\"\n",
    "    Run k-fold cross validation for keras neural network model\n",
    "    \n",
    "    :param model_create_function: the function used to creat a compiled keras neural network model\n",
    "    :param input_shape: the size of input a 2-tupple\n",
    "    :param hidden_layer: the same as `create_ff_model` function\n",
    "    :param X: the feature matrix\n",
    "    :param y: the target\n",
    "    :param fold: the number of fold\n",
    "    :param random_state: random seed for k-fold splitting\n",
    "    \"\"\"\n",
    "    \n",
    "    # split folder\n",
    "    kfold = StratifiedKFold(n_splits=fold, shuffle=True, random_state=random_state)\n",
    "    \n",
    "    avg_accuracy = 0\n",
    "    histories = []\n",
    "    # 5-fold \n",
    "    for train_index, val_index in kfold.split(X, y):\n",
    "        # split traning set and validation set\n",
    "        X_train = X[train_index]\n",
    "        y_train = y[train_index]\n",
    "\n",
    "        X_test = X[val_index]\n",
    "        y_test = y[val_index]\n",
    "\n",
    "        scaler = StandardScaler()\n",
    "        X_train = scaler.fit_transform(X_train)\n",
    "        X_test =scaler.transform(X_test)\n",
    "\n",
    "        y_test = to_categorical(y_test)\n",
    "        y_train = to_categorical(y_train)\n",
    "\n",
    "        # early stopping\n",
    "        callbacks = [\n",
    "          EarlyStopping(\n",
    "            monitor='val_loss', patience=5, verbose=0)\n",
    "          ]\n",
    "\n",
    "\n",
    "        history = model.fit(X_train,y_train,\n",
    "                                         epochs = 20, \n",
    "                                        batch_size = 100,\n",
    "                                         workers = 6,\n",
    "                                         validation_data = (X_test, y_test),\n",
    "                                        verbose = False,\n",
    "                                        shuffle = True,\n",
    "                                        callbacks = callbacks)\n",
    "        histories.append(history)\n",
    "        avg_accuracy += model.evaluate(X_test, y_test, verbose = False)[1]\n",
    "    return histories, avg_accuracy / fold\n"
   ]
  },
  {
   "cell_type": "code",
   "execution_count": 16,
   "metadata": {},
   "outputs": [],
   "source": [
    "def draw_training_validation_graph(history_obj):\n",
    "    \"\"\"\n",
    "    Draw the loss and accuracy plot using the history_obj\n",
    "    \n",
    "    :param history_obj: the history object returned by calling fit method of keras' model\n",
    "    \n",
    "    \"\"\"\n",
    "    loss_values = history_obj.history['loss']\n",
    "    val_loss_valus = history_obj.history['val_loss']\n",
    "    acc = history_obj.history['acc']\n",
    "    val_acc = history_obj.history['val_acc']\n",
    "    \n",
    "    epochs = range(1,len(val_loss_valus) + 1)\n",
    "    \n",
    "    fig, axs = plt.subplots(1,2, figsize = (16,4))\n",
    "\n",
    "    axs[0].plot(epochs, loss_values, 'bo', label='Training Loss')\n",
    "    axs[0].plot(epochs, val_loss_valus, 'r', label='Validation Loss')\n",
    "    axs[0].set_title('Training and Validation Loss')\n",
    "    axs[0].set_xlabel('Epochs')\n",
    "    axs[0].set_ylabel('Loss')\n",
    "    axs[0].legend()\n",
    "    \n",
    "    axs[1].plot(epochs, acc, 'bo', label='Training Acc')\n",
    "    axs[1].plot(epochs, val_acc, 'r', label='Validation Acc')\n",
    "    axs[1].set_title('Training and Validation Acc')\n",
    "    axs[1].set_xlabel('Epochs')\n",
    "    axs[1].set_ylabel('Accuracy')\n",
    "    axs[1].legend()\n",
    "    \n",
    "    \n",
    "    plt.show()"
   ]
  },
  {
   "cell_type": "code",
   "execution_count": 17,
   "metadata": {},
   "outputs": [
    {
     "name": "stdout",
     "output_type": "stream",
     "text": [
      "feedforward neural network with hidden layer : (512, 512) 0.5450844168663025\n",
      "feedforward neural network with hidden layer : (512, 512, 512) 0.597538822889328\n",
      "feedforward neural network with hidden layer : (1024, 1024) 0.5194609880447387\n",
      "feedforward neural network with hidden layer : (1024, 1024, 1024) 0.5212423622608184\n"
     ]
    }
   ],
   "source": [
    "neural_distances_histories = {}\n",
    "for hidden_layer in [(512,512),(512,512,512),(1024,1024),(1024,1024,1024)]:\n",
    "    model = create_regularized_ff_model((3003,), hidden_layer, optimizer = 'rmsprop', l2= 0.001)\n",
    "    hist, acc = k_fold_feedforward_points(model, X_distances, y)\n",
    "    neural_distances_histories[hidden_layer] = hist\n",
    "    print(\"feedforward neural network with hidden layer :\", hidden_layer , acc)"
   ]
  },
  {
   "cell_type": "code",
   "execution_count": 18,
   "metadata": {},
   "outputs": [
    {
     "data": {
      "image/png": "[encoded data removed]",
      "text/plain": [
       "<Figure size 1152x288 with 2 Axes>"
      ]
     },
     "metadata": {
      "needs_background": "light"
     },
     "output_type": "display_data"
    }
   ],
   "source": [
    "draw_training_validation_graph(neural_distances_histories[(512,512)][0])"
   ]
  },
  {
   "cell_type": "code",
   "execution_count": 22,
   "metadata": {},
   "outputs": [
    {
     "name": "stdout",
     "output_type": "stream",
     "text": [
      "CPU times: user 1min 23s, sys: 46.1 s, total: 2min 9s\n",
      "Wall time: 28.6 s\n"
     ]
    }
   ],
   "source": [
    "\"\"\"\n",
    "Measure the cross-validation time\n",
    "\"\"\"\n",
    "best_distances_nn_model = create_regularized_ff_model((3003,), (512,512, 512), l2= 0.001, optimizer='rmsprop')\n",
    "%time hist,acc = k_fold_feedforward_points(best_distances_nn_model, X_distances,y)"
   ]
  },
  {
   "cell_type": "code",
   "execution_count": 31,
   "metadata": {},
   "outputs": [
    {
     "data": {
      "image/png": "[encoded data removed]",
      "text/plain": [
       "<Figure size 1152x288 with 2 Axes>"
      ]
     },
     "metadata": {
      "needs_background": "light"
     },
     "output_type": "display_data"
    }
   ],
   "source": [
    "draw_training_validation_graph(hist[4])\n",
    "# dir(best_distances_nn_model.ep"
   ]
  },
  {
   "cell_type": "code",
   "execution_count": 35,
   "metadata": {},
   "outputs": [],
   "source": [
    "\"\"\"\n",
    "Find the best epoch for the model\n",
    "Retrain the neural network model using the best parameter set\n",
    "\"\"\"\n",
    "best_ff_model = create_regularized_ff_model((3003,), (512,512,512), optimizer = 'rmsprop', l2= 0.001)\n",
    "\n",
    "scaler = StandardScaler()\n",
    "\n",
    "X_dist_scaled = scaler.fit_transform(X_distances)\n",
    "y_cat = to_categorical(y)\n",
    "\n",
    "history = model.fit(X_dist_scaled,y_cat,\n",
    "                                 epochs = 7, \n",
    "                                batch_size = 100,\n",
    "                                 workers = 6,\n",
    "                                verbose = False,\n",
    "                                shuffle = True,\n",
    "                                )"
   ]
  },
  {
   "cell_type": "code",
   "execution_count": 36,
   "metadata": {},
   "outputs": [],
   "source": [
    "\"\"\"\n",
    "Save the model\n",
    "\"\"\"\n",
    "# best_ff_model.save(\"../output/best_ff_model.h5\")"
   ]
  },
  {
   "cell_type": "markdown",
   "metadata": {},
   "source": [
    "## Summarizing Running Time\n"
   ]
  },
  {
   "cell_type": "markdown",
   "metadata": {},
   "source": [
    "* Baseline Mode: \n",
    "    * Time For 5-fold Cros Validation: \n",
    "        * Total time: 469s\n",
    "* Improved Model:\n",
    "    * Time For 5-fold Cros Validation: \n",
    "        * CPU times: user 1min 23s, sys: 46.1 s, total: 2min 9s\n",
    "        * Wall time: 28.6 s"
   ]
  }
 ],
 "metadata": {
  "kernelspec": {
   "display_name": "Python 3",
   "language": "python",
   "name": "python3"
  },
  "language_info": {
   "codemirror_mode": {
    "name": "ipython",
    "version": 3
   },
   "file_extension": ".py",
   "mimetype": "text/x-python",
   "name": "python",
   "nbconvert_exporter": "python",
   "pygments_lexer": "ipython3",
   "version": "3.6.9"
  }
 },
 "nbformat": 4,
 "nbformat_minor": 2
}
