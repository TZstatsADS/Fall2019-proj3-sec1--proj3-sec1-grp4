{
 "cells": [
  {
   "cell_type": "markdown",
   "metadata": {},
   "source": [
    "# ADS Project 3 Group 4"
   ]
  },
  {
   "cell_type": "markdown",
   "metadata": {},
   "source": [
    "## Libraries and Settings"
   ]
  },
  {
   "cell_type": "code",
   "execution_count": 1,
   "metadata": {},
   "outputs": [
    {
     "name": "stderr",
     "output_type": "stream",
     "text": [
      "Using TensorFlow backend.\n"
     ]
    }
   ],
   "source": [
    "import sys\n",
    "import os\n",
    "import matplotlib.pyplot as plt\n",
    "import numpy as np\n",
    "import pandas as pd\n",
    "import PIL\n",
    "from PIL import Image\n",
    "from scipy.io import loadmat\n",
    "\n",
    "from sklearn.model_selection import StratifiedKFold\n",
    "from sklearn.dummy import DummyClassifier\n",
    "from sklearn.neighbors import KNeighborsClassifier\n",
    "from sklearn.preprocessing import StandardScaler\n",
    "from sklearn.tree import DecisionTreeClassifier\n",
    "from sklearn.ensemble import RandomForestClassifier\n",
    "from sklearn.svm import LinearSVC, SVC\n",
    "from sklearn.linear_model import LogisticRegression\n",
    "from sklearn.neural_network import MLPClassifier\n",
    "\n",
    "from keras.callbacks import EarlyStopping\n",
    "from keras import models\n",
    "from keras import layers\n",
    "from keras.preprocessing.image import ImageDataGenerator\n",
    "from keras import regularizers\n",
    "from keras.utils.np_utils import to_categorical"
   ]
  },
  {
   "cell_type": "code",
   "execution_count": 2,
   "metadata": {},
   "outputs": [],
   "source": [
    "\"\"\"\n",
    "Path\n",
    "\"\"\"\n",
    "DATA_PATH = \"../data/train_set\"\n",
    "IMAGE_FOLDER = os.path.join(DATA_PATH, \"images\")\n",
    "POINTS_FOLDER = os.path.join(DATA_PATH, \"points\")\n",
    "LABELS_FOLDER = DATA_PATH"
   ]
  },
  {
   "cell_type": "markdown",
   "metadata": {},
   "source": [
    "## Read Training Data"
   ]
  },
  {
   "cell_type": "code",
   "execution_count": 3,
   "metadata": {},
   "outputs": [],
   "source": [
    "def read_all_images(height = 750, width = 1000, crop_gray = False, points = None):\n",
    "    \"\"\"\n",
    "    Read 2500 training images from the IMAGE_FOLDER, resized to 'height x width'\n",
    "    \n",
    "    :param height: resized height of images\n",
    "    :param width: resized width of images\n",
    "    :return: a 4d numpy array in form of (index, height, width, channels), channels is RGB \n",
    "    \"\"\"\n",
    "    files = [file for file in os.listdir(IMAGE_FOLDER) if file.endswith('.jpg')]\n",
    "    files.sort()\n",
    "    \n",
    "    \n",
    "    face_images_arr = np.zeros((len(files), height, width, 1 if crop_gray else 3 ))\n",
    "    \n",
    "    for index, filename in enumerate(files):\n",
    "        face_img = Image.open(os.path.join(IMAGE_FOLDER, filename))\n",
    "        # if crop_gray, then the image will be cropped to fit the facial part\n",
    "        # and then it will return a grayscale version\n",
    "        if crop_gray:\n",
    "            face_img = face_img.convert('L')\n",
    "\n",
    "            face_points = points[index]\n",
    "            # calculate crop position\n",
    "            left = np.min(face_points[:,0]) \n",
    "            right = np.max(face_points[:,0]) \n",
    "            top = np.min(face_points[:,1])\n",
    "            bot = np.max(face_points[:,1])\n",
    "\n",
    "            face_img = face_img.crop((left,top,right,bot))\n",
    "        \n",
    "        face_img = face_img.resize((width, height))\n",
    "        # fit the dimension\n",
    "        face_images_arr[index] = np.array(face_img).reshape((height,width, -1))\n",
    "        \n",
    "    return face_images_arr\n",
    "\n",
    "def read_labels():\n",
    "    \"\"\"\n",
    "    Read the image labels from the label.csv file\n",
    "    :return: a pandas.DataFrame with 3 columns: 'emotion_idx','emotion_cat','type'\n",
    "    \"\"\"\n",
    "    labels_df = pd.read_csv(os.path.join(LABELS_FOLDER, 'label.csv'))\n",
    "    labels_df = labels_df.loc[:,['emotion_idx','emotion_cat','type']]\n",
    "    return labels_df\n",
    "    \n",
    "\n",
    "def read_all_points():\n",
    "    \"\"\"\n",
    "    Read all face coordinates points\n",
    "    :return: a tuple of shape (2500, 78, 2). Because for each of 2500 images there are 78 points associated with it\n",
    "    \"\"\"\n",
    "    files = [file for file in os.listdir(POINTS_FOLDER) if file.endswith('.mat')]\n",
    "    files.sort()\n",
    "    \n",
    "    face_points = np.zeros((len(files), 78, 2))\n",
    "    for index, filename in enumerate(files):\n",
    "        face_points_dict = loadmat(os.path.join(POINTS_FOLDER, filename))\n",
    "    \n",
    "        face_points[index] = face_points_dict.get('faceCoordinatesUnwarped',  face_points_dict.get('faceCoordinates2'))\n",
    "    return face_points\n",
    "\n",
    "def load_data(loadImage = False, height = 750, width = 1000, crop_gray = False):\n",
    "    \"\"\"\n",
    "    Load training data from local files\n",
    "    \n",
    "    :param loadImage: if it's False, this function will not load original images\n",
    "    :return: a tuple (images, points, labels)\n",
    "        if loadImage is False, the 'images' will None. Otherwise its a numpy array with shape (2500,750,1000,3)\n",
    "        points is a numpy array with shape (2500, 78, 2)\n",
    "        labels is a pandas.DataFrame\n",
    "    \"\"\"\n",
    "    \n",
    "    face_images_points = read_all_points()\n",
    "    \n",
    "    face_images_ndarr =  read_all_images(height, width, crop_gray, face_images_points) if loadImage else None\n",
    "    labels = read_labels()\n",
    "    \n",
    "    return face_images_ndarr, face_images_points, labels\n",
    "\n",
    "\n",
    "\n",
    "def show_image(index, all_images = None):\n",
    "    \"\"\"\n",
    "    Display the (index)th image.\n",
    "    all_images is passed, the this image numpy array can be easily retrieved from it. \n",
    "    Otherwise the original images needs to be read from disk\n",
    "    \n",
    "    :param index: the index to specify which image to disply\n",
    "    :param all_images: the return value of 'read_all_images' function\n",
    "    \"\"\"\n",
    "    \n",
    "    if all_images is not None and index < len(all_images):\n",
    "        face_img_arr = all_images[index].astype('uint8')\n",
    "        if face_img_arr.shape[2] == 1:\n",
    "            face_img_arr = face_img_arr.reshape((face_img_arr.shape[0],face_img_arr.shape[1]))\n",
    "    else:\n",
    "        face_img_arr = plt.imread(os.path.join(IMAGE_FOLDER, f\"{index:04}.jpg\"))\n",
    "    plt.imshow(face_img_arr, cmap='gray')\n",
    "    plt.show()\n"
   ]
  },
  {
   "cell_type": "code",
   "execution_count": 4,
   "metadata": {},
   "outputs": [],
   "source": [
    "\"\"\"\n",
    "Read images with 200x200 resolution and facial points, labels\n",
    "\"\"\"\n",
    "height = 200\n",
    "width = 200\n",
    "images, points, labels = load_data(loadImage= True,crop_gray=True, height = height, width = width)"
   ]
  },
  {
   "cell_type": "code",
   "execution_count": 5,
   "metadata": {},
   "outputs": [
    {
     "name": "stdout",
     "output_type": "stream",
     "text": [
      "shape of image (2500, 200, 200, 1)\n",
      "memory of image ndarray is 0.75 GB\n",
      "shape of points (2500, 78, 2)\n"
     ]
    }
   ],
   "source": [
    "if images is not None:\n",
    "    print(\"shape of image\",images.shape)\n",
    "    print(f\"memory of image ndarray is {sys.getsizeof(images)/1024/1024/1024:.2f} GB\")\n",
    "if points is not None:\n",
    "    print(\"shape of points\",points.shape)"
   ]
  },
  {
   "cell_type": "code",
   "execution_count": 6,
   "metadata": {},
   "outputs": [
    {
     "data": {
      "image/png": "[encoded data removed]",
      "text/plain": [
       "<Figure size 432x288 with 1 Axes>"
      ]
     },
     "metadata": {
      "needs_background": "light"
     },
     "output_type": "display_data"
    },
    {
     "name": "stdout",
     "output_type": "stream",
     "text": [
      "emotion_idx          18\n",
      "emotion_cat        Awed\n",
      "type           compound\n",
      "Name: 2001, dtype: object\n"
     ]
    }
   ],
   "source": [
    "example_number = 2001\n",
    "show_image(example_number,images)\n",
    "print(labels.iloc[example_number])"
   ]
  },
  {
   "cell_type": "markdown",
   "metadata": {},
   "source": [
    "## Machine Learning Models"
   ]
  },
  {
   "cell_type": "code",
   "execution_count": 7,
   "metadata": {},
   "outputs": [
    {
     "name": "stdout",
     "output_type": "stream",
     "text": [
      "(2500, 156) (2500,)\n"
     ]
    }
   ],
   "source": [
    "\"\"\"\n",
    "Preprocess the points input and extract the target y\n",
    "\"\"\"\n",
    "\n",
    "X_points = points.reshape((points.shape[0], -1))\n",
    "y = labels['emotion_idx'].values - 1\n",
    "print(X_points.shape, y.shape)"
   ]
  },
  {
   "cell_type": "code",
   "execution_count": 8,
   "metadata": {},
   "outputs": [],
   "source": [
    "def k_fold_validation(model, X, y, fold = 5, random_state = 13):\n",
    "    \"\"\"\n",
    "    k-fold cross validation of sklearn classifier using X and y\n",
    "    \n",
    "    :param model: sklearn-compatible classifier with fit and score methods\n",
    "    :param X: the feature matrix\n",
    "    :param y: the target\n",
    "    :param fold: the number of fold\n",
    "    :param random_state: random seed for k-fold splitting\n",
    "    \n",
    "    :return: average accuracy for the model\n",
    "    \"\"\"\n",
    "    \n",
    "    kfold = StratifiedKFold(n_splits=fold, shuffle=True, random_state=random_state)\n",
    "    \n",
    "    avg_accuracy = 0\n",
    "    for train_index, val_index in kfold.split(X, y):\n",
    "\n",
    "        # split traning set and validation set\n",
    "        X_train = X[train_index]\n",
    "        y_train = y[train_index]\n",
    "\n",
    "        X_test = X[val_index]\n",
    "        y_test = y[val_index]\n",
    "\n",
    "        # standardize\n",
    "        scaler = StandardScaler()\n",
    "        X_train = scaler.fit_transform(X_train)\n",
    "        X_test =scaler.transform(X_test)\n",
    "\n",
    "        # fit\n",
    "        model.fit(X_train, y_train)\n",
    "\n",
    "        avg_accuracy += model.score(X_test, y_test)\n",
    "\n",
    "    return avg_accuracy / fold\n"
   ]
  },
  {
   "cell_type": "code",
   "execution_count": 9,
   "metadata": {},
   "outputs": [
    {
     "name": "stdout",
     "output_type": "stream",
     "text": [
      "Average accuracy of the dummy model is:  0.04482188806458916\n"
     ]
    }
   ],
   "source": [
    "\"\"\"\n",
    "1. Dummy baseline\n",
    "\"\"\"\n",
    "dummy_model = DummyClassifier()\n",
    "avg_dummy_acc = k_fold_validation(dummy_model, X_points, y)\n",
    "print(\"Average accuracy of the dummy model is: \", avg_dummy_acc)"
   ]
  },
  {
   "cell_type": "code",
   "execution_count": 10,
   "metadata": {},
   "outputs": [
    {
     "name": "stdout",
     "output_type": "stream",
     "text": [
      "Average accuracy of the decision tree model is:  0.13602063528232605\n"
     ]
    }
   ],
   "source": [
    "\"\"\"\n",
    "2. Decision Tree\n",
    "\"\"\"\n",
    "model = DecisionTreeClassifier()\n",
    "avg_dt_acc = k_fold_validation(model, X_points, y)\n",
    "print(\"Average accuracy of the decision tree model is: \", avg_dt_acc)"
   ]
  },
  {
   "cell_type": "code",
   "execution_count": 11,
   "metadata": {},
   "outputs": [
    {
     "name": "stdout",
     "output_type": "stream",
     "text": [
      "Average accuracy of the random forest with 50 trees is:  0.20485617575179454\n",
      "Average accuracy of the random forest with 100 trees is:  0.21153352431106195\n",
      "Average accuracy of the random forest with 200 trees is:  0.2028802815925585\n",
      "Average accuracy of the random forest with 300 trees is:  0.21200264527959617\n",
      "Average accuracy of the random forest with 500 trees is:  0.2104493798023895\n"
     ]
    }
   ],
   "source": [
    "\"\"\"\n",
    "3. Random Forest with different number of trees\n",
    "\"\"\"\n",
    "\n",
    "for trees in [50,100,200,300,500]:\n",
    "    model = RandomForestClassifier(n_estimators= trees)\n",
    "    avg_rf_acc = k_fold_validation(model, X_points, y)\n",
    "    print(f\"Average accuracy of the random forest with {trees} trees is: \", avg_rf_acc)"
   ]
  },
  {
   "cell_type": "code",
   "execution_count": 12,
   "metadata": {},
   "outputs": [
    {
     "name": "stdout",
     "output_type": "stream",
     "text": [
      "Average accuracy of the knn with k=10 is:  0.11792360521942975\n",
      "Average accuracy of the knn with k=30 is:  0.10797320526358727\n",
      "Average accuracy of the knn with k=50 is:  0.10246526518408854\n",
      "Average accuracy of the knn with k=100 is:  0.10690413882957076\n",
      "Average accuracy of the knn with k=200 is:  0.10167924794494909\n",
      "Average accuracy of the knn with k=300 is:  0.0980433536177672\n",
      "Average accuracy of the knn with k=500 is:  0.09430854768377811\n"
     ]
    }
   ],
   "source": [
    "\"\"\"\n",
    "4. KNN with different number of neighbors\n",
    "\"\"\"\n",
    "for nn in [10,30,50,100,200,300,500]:\n",
    "    model = KNeighborsClassifier(n_neighbors= nn)\n",
    "    avg_knn_acc = k_fold_validation(model, X_points, y)\n",
    "    print(f\"Average accuracy of the knn with k={nn} is: \", avg_knn_acc)"
   ]
  },
  {
   "cell_type": "code",
   "execution_count": 14,
   "metadata": {},
   "outputs": [
    {
     "name": "stdout",
     "output_type": "stream",
     "text": [
      "Average accuracy of the logistic model with C=0.1 is:  0.46920033534855204\n",
      "Average accuracy of the logistic model with C=10 is:  0.5391548420598627\n",
      "Average accuracy of the logistic model with C=50 is:  0.5171143232299611\n",
      "Average accuracy of the logistic model with C=100 is:  0.5063182436150508\n"
     ]
    }
   ],
   "source": [
    "\"\"\"\n",
    "5. Logistic regression\n",
    "\"\"\"\n",
    "for C in [0.1,10,50,100]:\n",
    "    model = LogisticRegression(multi_class='auto', solver='lbfgs', max_iter=5000, random_state=13, C = C)\n",
    "    avg_logistic_acc = k_fold_validation(model,X_points, y)\n",
    "    print(f\"Average accuracy of the logistic model with C={C} is: \", avg_logistic_acc)"
   ]
  },
  {
   "cell_type": "code",
   "execution_count": 15,
   "metadata": {},
   "outputs": [
    {
     "name": "stdout",
     "output_type": "stream",
     "text": [
      "Average accuracy of the LinearSVC model with C=0.03 is:  0.5063182436150508\n",
      "Average accuracy of the LinearSVC model with C=0.1 is:  0.5063182436150508\n",
      "Average accuracy of the LinearSVC model with C=0.5 is:  0.5063182436150508\n",
      "Average accuracy of the LinearSVC model with C=1 is:  0.5063182436150508\n"
     ]
    }
   ],
   "source": [
    "\"\"\"\n",
    "6. Linear SVC with different penalties\n",
    "\"\"\"\n",
    "\n",
    "for C in [0.03,0.1, 0.5, 1]:\n",
    "    model = LinearSVC(max_iter = 5000, C=0.1)\n",
    "    avg_linearsvc_acc = k_fold_validation(model,X_points, y)\n",
    "    print(f\"Average accuracy of the LinearSVC model with C={C} is: \", avg_logistic_acc)"
   ]
  },
  {
   "cell_type": "code",
   "execution_count": 16,
   "metadata": {},
   "outputs": [
    {
     "name": "stdout",
     "output_type": "stream",
     "text": [
      "Average accuracy of the SVC model using rbf kernel is:  0.1956513321777882\n",
      "Average accuracy of the SVC model using poly kernel is:  0.16845832700260666\n"
     ]
    }
   ],
   "source": [
    "\"\"\"\n",
    "7. SVC with rbf kernel and poly kernel with default settings\n",
    "\"\"\"\n",
    "model = SVC(kernel='rbf')\n",
    "avg_rbfSVC_acc = k_fold_validation(model,X_points, y)\n",
    "print(f\"Average accuracy of the SVC model using rbf kernel is: \", avg_rbfSVC_acc)\n",
    "\n",
    "model = SVC(kernel='poly')\n",
    "avg_polySVC_acc = k_fold_validation(model,X_points, y)\n",
    "print(f\"Average accuracy of the SVC model using poly kernel is: \", avg_polySVC_acc)"
   ]
  },
  {
   "cell_type": "markdown",
   "metadata": {},
   "source": [
    "## Feedforward Neural Network Using Facial Points"
   ]
  },
  {
   "cell_type": "code",
   "execution_count": 17,
   "metadata": {},
   "outputs": [],
   "source": [
    "def create_ff_model(input_shape, hidden_layers = (512,) , outputs = 22, optimizer = 'adam'):\n",
    "    \"\"\"\n",
    "    Create a feedforward model without any regularization\n",
    "    \n",
    "    :param input_shape: the size of input a 2-tupple\n",
    "    :param hidden_layers: the hidden units of each hidden layers\n",
    "    :param outputs: the number of expected output labels\n",
    "    \n",
    "    :return: compiled feedforwad nn model\n",
    "    \"\"\"\n",
    "    if len(hidden_layers) < 1:\n",
    "        raise Exception(\"Wrong parameter for hidden layer units\")\n",
    "        \n",
    "    ff_model = models.Sequential()\n",
    "    \n",
    "    # input layer\n",
    "    ff_model.add(layers.Dense(hidden_layers[0], activation='relu', input_shape = input_shape))\n",
    "                 \n",
    "    # add hidden layers\n",
    "    for index in range(1, len(hidden_layers)):\n",
    "        ff_model.add(layers.Dense(hidden_layers[index], activation='relu'))\n",
    "    \n",
    "    # output layer\n",
    "    ff_model.add(layers.Dense(outputs, activation='softmax'))\n",
    "    # rmsprop\n",
    "    \n",
    "    ff_model.compile(optimizer = optimizer, loss='categorical_crossentropy', metrics = ['acc'])\n",
    "    \n",
    "    return ff_model"
   ]
  },
  {
   "cell_type": "code",
   "execution_count": 18,
   "metadata": {},
   "outputs": [],
   "source": [
    "def create_regularized_ff_model(input_shape, hidden_layers = (512,) , outputs = 22, optimizer = 'adam', l2 = 0.01):\n",
    "    \"\"\"\n",
    "    Create a feedforward model `with` any regularization\n",
    "    \n",
    "    :param input_shape: the size of input a 2-tupple\n",
    "    :param hidden_layers: the hidden units of each hidden layers\n",
    "    :param outputs: the number of expected output labels\n",
    "    \n",
    "    :return: compiled feedforwad nn model\n",
    "    \"\"\"\n",
    "    if len(hidden_layers) < 1:\n",
    "        raise Exception(\"Wrong parameter for hidden layer units\")\n",
    "        \n",
    "    ff_model = models.Sequential()\n",
    "    \n",
    "    l2_regularizer = regularizers.l2(l2)\n",
    "    \n",
    "    # input layer\n",
    "    ff_model.add(layers.Dense(hidden_layers[0], activation='relu', input_shape = input_shape, kernel_regularizer = l2_regularizer))\n",
    "#     ff_model.add(layers.Dropout(0.5))         \n",
    "    # add hidden layers\n",
    "    for index in range(1, len(hidden_layers)):\n",
    "        ff_model.add(layers.Dense(hidden_layers[index], activation='relu', kernel_regularizer = l2_regularizer))\n",
    "#         ff_model.add(layers.Dropout(0.5))\n",
    "    # output layer\n",
    "    ff_model.add(layers.Dense(outputs, activation='softmax'))\n",
    "    # rmsprop\n",
    "    \n",
    "    ff_model.compile(optimizer = optimizer, loss='categorical_crossentropy', metrics = ['acc'])\n",
    "    \n",
    "    return ff_model"
   ]
  },
  {
   "cell_type": "code",
   "execution_count": 19,
   "metadata": {},
   "outputs": [],
   "source": [
    "def k_fold_feedforward_points(model, X, y, fold = 5, random_state = 13):\n",
    "    \"\"\"\n",
    "    Run k-fold cross validation for keras neural network model\n",
    "    \n",
    "    :param model_create_function: the function used to creat a compiled keras neural network model\n",
    "    :param input_shape: the size of input a 2-tupple\n",
    "    :param hidden_layer: the same as `create_ff_model` function\n",
    "    :param X: the feature matrix\n",
    "    :param y: the target\n",
    "    :param fold: the number of fold\n",
    "    :param random_state: random seed for k-fold splitting\n",
    "    \"\"\"\n",
    "    \n",
    "    # split folder\n",
    "    kfold = StratifiedKFold(n_splits=fold, shuffle=True, random_state=random_state)\n",
    "    \n",
    "    avg_accuracy = 0\n",
    "    histories = []\n",
    "    # 5-fold \n",
    "    for train_index, val_index in kfold.split(X, y):\n",
    "        # split traning set and validation set\n",
    "        X_train = X[train_index]\n",
    "        y_train = y[train_index]\n",
    "\n",
    "        X_test = X[val_index]\n",
    "        y_test = y[val_index]\n",
    "\n",
    "        scaler = StandardScaler()\n",
    "        X_train = scaler.fit_transform(X_train)\n",
    "        X_test =scaler.transform(X_test)\n",
    "\n",
    "        y_test = to_categorical(y_test)\n",
    "        y_train = to_categorical(y_train)\n",
    "\n",
    "        # early stopping\n",
    "        callbacks = [\n",
    "          EarlyStopping(\n",
    "            monitor='val_loss', patience=5, verbose=0)\n",
    "          ]\n",
    "\n",
    "\n",
    "        history = model.fit(X_train,y_train,\n",
    "                                         epochs = 20, \n",
    "                                        batch_size = 100,\n",
    "                                         workers = 6,\n",
    "                                         validation_data = (X_test, y_test),\n",
    "                                        verbose = False,\n",
    "                                        shuffle = True,\n",
    "                                        callbacks = callbacks)\n",
    "        histories.append(history)\n",
    "        avg_accuracy += model.evaluate(X_test, y_test, verbose = False)[1]\n",
    "    return histories, avg_accuracy / fold\n",
    "\n"
   ]
  },
  {
   "cell_type": "code",
   "execution_count": 20,
   "metadata": {},
   "outputs": [],
   "source": [
    "def draw_training_validation_graph(history_obj):\n",
    "    \"\"\"\n",
    "    Draw the loss and accuracy plot using the history_obj\n",
    "    \n",
    "    :param history_obj: the history object returned by calling fit method of keras' model\n",
    "    \n",
    "    \"\"\"\n",
    "    loss_values = history_obj.history['loss']\n",
    "    val_loss_valus = history_obj.history['val_loss']\n",
    "    acc = history_obj.history['acc']\n",
    "    val_acc = history_obj.history['val_acc']\n",
    "    \n",
    "    epochs = range(1,len(val_loss_valus) + 1)\n",
    "    \n",
    "    fig, axs = plt.subplots(1,2, figsize = (16,4))\n",
    "\n",
    "    axs[0].plot(epochs, loss_values, 'bo', label='Training Loss')\n",
    "    axs[0].plot(epochs, val_loss_valus, 'r', label='Validation Loss')\n",
    "    axs[0].set_title('Training and Validation Loss')\n",
    "    axs[0].set_xlabel('Epochs')\n",
    "    axs[0].set_ylabel('Loss')\n",
    "    axs[0].legend()\n",
    "    \n",
    "    axs[1].plot(epochs, acc, 'bo', label='Training Acc')\n",
    "    axs[1].plot(epochs, val_acc, 'r', label='Validation Acc')\n",
    "    axs[1].set_title('Training and Validation Acc')\n",
    "    axs[1].set_xlabel('Epochs')\n",
    "    axs[1].set_ylabel('Accuracy')\n",
    "    axs[1].legend()\n",
    "    \n",
    "    \n",
    "    plt.show()"
   ]
  },
  {
   "cell_type": "code",
   "execution_count": 21,
   "metadata": {},
   "outputs": [
    {
     "name": "stdout",
     "output_type": "stream",
     "text": [
      "Average accuracy of the NeuralNetwork Model with hidden units (32, 32) and learning rate adaptive:  0.3564575341655723\n",
      "Average accuracy of the NeuralNetwork Model with hidden units (64,) and learning rate adaptive:  0.3755507333536755\n",
      "Average accuracy of the NeuralNetwork Model with hidden units (64, 64) and learning rate adaptive:  0.3291325496637625\n",
      "Average accuracy of the NeuralNetwork Model with hidden units (128,) and learning rate adaptive:  0.38030336018338595\n",
      "Average accuracy of the NeuralNetwork Model with hidden units (128, 128) and learning rate adaptive:  0.3582132997691038\n",
      "Average accuracy of the NeuralNetwork Model with hidden units (256,) and learning rate adaptive:  0.3985366726266701\n",
      "Average accuracy of the NeuralNetwork Model with hidden units (256, 256) and learning rate adaptive:  0.38488869855197294\n",
      "Average accuracy of the NeuralNetwork Model with hidden units (512,) and learning rate adaptive:  0.365280801644637\n",
      "Average accuracy of the NeuralNetwork Model with hidden units (512, 512) and learning rate adaptive:  0.3962651784729666\n",
      "Average accuracy of the NeuralNetwork Model with hidden units (1024,) and learning rate adaptive:  0.3856542053934784\n",
      "Average accuracy of the NeuralNetwork Model with hidden units (32, 32) and learning rate constant:  0.3331480916282127\n",
      "Average accuracy of the NeuralNetwork Model with hidden units (64,) and learning rate constant:  0.34652772175039737\n",
      "Average accuracy of the NeuralNetwork Model with hidden units (64, 64) and learning rate constant:  0.3421284185423329\n",
      "Average accuracy of the NeuralNetwork Model with hidden units (128,) and learning rate constant:  0.4064350406671783\n",
      "Average accuracy of the NeuralNetwork Model with hidden units (128, 128) and learning rate constant:  0.3606200762130866\n",
      "Average accuracy of the NeuralNetwork Model with hidden units (256,) and learning rate constant:  0.378522998368875\n",
      "Average accuracy of the NeuralNetwork Model with hidden units (256, 256) and learning rate constant:  0.38052241698559747\n",
      "Average accuracy of the NeuralNetwork Model with hidden units (512,) and learning rate constant:  0.37968733011654127\n",
      "Average accuracy of the NeuralNetwork Model with hidden units (512, 512) and learning rate constant:  0.3967696612456161\n",
      "Average accuracy of the NeuralNetwork Model with hidden units (1024,) and learning rate constant:  0.4155446375395031\n"
     ]
    }
   ],
   "source": [
    "\"\"\"\n",
    "1. Sklearn MLPClassifier with different hidden layers and learning rate\n",
    "\"\"\"\n",
    "\n",
    "for learning_rate in ['adaptive', 'constant']:\n",
    "    for hidden_layer in [(32,32), (64,), (64,64), (128,), (128,128), (256,), (256,256), (512,), (512,512), (1024,)]:\n",
    "        model = MLPClassifier(hidden_layer_sizes=hidden_layer, learning_rate=learning_rate,\n",
    "                     early_stopping= True, validation_fraction=0.2,\n",
    "                        )\n",
    "        avg_sklearn_nn_acc = k_fold_validation(model,X_points, y)\n",
    "        print(f\"Average accuracy of the NeuralNetwork Model with hidden units {hidden_layer} and learning rate {learning_rate}: \", avg_sklearn_nn_acc)\n",
    "        "
   ]
  },
  {
   "cell_type": "code",
   "execution_count": 22,
   "metadata": {},
   "outputs": [
    {
     "name": "stdout",
     "output_type": "stream",
     "text": [
      "Average accuracy of the NeuralNetwork Model with hidden units (128, 128, 128, 128):  0.42651147246360777\n",
      "Average accuracy of the NeuralNetwork Model with hidden units (256, 256, 256):  0.5178965866565705\n",
      "Average accuracy of the NeuralNetwork Model with hidden units (256, 256, 256, 256):  0.502509206533432\n",
      "Average accuracy of the NeuralNetwork Model with hidden units (512, 512):  0.48231551647186277\n",
      "Average accuracy of the NeuralNetwork Model with hidden units (512, 512, 512):  0.4554982304573059\n",
      "Average accuracy of the NeuralNetwork Model with hidden units (1024,):  0.44356396794319153\n",
      "Average accuracy of the NeuralNetwork Model with hidden units (1024, 1024):  0.47797505259513856\n",
      "Average accuracy of the NeuralNetwork Model with hidden units (2048,):  0.44027231335639955\n"
     ]
    }
   ],
   "source": [
    "\"\"\"\n",
    "2. Keras Feedfoward neural network\n",
    "\"\"\"\n",
    "points_histories = {}\n",
    "for hidden_layer in [(128,128,128,128),(256,256,256), (256,256,256,256), (512,512), (512,512,512),(1024,),(1024,1024), (2048,)]:\n",
    "    model = create_ff_model((156,), hidden_layer,optimizer = 'rmsprop')\n",
    "    hist, acc = k_fold_feedforward_points(model, X_points, y)\n",
    "    points_histories[hidden_layer] = hist\n",
    "    print(f\"Average accuracy of the NeuralNetwork Model with hidden units {hidden_layer}: \", acc)"
   ]
  },
  {
   "cell_type": "code",
   "execution_count": 23,
   "metadata": {},
   "outputs": [
    {
     "data": {
      "image/png": "[encoded data removed]",
      "text/plain": [
       "<Figure size 1152x288 with 2 Axes>"
      ]
     },
     "metadata": {
      "needs_background": "light"
     },
     "output_type": "display_data"
    }
   ],
   "source": [
    "draw_training_validation_graph(points_histories[(512,512)][3])"
   ]
  },
  {
   "cell_type": "code",
   "execution_count": 24,
   "metadata": {},
   "outputs": [
    {
     "name": "stdout",
     "output_type": "stream",
     "text": [
      "Average accuracy of the NeuralNetwork Model with hidden units (128, 128, 128, 128):  0.4855153143405914\n",
      "Average accuracy of the NeuralNetwork Model with hidden units (256, 256, 256):  0.5239941358566285\n",
      "Average accuracy of the NeuralNetwork Model with hidden units (256, 256, 256, 256):  0.49194015860557555\n",
      "Average accuracy of the NeuralNetwork Model with hidden units (512, 512):  0.5290333449840545\n",
      "Average accuracy of the NeuralNetwork Model with hidden units (512, 512, 512):  0.5159281313419342\n",
      "Average accuracy of the NeuralNetwork Model with hidden units (1024,):  0.4863728702068329\n",
      "Average accuracy of the NeuralNetwork Model with hidden units (1024, 1024):  0.5357576787471772\n",
      "Average accuracy of the NeuralNetwork Model with hidden units (2048,):  0.48773908615112305\n"
     ]
    }
   ],
   "source": [
    "\"\"\"\n",
    "3. Keras Feedfoward neural network with regularization\n",
    "\"\"\"\n",
    "regularized_points_histories = {}\n",
    "for hidden_layer in [(128,128,128,128),(256,256,256), (256,256,256,256), (512,512), (512,512,512),(1024,),(1024,1024), (2048,)]:\n",
    "    model = create_regularized_ff_model((156,), hidden_layer, l2= 0.001, optimizer='adam')\n",
    "    hist, acc = k_fold_feedforward_points(model,X_points, y)\n",
    "    regularized_points_histories[hidden_layer] = hist\n",
    "    print(f\"Average accuracy of the NeuralNetwork Model with hidden units {hidden_layer}: \", acc)"
   ]
  },
  {
   "cell_type": "code",
   "execution_count": 25,
   "metadata": {},
   "outputs": [
    {
     "data": {
      "image/png": "[encoded data removed]",
      "text/plain": [
       "<Figure size 1152x288 with 2 Axes>"
      ]
     },
     "metadata": {
      "needs_background": "light"
     },
     "output_type": "display_data"
    }
   ],
   "source": [
    "draw_training_validation_graph(regularized_points_histories[(512,512)][0])"
   ]
  },
  {
   "cell_type": "markdown",
   "metadata": {},
   "source": [
    "## Feedforward Neural Network Using Images"
   ]
  },
  {
   "cell_type": "code",
   "execution_count": 26,
   "metadata": {},
   "outputs": [
    {
     "data": {
      "text/plain": [
       "(2500, 40000)"
      ]
     },
     "execution_count": 26,
     "metadata": {},
     "output_type": "execute_result"
    }
   ],
   "source": [
    "\"\"\"\n",
    "Flatten the image to feed feedforward neural network\n",
    "\"\"\"\n",
    "X_flat_images = images.reshape((-1, height * width))\n",
    "X_flat_images.shape"
   ]
  },
  {
   "cell_type": "code",
   "execution_count": 34,
   "metadata": {},
   "outputs": [
    {
     "name": "stdout",
     "output_type": "stream",
     "text": [
      "feedforward neural network with hidden layer : (512, 512) 0.3752795934677124\n",
      "feedforward neural network with hidden layer : (512, 512, 512) 0.355800473690033\n",
      "feedforward neural network with hidden layer : (1024, 1024) 0.33820762038230895\n",
      "feedforward neural network with hidden layer : (1024, 1024, 1024) 0.2510475665330887\n"
     ]
    }
   ],
   "source": [
    "images_histories = {}\n",
    "# underfitting (64,64),\n",
    "# overfitting? (64,64,48),(128,128), (256,256), (512,512)\n",
    "# (64,64,48),(128,128),(256,256),\n",
    "\n",
    "for hidden_layer in [(512,512),(512,512,512),(1024,1024),(1024,1024,1024)]:\n",
    "    model = create_regularized_ff_model((height*width,), hidden_layer, optimizer = 'rmsprop', l2= 0.001)\n",
    "    hist, acc = k_fold_feedforward_points(model, X_flat_images, y)\n",
    "    images_histories[hidden_layer] = hist\n",
    "    print(\"feedforward neural network with hidden layer :\", hidden_layer , acc)"
   ]
  },
  {
   "cell_type": "code",
   "execution_count": 35,
   "metadata": {},
   "outputs": [
    {
     "data": {
      "image/png": "[encoded data removed]",
      "text/plain": [
       "<Figure size 1152x288 with 2 Axes>"
      ]
     },
     "metadata": {
      "needs_background": "light"
     },
     "output_type": "display_data"
    }
   ],
   "source": [
    "draw_training_validation_graph(images_histories[(512,512)][0])"
   ]
  },
  {
   "cell_type": "markdown",
   "metadata": {},
   "source": [
    "## Convolutional Neural Network"
   ]
  },
  {
   "cell_type": "code",
   "execution_count": 36,
   "metadata": {},
   "outputs": [],
   "source": [
    "def create_CNN_model(height = 300, width = 400, dim = 1, convolution_layers = (), dense_layers = (), outputs = 22):\n",
    "    \"\"\"\n",
    "    \n",
    "    \"\"\"\n",
    "    model = models.Sequential()\n",
    "    if len(convolution_layers) < 1:\n",
    "        raise Exception(\"Wrong layers parameters\")\n",
    "        \n",
    "    # input \n",
    "    model.add(layers.Conv2D(convolution_layers[0], (3,3), activation = 'relu', input_shape = (height, width, dim)))\n",
    "    model.add(layers.MaxPool2D(2,2))\n",
    "    \n",
    "    # hidden\n",
    "    for depth in range(1, len(convolution_layers)):\n",
    "        model.add(layers.Conv2D(depth,(3,3), activation = 'relu'))\n",
    "        model.add(layers.MaxPool2D(2,2))\n",
    "        \n",
    "    # output\n",
    "    model.add(layers.Flatten())\n",
    "    for layer in dense_layers:\n",
    "        model.add(layers.Dense(layer, activation = 'relu'))\n",
    "    \n",
    "    model.add(layers.Dense(outputs, activation = 'softmax'))\n",
    "    \n",
    "    model.compile(optimizer = 'rmsprop', loss = 'categorical_crossentropy', metrics = ['accuracy'])\n",
    "    \n",
    "    return model"
   ]
  },
  {
   "cell_type": "code",
   "execution_count": 37,
   "metadata": {},
   "outputs": [],
   "source": [
    "\"\"\"\n",
    "K-fold validation using data augmentation\n",
    "\"\"\"\n",
    "def k_fold_convolutional_model(model, X, y, fold = 5, random_state = 13):\n",
    "    \n",
    "    kfold = StratifiedKFold(n_splits=fold, shuffle=True, random_state=random_state)\n",
    "\n",
    "    train_datagen = ImageDataGenerator(rescale=1/255,\n",
    "                                      rotation_range= 40,\n",
    "                                       width_shift_range=0.2, \n",
    "                                       height_shift_range=0.2,\n",
    "                                       shear_range=0.2,\n",
    "                                      zoom_range=0.2,\n",
    "                                       horizontal_flip= True)\n",
    "\n",
    "    test_datagen = ImageDataGenerator(rescale=1/255)\n",
    "    \n",
    "    avg_accuracy = 0\n",
    "    for train_index, val_index in kfold.split(X, y):\n",
    "        # split traning set and validation set\n",
    "        X_train = X[train_index]\n",
    "        y_train = y[train_index]\n",
    "\n",
    "        X_test = X[val_index]\n",
    "        y_test = y[val_index]\n",
    "        \n",
    "        y_train = to_categorical(y_train)\n",
    "        y_test = to_categorical(y_test)\n",
    "\n",
    "        \n",
    "        # create data generator\n",
    "        train_generator = train_datagen.flow(X_train, \n",
    "                                             y_train, \n",
    "                                             batch_size = 50, \n",
    "                                             shuffle = True, \n",
    "                                             seed = random_state)\n",
    "        test_generator = test_datagen.flow(X_test, y_test,\n",
    "                                                       batch_size = 20, \n",
    "                                                       seed = random_state)\n",
    "        \n",
    "        callbacks = [\n",
    "          EarlyStopping(\n",
    "            monitor='val_loss', patience=5, verbose=0)\n",
    "          ]\n",
    "        \n",
    "        history = model.fit_generator(train_generator, \n",
    "                                      epochs = 20, \n",
    "                                      steps_per_epoch = 50, \n",
    "                                      validation_data = test_generator, \n",
    "                                      validation_steps = 25,\n",
    "                                      workers = 6,\n",
    "                                      shuffle = True,\n",
    "                                      callbacks = callbacks\n",
    "                                         )\n",
    "        print(model.predict(X_test))\n",
    "        histories.append(history)\n",
    "        avg_accuracy += model.evaluate(X_test, y_test, verbose = False)[1]\n",
    "        \n",
    "    return histories, avg_accuracy / fold\n"
   ]
  },
  {
   "cell_type": "code",
   "execution_count": 38,
   "metadata": {},
   "outputs": [
    {
     "name": "stdout",
     "output_type": "stream",
     "text": [
      "Epoch 1/20\n",
      "50/50 [==============================] - 51s 1s/step - loss: 3.0926 - accuracy: 0.0365 - val_loss: 3.0944 - val_accuracy: 0.0540\n",
      "Epoch 2/20\n",
      "50/50 [==============================] - 50s 1s/step - loss: 3.0906 - accuracy: 0.0526 - val_loss: 3.0974 - val_accuracy: 0.0553\n",
      "Epoch 3/20\n",
      "50/50 [==============================] - 50s 1s/step - loss: 3.0906 - accuracy: 0.0527 - val_loss: 3.0923 - val_accuracy: 0.0492\n",
      "Epoch 4/20\n",
      "50/50 [==============================] - 50s 1s/step - loss: 3.0899 - accuracy: 0.0534 - val_loss: 3.0885 - val_accuracy: 0.0512\n",
      "Epoch 5/20\n",
      "50/50 [==============================] - 50s 1s/step - loss: 3.0895 - accuracy: 0.0534 - val_loss: 3.1032 - val_accuracy: 0.0615\n",
      "Epoch 6/20\n",
      "50/50 [==============================] - 50s 1s/step - loss: 3.0894 - accuracy: 0.0531 - val_loss: 3.0814 - val_accuracy: 0.0492\n",
      "Epoch 7/20\n",
      "50/50 [==============================] - 50s 1s/step - loss: 3.0894 - accuracy: 0.0566 - val_loss: 3.0903 - val_accuracy: 0.0512\n",
      "Epoch 8/20\n",
      "50/50 [==============================] - 50s 1s/step - loss: 3.0901 - accuracy: 0.0538 - val_loss: 3.0719 - val_accuracy: 0.0451\n",
      "Epoch 9/20\n",
      "50/50 [==============================] - 50s 997ms/step - loss: 3.0893 - accuracy: 0.0539 - val_loss: 3.0805 - val_accuracy: 0.0676\n",
      "Epoch 10/20\n",
      "50/50 [==============================] - 50s 1s/step - loss: 3.0900 - accuracy: 0.0528 - val_loss: 3.0773 - val_accuracy: 0.0430\n",
      "Epoch 11/20\n",
      "50/50 [==============================] - 50s 1s/step - loss: 3.0879 - accuracy: 0.0572 - val_loss: 3.0805 - val_accuracy: 0.0594\n",
      "Epoch 12/20\n",
      "50/50 [==============================] - 50s 1s/step - loss: 3.0902 - accuracy: 0.0530 - val_loss: 3.0809 - val_accuracy: 0.0553\n",
      "Epoch 13/20\n",
      "50/50 [==============================] - 50s 999ms/step - loss: 3.0895 - accuracy: 0.0535 - val_loss: 3.0760 - val_accuracy: 0.0471\n",
      "[[0.04502017 0.04573455 0.05319565 ... 0.04584314 0.04604395 0.04409504]\n",
      " [0.04502017 0.04573455 0.05319565 ... 0.04584314 0.04604395 0.04409504]\n",
      " [0.04502017 0.04573455 0.05319565 ... 0.04584314 0.04604395 0.04409504]\n",
      " ...\n",
      " [0.04502017 0.04573455 0.05319565 ... 0.04584314 0.04604395 0.04409504]\n",
      " [0.04502017 0.04573455 0.05319565 ... 0.04584314 0.04604395 0.04409504]\n",
      " [0.04502017 0.04573455 0.05319565 ... 0.04584314 0.04604395 0.04409504]]\n"
     ]
    },
    {
     "ename": "NameError",
     "evalue": "name 'histories' is not defined",
     "output_type": "error",
     "traceback": [
      "\u001b[1;31m---------------------------------------------------------------------------\u001b[0m",
      "\u001b[1;31mNameError\u001b[0m                                 Traceback (most recent call last)",
      "\u001b[1;32m<ipython-input-38-aa0c2439122b>\u001b[0m in \u001b[0;36m<module>\u001b[1;34m\u001b[0m\n\u001b[0;32m      3\u001b[0m \u001b[1;32mfor\u001b[0m \u001b[0mconv_layer\u001b[0m \u001b[1;32min\u001b[0m \u001b[1;33m[\u001b[0m\u001b[1;33m[\u001b[0m\u001b[1;36m64\u001b[0m\u001b[1;33m,\u001b[0m\u001b[1;36m128\u001b[0m\u001b[1;33m]\u001b[0m\u001b[1;33m,\u001b[0m \u001b[1;33m[\u001b[0m\u001b[1;36m128\u001b[0m\u001b[1;33m,\u001b[0m\u001b[1;36m128\u001b[0m\u001b[1;33m]\u001b[0m\u001b[1;33m,\u001b[0m\u001b[1;33m[\u001b[0m\u001b[1;36m64\u001b[0m\u001b[1;33m,\u001b[0m\u001b[1;36m128\u001b[0m\u001b[1;33m,\u001b[0m\u001b[1;36m128\u001b[0m\u001b[1;33m,\u001b[0m\u001b[1;36m256\u001b[0m\u001b[1;33m]\u001b[0m\u001b[1;33m,\u001b[0m\u001b[1;33m[\u001b[0m\u001b[1;36m64\u001b[0m\u001b[1;33m,\u001b[0m\u001b[1;36m64\u001b[0m\u001b[1;33m,\u001b[0m\u001b[1;36m128\u001b[0m\u001b[1;33m,\u001b[0m\u001b[1;36m128\u001b[0m\u001b[1;33m]\u001b[0m\u001b[1;33m,\u001b[0m\u001b[1;33m[\u001b[0m\u001b[1;36m64\u001b[0m\u001b[1;33m,\u001b[0m\u001b[1;36m64\u001b[0m\u001b[1;33m,\u001b[0m\u001b[1;36m128\u001b[0m\u001b[1;33m,\u001b[0m\u001b[1;36m128\u001b[0m\u001b[1;33m,\u001b[0m\u001b[1;36m256\u001b[0m\u001b[1;33m,\u001b[0m\u001b[1;36m512\u001b[0m\u001b[1;33m]\u001b[0m\u001b[1;33m,\u001b[0m\u001b[1;33m[\u001b[0m\u001b[1;36m64\u001b[0m\u001b[1;33m,\u001b[0m\u001b[1;36m128\u001b[0m\u001b[1;33m,\u001b[0m\u001b[1;36m256\u001b[0m\u001b[1;33m,\u001b[0m\u001b[1;36m512\u001b[0m\u001b[1;33m]\u001b[0m\u001b[1;33m]\u001b[0m\u001b[1;33m:\u001b[0m\u001b[1;33m\u001b[0m\u001b[1;33m\u001b[0m\u001b[0m\n\u001b[0;32m      4\u001b[0m     \u001b[0mmodel\u001b[0m  \u001b[1;33m=\u001b[0m \u001b[0mcreate_CNN_model\u001b[0m\u001b[1;33m(\u001b[0m\u001b[0mheight\u001b[0m\u001b[1;33m,\u001b[0m \u001b[0mwidth\u001b[0m\u001b[1;33m,\u001b[0m \u001b[1;36m1\u001b[0m\u001b[1;33m,\u001b[0m\u001b[1;33m[\u001b[0m\u001b[1;36m64\u001b[0m\u001b[1;33m,\u001b[0m\u001b[1;36m128\u001b[0m\u001b[1;33m]\u001b[0m\u001b[1;33m,\u001b[0m \u001b[1;33m[\u001b[0m\u001b[1;36m512\u001b[0m\u001b[1;33m]\u001b[0m\u001b[1;33m)\u001b[0m\u001b[1;33m\u001b[0m\u001b[1;33m\u001b[0m\u001b[0m\n\u001b[1;32m----> 5\u001b[1;33m     \u001b[0mhist\u001b[0m\u001b[1;33m,\u001b[0m \u001b[0macc\u001b[0m \u001b[1;33m=\u001b[0m \u001b[0mk_fold_convolutional_model\u001b[0m\u001b[1;33m(\u001b[0m\u001b[0mmodel\u001b[0m\u001b[1;33m,\u001b[0m \u001b[0mimages\u001b[0m\u001b[1;33m,\u001b[0m \u001b[0my\u001b[0m\u001b[1;33m)\u001b[0m\u001b[1;33m\u001b[0m\u001b[1;33m\u001b[0m\u001b[0m\n\u001b[0m\u001b[0;32m      6\u001b[0m     \u001b[0mconv_histories\u001b[0m\u001b[1;33m[\u001b[0m\u001b[0mconv_layer\u001b[0m\u001b[1;33m]\u001b[0m \u001b[1;33m=\u001b[0m \u001b[0mhist\u001b[0m\u001b[1;33m\u001b[0m\u001b[1;33m\u001b[0m\u001b[0m\n\u001b[0;32m      7\u001b[0m     \u001b[0mprint\u001b[0m\u001b[1;33m(\u001b[0m\u001b[1;34mf\"Accuracy of convolutional neural network with hidden layer {conv_layer}:\"\u001b[0m\u001b[1;33m,\u001b[0m \u001b[0macc\u001b[0m\u001b[1;33m)\u001b[0m\u001b[1;33m\u001b[0m\u001b[1;33m\u001b[0m\u001b[0m\n",
      "\u001b[1;32m<ipython-input-37-36657428acff>\u001b[0m in \u001b[0;36mk_fold_convolutional_model\u001b[1;34m(model, X, y, fold, random_state)\u001b[0m\n\u001b[0;32m     54\u001b[0m                                          )\n\u001b[0;32m     55\u001b[0m         \u001b[0mprint\u001b[0m\u001b[1;33m(\u001b[0m\u001b[0mmodel\u001b[0m\u001b[1;33m.\u001b[0m\u001b[0mpredict\u001b[0m\u001b[1;33m(\u001b[0m\u001b[0mX_test\u001b[0m\u001b[1;33m)\u001b[0m\u001b[1;33m)\u001b[0m\u001b[1;33m\u001b[0m\u001b[1;33m\u001b[0m\u001b[0m\n\u001b[1;32m---> 56\u001b[1;33m         \u001b[0mhistories\u001b[0m\u001b[1;33m.\u001b[0m\u001b[0mappend\u001b[0m\u001b[1;33m(\u001b[0m\u001b[0mhistory\u001b[0m\u001b[1;33m)\u001b[0m\u001b[1;33m\u001b[0m\u001b[1;33m\u001b[0m\u001b[0m\n\u001b[0m\u001b[0;32m     57\u001b[0m         \u001b[0mavg_accuracy\u001b[0m \u001b[1;33m+=\u001b[0m \u001b[0mmodel\u001b[0m\u001b[1;33m.\u001b[0m\u001b[0mevaluate\u001b[0m\u001b[1;33m(\u001b[0m\u001b[0mX_test\u001b[0m\u001b[1;33m,\u001b[0m \u001b[0my_test\u001b[0m\u001b[1;33m,\u001b[0m \u001b[0mverbose\u001b[0m \u001b[1;33m=\u001b[0m \u001b[1;32mFalse\u001b[0m\u001b[1;33m)\u001b[0m\u001b[1;33m[\u001b[0m\u001b[1;36m1\u001b[0m\u001b[1;33m]\u001b[0m\u001b[1;33m\u001b[0m\u001b[1;33m\u001b[0m\u001b[0m\n\u001b[0;32m     58\u001b[0m \u001b[1;33m\u001b[0m\u001b[0m\n",
      "\u001b[1;31mNameError\u001b[0m: name 'histories' is not defined"
     ]
    }
   ],
   "source": [
    "conv_histories = {}\n",
    "\n",
    "for conv_layer in [[64,128], [128,128],[64,128,128,256],[64,64,128,128],[64,64,128,128,256,512],[64,128,256,512]]:\n",
    "    model  = create_CNN_model(height, width, 1,[64,128], [512])\n",
    "    hist, acc = k_fold_convolutional_model(model, images, y)\n",
    "    conv_histories[conv_layer] = hist\n",
    "    print(f\"Accuracy of convolutional neural network with hidden layer {conv_layer}:\", acc)"
   ]
  }
 ],
 "metadata": {
  "kernelspec": {
   "display_name": "Python 3",
   "language": "python",
   "name": "python3"
  },
  "language_info": {
   "codemirror_mode": {
    "name": "ipython",
    "version": 3
   },
   "file_extension": ".py",
   "mimetype": "text/x-python",
   "name": "python",
   "nbconvert_exporter": "python",
   "pygments_lexer": "ipython3",
   "version": "3.6.9"
  }
 },
 "nbformat": 4,
 "nbformat_minor": 2
}
