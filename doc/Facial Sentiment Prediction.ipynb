{
 "cells": [
  {
   "cell_type": "markdown",
   "metadata": {},
   "source": [
    "# ADS Project 3 Group 4"
   ]
  },
  {
   "cell_type": "markdown",
   "metadata": {},
   "source": [
    "## Libraries and Settings"
   ]
  },
  {
   "cell_type": "code",
   "execution_count": 1,
   "metadata": {},
   "outputs": [
    {
     "name": "stderr",
     "output_type": "stream",
     "text": [
      "Using TensorFlow backend.\n"
     ]
    }
   ],
   "source": [
    "import sys\n",
    "import os\n",
    "import matplotlib.pyplot as plt\n",
    "import numpy as np\n",
    "import pandas as pd\n",
    "import PIL\n",
    "from PIL import Image\n",
    "from scipy.io import loadmat\n",
    "\n",
    "from sklearn.model_selection import StratifiedKFold\n",
    "from sklearn.dummy import DummyClassifier\n",
    "from sklearn.neighbors import KNeighborsClassifier\n",
    "from sklearn.preprocessing import StandardScaler\n",
    "from sklearn.tree import DecisionTreeClassifier\n",
    "from sklearn.ensemble import RandomForestClassifier\n",
    "from sklearn.svm import LinearSVC, SVC\n",
    "from sklearn.linear_model import LogisticRegression\n",
    "from sklearn.neural_network import MLPClassifier\n",
    "\n",
    "from keras.callbacks import EarlyStopping\n",
    "from keras import models\n",
    "from keras import layers\n",
    "from keras.preprocessing.image import ImageDataGenerator\n",
    "from keras import regularizers\n",
    "from keras.utils.np_utils import to_categorical"
   ]
  },
  {
   "cell_type": "code",
   "execution_count": 2,
   "metadata": {},
   "outputs": [],
   "source": [
    "\"\"\"\n",
    "Path\n",
    "\"\"\"\n",
    "DATA_PATH = \"../data/train_set\"\n",
    "IMAGE_FOLDER = os.path.join(DATA_PATH, \"images\")\n",
    "POINTS_FOLDER = os.path.join(DATA_PATH, \"points\")\n",
    "LABELS_FOLDER = DATA_PATH\n",
    "\n",
    "RANDOM_SEED = 13"
   ]
  },
  {
   "cell_type": "markdown",
   "metadata": {},
   "source": [
    "## Read Training Data"
   ]
  },
  {
   "cell_type": "code",
   "execution_count": 3,
   "metadata": {},
   "outputs": [],
   "source": [
    "def read_all_images(height = 750, width = 1000, crop_gray = False, points = None):\n",
    "    \"\"\"\n",
    "    Read 2500 training images from the IMAGE_FOLDER, resized to 'height x width'\n",
    "    \n",
    "    :param height: resized height of images\n",
    "    :param width: resized width of images\n",
    "    :return: a 4d numpy array in form of (index, height, width, channels), channels is RGB \n",
    "    \"\"\"\n",
    "    files = [file for file in os.listdir(IMAGE_FOLDER) if file.endswith('.jpg')]\n",
    "    files.sort()\n",
    "    \n",
    "    \n",
    "    face_images_arr = np.zeros((len(files), height, width, 1 if crop_gray else 3 ))\n",
    "    \n",
    "    for index, filename in enumerate(files):\n",
    "        face_img = Image.open(os.path.join(IMAGE_FOLDER, filename))\n",
    "        # if crop_gray, then the image will be cropped to fit the facial part\n",
    "        # and then it will return a grayscale version\n",
    "        if crop_gray:\n",
    "            face_img = face_img.convert('L')\n",
    "\n",
    "            face_points = points[index]\n",
    "            # calculate crop position\n",
    "            left = np.min(face_points[:,0]) \n",
    "            right = np.max(face_points[:,0]) \n",
    "            top = np.min(face_points[:,1])\n",
    "            bot = np.max(face_points[:,1])\n",
    "\n",
    "            face_img = face_img.crop((left,top,right,bot))\n",
    "        \n",
    "        face_img = face_img.resize((width, height))\n",
    "        # fit the dimension\n",
    "        face_images_arr[index] = np.array(face_img).reshape((height,width, -1))\n",
    "        \n",
    "    return face_images_arr\n",
    "\n",
    "def read_labels():\n",
    "    \"\"\"\n",
    "    Read the image labels from the label.csv file\n",
    "    :return: a pandas.DataFrame with 3 columns: 'emotion_idx','emotion_cat','type'\n",
    "    \"\"\"\n",
    "    labels_df = pd.read_csv(os.path.join(LABELS_FOLDER, 'label.csv'))\n",
    "    labels_df = labels_df.loc[:,['emotion_idx','emotion_cat','type']]\n",
    "    return labels_df\n",
    "    \n",
    "\n",
    "def read_all_points():\n",
    "    \"\"\"\n",
    "    Read all face coordinates points\n",
    "    :return: a tuple of shape (2500, 78, 2). Because for each of 2500 images there are 78 points associated with it\n",
    "    \"\"\"\n",
    "    files = [file for file in os.listdir(POINTS_FOLDER) if file.endswith('.mat')]\n",
    "    files.sort()\n",
    "    \n",
    "    face_points = np.zeros((len(files), 78, 2))\n",
    "    for index, filename in enumerate(files):\n",
    "        face_points_dict = loadmat(os.path.join(POINTS_FOLDER, filename))\n",
    "    \n",
    "        face_points[index] = face_points_dict.get('faceCoordinatesUnwarped',  face_points_dict.get('faceCoordinates2'))\n",
    "    return face_points\n",
    "\n",
    "def load_data(loadImage = False, height = 750, width = 1000, crop_gray = False):\n",
    "    \"\"\"\n",
    "    Load training data from local files\n",
    "    \n",
    "    :param loadImage: if it's False, this function will not load original images\n",
    "    :return: a tuple (images, points, labels)\n",
    "        if loadImage is False, the 'images' will None. Otherwise its a numpy array with shape (2500,750,1000,3)\n",
    "        points is a numpy array with shape (2500, 78, 2)\n",
    "        labels is a pandas.DataFrame\n",
    "    \"\"\"\n",
    "    \n",
    "    face_images_points = read_all_points()\n",
    "    \n",
    "    face_images_ndarr =  read_all_images(height, width, crop_gray, face_images_points) if loadImage else None\n",
    "    labels = read_labels()\n",
    "    \n",
    "    return face_images_ndarr, face_images_points, labels\n",
    "\n",
    "\n",
    "\n",
    "def show_image(index, all_images = None):\n",
    "    \"\"\"\n",
    "    Display the (index)th image.\n",
    "    all_images is passed, the this image numpy array can be easily retrieved from it. \n",
    "    Otherwise the original images needs to be read from disk\n",
    "    \n",
    "    :param index: the index to specify which image to disply\n",
    "    :param all_images: the return value of 'read_all_images' function\n",
    "    \"\"\"\n",
    "    \n",
    "    if all_images is not None and index < len(all_images):\n",
    "        face_img_arr = all_images[index].astype('uint8')\n",
    "        if face_img_arr.shape[2] == 1:\n",
    "            face_img_arr = face_img_arr.reshape((face_img_arr.shape[0],face_img_arr.shape[1]))\n",
    "    else:\n",
    "        face_img_arr = plt.imread(os.path.join(IMAGE_FOLDER, f\"{index:04}.jpg\"))\n",
    "    plt.imshow(face_img_arr, cmap='gray')\n",
    "    plt.show()\n"
   ]
  },
  {
   "cell_type": "code",
   "execution_count": 4,
   "metadata": {},
   "outputs": [],
   "source": [
    "\"\"\"\n",
    "Read images with 200x200 resolution and facial points, labels\n",
    "\"\"\"\n",
    "height = 200\n",
    "width = 200\n",
    "images, points, labels = load_data(loadImage= True,crop_gray=True, height = height, width = width)"
   ]
  },
  {
   "cell_type": "code",
   "execution_count": 5,
   "metadata": {},
   "outputs": [
    {
     "name": "stdout",
     "output_type": "stream",
     "text": [
      "shape of image (2500, 200, 200, 1)\n",
      "memory of image ndarray is 0.75 GB\n",
      "shape of points (2500, 78, 2)\n"
     ]
    }
   ],
   "source": [
    "if images is not None:\n",
    "    print(\"shape of image\",images.shape)\n",
    "    print(f\"memory of image ndarray is {sys.getsizeof(images)/1024/1024/1024:.2f} GB\")\n",
    "if points is not None:\n",
    "    print(\"shape of points\",points.shape)"
   ]
  },
  {
   "cell_type": "code",
   "execution_count": 6,
   "metadata": {},
   "outputs": [
    {
     "data": {
      "image/png": "[encoded data removed]",
      "text/plain": [
       "<Figure size 432x288 with 1 Axes>"
      ]
     },
     "metadata": {
      "needs_background": "light"
     },
     "output_type": "display_data"
    },
    {
     "name": "stdout",
     "output_type": "stream",
     "text": [
      "emotion_idx          18\n",
      "emotion_cat        Awed\n",
      "type           compound\n",
      "Name: 2001, dtype: object\n"
     ]
    }
   ],
   "source": [
    "example_number = 2001\n",
    "show_image(example_number,images)\n",
    "print(labels.iloc[example_number])"
   ]
  },
  {
   "cell_type": "markdown",
   "metadata": {},
   "source": [
    "## Data Preprocessing "
   ]
  },
  {
   "cell_type": "code",
   "execution_count": 7,
   "metadata": {},
   "outputs": [],
   "source": [
    "def get_distances(points):\n",
    "    \"\"\"\n",
    "    Calculate the distances between each two points for every row\n",
    "    \n",
    "    :return: new feature represented by point distances, a ndarray\n",
    "    \"\"\"\n",
    "    \n",
    "    distances = []\n",
    "    \n",
    "    # for each row\n",
    "    for p in points:\n",
    "        dist = []\n",
    "        for i in range(len(p)):\n",
    "            for j in range(i+1, len(p)):\n",
    "                tempd = p[i] - p[j]\n",
    "                dist.append(np.sqrt(tempd[0] ** 2 + tempd[1] ** 2))\n",
    "                            \n",
    "        distances.append(dist)\n",
    "    \n",
    "    return np.array(distances)\n"
   ]
  },
  {
   "cell_type": "code",
   "execution_count": 8,
   "metadata": {},
   "outputs": [
    {
     "name": "stdout",
     "output_type": "stream",
     "text": [
      "(2500, 3003) (2500, 156) (2500,)\n"
     ]
    }
   ],
   "source": [
    "\"\"\"\n",
    "Preprocess the points input and extract the target y\n",
    "\"\"\"\n",
    "\n",
    "\n",
    "X_distances = get_distances(points)\n",
    "\n",
    "X_points = points.reshape((points.shape[0], -1))\n",
    "\n",
    "y = labels['emotion_idx'].values - 1\n",
    "\n",
    "print(X_distances.shape,X_points.shape, y.shape)"
   ]
  },
  {
   "cell_type": "code",
   "execution_count": 9,
   "metadata": {},
   "outputs": [],
   "source": [
    "def k_fold_validation(model, X, y, fold = 5, random_state = RANDOM_SEED):\n",
    "    \"\"\"\n",
    "    k-fold cross validation of sklearn classifier using X and y\n",
    "    \n",
    "    :param model: sklearn-compatible classifier with fit and score methods\n",
    "    :param X: the feature matrix\n",
    "    :param y: the target\n",
    "    :param fold: the number of fold\n",
    "    :param random_state: random seed for k-fold splitting\n",
    "    \n",
    "    :return: average accuracy for the model\n",
    "    \"\"\"\n",
    "    \n",
    "    kfold = StratifiedKFold(n_splits=fold, shuffle=True, random_state=random_state)\n",
    "    \n",
    "    avg_accuracy = 0\n",
    "    for train_index, val_index in kfold.split(X, y):\n",
    "\n",
    "        # split traning set and validation set\n",
    "        X_train = X[train_index]\n",
    "        y_train = y[train_index]\n",
    "\n",
    "        X_test = X[val_index]\n",
    "        y_test = y[val_index]\n",
    "\n",
    "        # standardize\n",
    "        scaler = StandardScaler()\n",
    "        X_train = scaler.fit_transform(X_train)\n",
    "        X_test =scaler.transform(X_test)\n",
    "\n",
    "        # fit\n",
    "        model.fit(X_train, y_train)\n",
    "\n",
    "        avg_accuracy += model.score(X_test, y_test)\n",
    "\n",
    "    return avg_accuracy / fold\n",
    "\n",
    "\n",
    "def draw_plot(X, y, title, xlabel, ylabel):\n",
    "    \"\"\"\n",
    "    Draw a plain plot graph\n",
    "    \"\"\"\n",
    "    plt.plot(X,y)\n",
    "    plt.title(title)\n",
    "    plt.xlabel(xlabel)\n",
    "    plt.ylabel(ylabel)\n",
    "    plt.show()\n",
    "    "
   ]
  },
  {
   "cell_type": "markdown",
   "metadata": {},
   "source": [
    "## Dummy Model"
   ]
  },
  {
   "cell_type": "code",
   "execution_count": 10,
   "metadata": {},
   "outputs": [
    {
     "name": "stdout",
     "output_type": "stream",
     "text": [
      "Average accuracy of the dummy model is:  0.04403164601800869\n"
     ]
    }
   ],
   "source": [
    "dummy_model = DummyClassifier()\n",
    "avg_dummy_acc = k_fold_validation(dummy_model, X_points, y)\n",
    "print(\"Average accuracy of the dummy model is: \", avg_dummy_acc)"
   ]
  },
  {
   "cell_type": "markdown",
   "metadata": {},
   "source": [
    "## Decision Tree"
   ]
  },
  {
   "cell_type": "code",
   "execution_count": 11,
   "metadata": {},
   "outputs": [
    {
     "name": "stdout",
     "output_type": "stream",
     "text": [
      "Average with leaf=10:  0.13087174340059604\n",
      "Average with leaf=20:  0.15198743725169717\n",
      "Average with leaf=30:  0.1508108140109527\n",
      "Average with leaf=50:  0.16026868027973398\n",
      "Average with leaf=70:  0.1595867914587016\n",
      "Average with leaf=100:  0.15525117095973948\n",
      "=============================================\n",
      "Average with leaf=10:  0.24728906231793438\n",
      "Average with leaf=20:  0.27838962298671466\n",
      "Average with leaf=30:  0.2992097855654587\n",
      "Average with leaf=50:  0.314014010724936\n",
      "Average with leaf=70:  0.31440337936786017\n",
      "Average with leaf=100:  0.3067738635748686\n"
     ]
    }
   ],
   "source": [
    "leaf_nodes = [10, 20,30,50,70,100]\n",
    "\n",
    "# 1. using points coordinate\n",
    "dt_points_accuracies = []\n",
    "for leaf_n in leaf_nodes:\n",
    "    model = DecisionTreeClassifier(max_leaf_nodes= leaf_n, random_state=RANDOM_SEED)\n",
    "\n",
    "    dt_points_acc = k_fold_validation(model, X_points, y)\n",
    "    print(f\"Average with leaf={leaf_n}: \", dt_points_acc)\n",
    "    dt_points_accuracies.append(dt_points_acc)\n",
    "    \n",
    "\n",
    "print(\"=============================================\")\n",
    "    \n",
    "# 2. using distances\n",
    "dt_distances_accuracies = []\n",
    "for leaf_n in leaf_nodes:\n",
    "    model = DecisionTreeClassifier(max_leaf_nodes= leaf_n)\n",
    "    \n",
    "    dt_distances_acc = k_fold_validation(model, X_distances, y, random_state=RANDOM_SEED)\n",
    "    print(f\"Average with leaf={leaf_n}: \", dt_distances_acc)\n",
    "    dt_distances_accuracies.append(dt_distances_acc)"
   ]
  },
  {
   "cell_type": "code",
   "execution_count": 12,
   "metadata": {},
   "outputs": [
    {
     "data": {
      "image/png": "[encoded data removed]",
      "text/plain": [
       "<Figure size 432x288 with 1 Axes>"
      ]
     },
     "metadata": {
      "needs_background": "light"
     },
     "output_type": "display_data"
    }
   ],
   "source": [
    "draw_plot(leaf_nodes, dt_distances_accuracies, 'Accuracy For Decision Tree(Distances Input)', 'Max Leaf Nodes', 'Accuracy')"
   ]
  },
  {
   "cell_type": "code",
   "execution_count": 13,
   "metadata": {},
   "outputs": [
    {
     "name": "stdout",
     "output_type": "stream",
     "text": [
      "Wall time: 24.7 s\n"
     ]
    }
   ],
   "source": [
    "\"\"\"\n",
    "Testing time\n",
    "\"\"\"\n",
    "\n",
    "best_decisiontree_model = DecisionTreeClassifier(max_leaf_nodes= 50)\n",
    "\n",
    "%time acc = k_fold_validation(best_decisiontree_model, X_distances, y, random_state=RANDOM_SEED)"
   ]
  },
  {
   "cell_type": "code",
   "execution_count": 16,
   "metadata": {},
   "outputs": [
    {
     "data": {
      "text/plain": [
       "'\\nSave model\\n'"
      ]
     },
     "execution_count": 16,
     "metadata": {},
     "output_type": "execute_result"
    }
   ],
   "source": [
    "\"\"\"\n",
    "Save model\n",
    "\"\"\"\n"
   ]
  },
  {
   "cell_type": "markdown",
   "metadata": {},
   "source": [
    "## Random Forest"
   ]
  },
  {
   "cell_type": "code",
   "execution_count": 17,
   "metadata": {},
   "outputs": [
    {
     "name": "stdout",
     "output_type": "stream",
     "text": [
      "Average with tree=100:  0.21357041471177363\n",
      "Average with tree=200:  0.21834855249440643\n",
      "Average with tree=300:  0.21276589673727125\n",
      "Average with tree=500:  0.21758175708729785\n",
      "Average with tree=1000:  0.21727235117802088\n",
      "Average with tree=2000:  0.21846434175422536\n",
      "=============================================\n",
      "Average accuracy with tree=100:  0.4144182647556751\n",
      "Average accuracy with tree=200:  0.42515996190177263\n",
      "Average accuracy with tree=300:  0.42992060944322147\n",
      "Average accuracy with tree=500:  0.43436950675075503\n",
      "Average accuracy with tree=1000:  0.4371899407079966\n",
      "Average accuracy with tree=2000:  0.438021879935809\n"
     ]
    }
   ],
   "source": [
    "trees = [100,200,300,500, 1000, 2000]\n",
    "\n",
    "# 1. points coordinates\n",
    "rf_points_accuracies = []\n",
    "for tree in trees:\n",
    "    model = RandomForestClassifier(n_estimators= tree, random_state=RANDOM_SEED, n_jobs=6 )\n",
    "    rf_points_acc = k_fold_validation(model, X_points, y)\n",
    "    print(f\"Average with tree={tree}: \", rf_points_acc)\n",
    "    rf_points_accuracies.append(rf_points_acc)\n",
    "\n",
    "\n",
    "print(\"=============================================\")\n",
    "    \n",
    "\n",
    "# 2. points distances\n",
    "rf_distances_accuracies = []\n",
    "for tree in trees:\n",
    "    model = RandomForestClassifier(n_estimators= tree, random_state=RANDOM_SEED, n_jobs=6)\n",
    "    rf_distances_acc = k_fold_validation(model, X_distances, y)\n",
    "    print(f\"Average accuracy with tree={tree}: \", rf_distances_acc)\n",
    "    rf_distances_accuracies.append(rf_distances_acc)"
   ]
  },
  {
   "cell_type": "code",
   "execution_count": 18,
   "metadata": {},
   "outputs": [
    {
     "data": {
      "image/png": "[encoded data removed]",
      "text/plain": [
       "<Figure size 432x288 with 1 Axes>"
      ]
     },
     "metadata": {
      "needs_background": "light"
     },
     "output_type": "display_data"
    }
   ],
   "source": [
    "draw_plot(trees, rf_distances_accuracies, 'Accuracy For Random Forest(Distances Input)', 'Number Of Trees', 'Accuracy')"
   ]
  },
  {
   "cell_type": "code",
   "execution_count": 19,
   "metadata": {},
   "outputs": [
    {
     "name": "stdout",
     "output_type": "stream",
     "text": [
      "Wall time: 2min 29s\n"
     ]
    }
   ],
   "source": [
    "best_forest_model = RandomForestClassifier(n_estimators=2000, n_jobs = 6)\n",
    "%time acc = k_fold_validation(best_forest_model, X_distances, y, random_state=RANDOM_SEED)"
   ]
  },
  {
   "cell_type": "markdown",
   "metadata": {},
   "source": [
    "## KNN"
   ]
  },
  {
   "cell_type": "code",
   "execution_count": 20,
   "metadata": {},
   "outputs": [
    {
     "name": "stdout",
     "output_type": "stream",
     "text": [
      "Average accuracy with neighbor=10:  0.11792360521942975\n",
      "Average accuracy with neighbor=30:  0.10797320526358727\n",
      "Average accuracy with neighbor=50:  0.10246526518408854\n",
      "Average accuracy with neighbor=100:  0.10690413882957076\n",
      "Average accuracy with neighbor=200:  0.10167924794494909\n",
      "Average accuracy with neighbor=300:  0.0980433536177672\n",
      "Average accuracy with neighbor=500:  0.09430854768377811\n",
      "=============================================\n",
      "Average accuracy with neighbor=10:  0.2876408777971597\n",
      "Average accuracy with neighbor=30:  0.324610042294588\n",
      "Average accuracy with neighbor=50:  0.3209803761620179\n",
      "Average accuracy with neighbor=100:  0.30529662441336386\n",
      "Average accuracy with neighbor=200:  0.2631153788052016\n",
      "Average accuracy with neighbor=300:  0.24257727517873667\n",
      "Average accuracy with neighbor=500:  0.20092869641853114\n"
     ]
    }
   ],
   "source": [
    "neighbors = [10,30,50,100,200,300,500]\n",
    "\n",
    "# 1. points coordinates\n",
    "knn_points_accuracies = []\n",
    "for n in neighbors:\n",
    "    model = KNeighborsClassifier(n_neighbors= n, n_jobs = 6)\n",
    "    knn_points_acc = k_fold_validation(model, X_points, y)\n",
    "    print(f\"Average accuracy with neighbor={n}: \", knn_points_acc)\n",
    "    knn_points_accuracies.append(knn_points_acc)\n",
    "    \n",
    "\n",
    "print(\"=============================================\")\n",
    "\n",
    "    \n",
    "# 2. distances\n",
    "knn_distances_accuracies = []\n",
    "for n in neighbors:\n",
    "    model = KNeighborsClassifier(n_neighbors= n, n_jobs = 6)\n",
    "    knn_distance_acc = k_fold_validation(model, X_distances, y)\n",
    "    print(f\"Average accuracy with neighbor={n}: \", knn_distance_acc)\n",
    "    knn_distances_accuracies.append(knn_distance_acc)\n",
    "        "
   ]
  },
  {
   "cell_type": "code",
   "execution_count": 21,
   "metadata": {},
   "outputs": [
    {
     "data": {
      "image/png": "[encoded data removed]",
      "text/plain": [
       "<Figure size 432x288 with 1 Axes>"
      ]
     },
     "metadata": {
      "needs_background": "light"
     },
     "output_type": "display_data"
    }
   ],
   "source": [
    "draw_plot(neighbors, knn_distances_accuracies, 'Accuracy For KNN(Distances Input)', 'Number Of Neighbors', 'Accuracy')"
   ]
  },
  {
   "cell_type": "code",
   "execution_count": 22,
   "metadata": {},
   "outputs": [
    {
     "name": "stdout",
     "output_type": "stream",
     "text": [
      "Wall time: 7.44 s\n"
     ]
    }
   ],
   "source": [
    "best_knn_model = KNeighborsClassifier(n_neighbors= 50, n_jobs = 6)\n",
    "%time acc = k_fold_validation(best_knn_model, X_distances, y, random_state=RANDOM_SEED)"
   ]
  },
  {
   "cell_type": "markdown",
   "metadata": {},
   "source": [
    "## Logistic Regression"
   ]
  },
  {
   "cell_type": "code",
   "execution_count": 23,
   "metadata": {},
   "outputs": [
    {
     "name": "stdout",
     "output_type": "stream",
     "text": [
      "Average accuracy with C=0.1:  0.46920033534855204\n",
      "Average accuracy with C=1:  0.525244131045813\n",
      "Average accuracy with C=10:  0.5391548420598627\n",
      "Average accuracy with C=50:  0.5171143232299611\n",
      "Average accuracy with C=100:  0.5063182436150508\n",
      "=============================================\n",
      "Average accuracy with C=0.1:  0.5336000603869959\n",
      "Average accuracy with C=1:  0.5035438080033866\n",
      "Average accuracy with C=10:  0.4911372411421387\n",
      "Average accuracy with C=50:  0.48796819437908184\n",
      "Average accuracy with C=100:  0.48474231627263836\n"
     ]
    }
   ],
   "source": [
    "penalties = [0.1,1, 10,50,100]\n",
    "\n",
    "# 1. points coordinates\n",
    "log_points_accuracies = []\n",
    "for C in penalties:\n",
    "    model = LogisticRegression(multi_class='auto', solver='lbfgs', max_iter=5000, random_state=RANDOM_SEED, C = C, n_jobs = 6)\n",
    "    log_point_acc = k_fold_validation(model,X_points, y)\n",
    "    print(f\"Average accuracy with C={C}: \", log_point_acc)\n",
    "    log_points_accuracies.append(log_point_acc)\n",
    "\n",
    "print(\"=============================================\")\n",
    "\n",
    "    \n",
    "log_distances_accuracies = []\n",
    "# 2.distances\n",
    "for C in penalties:\n",
    "    model = LogisticRegression(multi_class='auto', solver='lbfgs', max_iter=5000, random_state=RANDOM_SEED, C = C, n_jobs = 6)\n",
    "    log_dist_acc = k_fold_validation(model,X_distances, y)\n",
    "    print(f\"Average accuracy with C={C}: \", log_dist_acc)\n",
    "    log_distances_accuracies.append(log_dist_acc)\n"
   ]
  },
  {
   "cell_type": "code",
   "execution_count": 24,
   "metadata": {},
   "outputs": [
    {
     "data": {
      "image/png": "[encoded data removed]",
      "text/plain": [
       "<Figure size 432x288 with 1 Axes>"
      ]
     },
     "metadata": {
      "needs_background": "light"
     },
     "output_type": "display_data"
    }
   ],
   "source": [
    "draw_plot(penalties, log_points_accuracies, 'Accuracy For Logistic Regression(Coordinates Input)', 'Penalty C', 'Accuracy')"
   ]
  },
  {
   "cell_type": "code",
   "execution_count": 25,
   "metadata": {},
   "outputs": [
    {
     "name": "stdout",
     "output_type": "stream",
     "text": [
      "Wall time: 41 s\n"
     ]
    }
   ],
   "source": [
    "best_logistic_model = LogisticRegression(multi_class='auto', solver='lbfgs', max_iter=5000, random_state=RANDOM_SEED, C = 50, n_jobs = 6)\n",
    "%time acc = k_fold_validation(best_logistic_model,X_points, y)"
   ]
  },
  {
   "cell_type": "markdown",
   "metadata": {},
   "source": [
    "## Linear SVC"
   ]
  },
  {
   "cell_type": "code",
   "execution_count": 28,
   "metadata": {},
   "outputs": [
    {
     "name": "stdout",
     "output_type": "stream",
     "text": [
      "Average accuracy with C=0.03:  0.502800366294586\n",
      "Average accuracy with C=0.1:  0.5256268812140006\n"
     ]
    },
    {
     "name": "stderr",
     "output_type": "stream",
     "text": [
      "D:\\Conda3\\envs\\dl\\lib\\site-packages\\sklearn\\svm\\base.py:929: ConvergenceWarning: Liblinear failed to converge, increase the number of iterations.\n",
      "  \"the number of iterations.\", ConvergenceWarning)\n",
      "D:\\Conda3\\envs\\dl\\lib\\site-packages\\sklearn\\svm\\base.py:929: ConvergenceWarning: Liblinear failed to converge, increase the number of iterations.\n",
      "  \"the number of iterations.\", ConvergenceWarning)\n",
      "D:\\Conda3\\envs\\dl\\lib\\site-packages\\sklearn\\svm\\base.py:929: ConvergenceWarning: Liblinear failed to converge, increase the number of iterations.\n",
      "  \"the number of iterations.\", ConvergenceWarning)\n",
      "D:\\Conda3\\envs\\dl\\lib\\site-packages\\sklearn\\svm\\base.py:929: ConvergenceWarning: Liblinear failed to converge, increase the number of iterations.\n",
      "  \"the number of iterations.\", ConvergenceWarning)\n",
      "D:\\Conda3\\envs\\dl\\lib\\site-packages\\sklearn\\svm\\base.py:929: ConvergenceWarning: Liblinear failed to converge, increase the number of iterations.\n",
      "  \"the number of iterations.\", ConvergenceWarning)\n"
     ]
    },
    {
     "name": "stdout",
     "output_type": "stream",
     "text": [
      "Average accuracy with C=0.5:  0.5279978440487494\n"
     ]
    },
    {
     "name": "stderr",
     "output_type": "stream",
     "text": [
      "D:\\Conda3\\envs\\dl\\lib\\site-packages\\sklearn\\svm\\base.py:929: ConvergenceWarning: Liblinear failed to converge, increase the number of iterations.\n",
      "  \"the number of iterations.\", ConvergenceWarning)\n",
      "D:\\Conda3\\envs\\dl\\lib\\site-packages\\sklearn\\svm\\base.py:929: ConvergenceWarning: Liblinear failed to converge, increase the number of iterations.\n",
      "  \"the number of iterations.\", ConvergenceWarning)\n",
      "D:\\Conda3\\envs\\dl\\lib\\site-packages\\sklearn\\svm\\base.py:929: ConvergenceWarning: Liblinear failed to converge, increase the number of iterations.\n",
      "  \"the number of iterations.\", ConvergenceWarning)\n",
      "D:\\Conda3\\envs\\dl\\lib\\site-packages\\sklearn\\svm\\base.py:929: ConvergenceWarning: Liblinear failed to converge, increase the number of iterations.\n",
      "  \"the number of iterations.\", ConvergenceWarning)\n"
     ]
    },
    {
     "name": "stdout",
     "output_type": "stream",
     "text": [
      "Average accuracy with C=1:  0.5220259629583512\n",
      "=============================================\n"
     ]
    },
    {
     "name": "stderr",
     "output_type": "stream",
     "text": [
      "D:\\Conda3\\envs\\dl\\lib\\site-packages\\sklearn\\svm\\base.py:929: ConvergenceWarning: Liblinear failed to converge, increase the number of iterations.\n",
      "  \"the number of iterations.\", ConvergenceWarning)\n"
     ]
    }
   ],
   "source": [
    "SVC_penalties = [0.03,0.1, 0.5, 1]\n",
    "\n",
    "# 1. points coordinates\n",
    "linearsvc_points_accuracies = []\n",
    "for C in SVC_penalties:\n",
    "    model = LinearSVC(max_iter = 5000, C=C, random_state=RANDOM_SEED)\n",
    "    linearsvc_point_acc = k_fold_validation(model,X_points, y)\n",
    "    print(f\"Average accuracy with C={C}: \", linearsvc_point_acc)\n",
    "    linearsvc_points_accuracies.append(linearsvc_point_acc)\n",
    "\n",
    "print(\"=============================================\")\n",
    "    \n",
    "\n",
    "# 2. distances\n",
    "# linearsvc_distances_accuracies = []\n",
    "# for C in SVC_penalties:\n",
    "#     model = LinearSVC(max_iter = 5000, C=C)\n",
    "#     linearsvc_dist_acc = k_fold_validation(model,X_distances, y)\n",
    "#     print(f\"Average accuracy with C={C}: \", linearsvc_dist_acc)\n",
    "#     linearsvc_distances_accuracies.append(linearsvc_dist_acc)"
   ]
  },
  {
   "cell_type": "code",
   "execution_count": 29,
   "metadata": {},
   "outputs": [
    {
     "data": {
      "image/png": "[encoded data removed]",
      "text/plain": [
       "<Figure size 432x288 with 1 Axes>"
      ]
     },
     "metadata": {
      "needs_background": "light"
     },
     "output_type": "display_data"
    }
   ],
   "source": [
    "draw_plot(SVC_penalties, linearsvc_points_accuracies, 'Accuracy For LinearSVC(Coordinates Input)', 'Penalty C', 'Accuracy')"
   ]
  },
  {
   "cell_type": "code",
   "execution_count": 30,
   "metadata": {},
   "outputs": [
    {
     "name": "stderr",
     "output_type": "stream",
     "text": [
      "D:\\Conda3\\envs\\dl\\lib\\site-packages\\sklearn\\svm\\base.py:929: ConvergenceWarning: Liblinear failed to converge, increase the number of iterations.\n",
      "  \"the number of iterations.\", ConvergenceWarning)\n",
      "D:\\Conda3\\envs\\dl\\lib\\site-packages\\sklearn\\svm\\base.py:929: ConvergenceWarning: Liblinear failed to converge, increase the number of iterations.\n",
      "  \"the number of iterations.\", ConvergenceWarning)\n",
      "D:\\Conda3\\envs\\dl\\lib\\site-packages\\sklearn\\svm\\base.py:929: ConvergenceWarning: Liblinear failed to converge, increase the number of iterations.\n",
      "  \"the number of iterations.\", ConvergenceWarning)\n",
      "D:\\Conda3\\envs\\dl\\lib\\site-packages\\sklearn\\svm\\base.py:929: ConvergenceWarning: Liblinear failed to converge, increase the number of iterations.\n",
      "  \"the number of iterations.\", ConvergenceWarning)\n"
     ]
    },
    {
     "name": "stdout",
     "output_type": "stream",
     "text": [
      "Wall time: 1min 21s\n"
     ]
    },
    {
     "name": "stderr",
     "output_type": "stream",
     "text": [
      "D:\\Conda3\\envs\\dl\\lib\\site-packages\\sklearn\\svm\\base.py:929: ConvergenceWarning: Liblinear failed to converge, increase the number of iterations.\n",
      "  \"the number of iterations.\", ConvergenceWarning)\n"
     ]
    }
   ],
   "source": [
    "best_linearsvc_model= LinearSVC(max_iter = 5000, C=0.5, random_state=RANDOM_SEED)\n",
    "%time acc =  k_fold_validation(model,X_points, y)"
   ]
  },
  {
   "cell_type": "markdown",
   "metadata": {},
   "source": [
    "## SVC with Other Kernels"
   ]
  },
  {
   "cell_type": "code",
   "execution_count": 33,
   "metadata": {},
   "outputs": [
    {
     "name": "stdout",
     "output_type": "stream",
     "text": [
      "Average accuracy:  0.1956513321777882\n",
      "Average accuracy:  0.16845832700260666\n",
      "Average accuracy:  0.44203850959709207\n",
      "Average accuracy:  0.2761419478601823\n"
     ]
    }
   ],
   "source": [
    "# 1. using point coordinates\n",
    "rbfsvc_points_model = SVC(kernel='rbf')\n",
    "rbfSVC_points_acc = k_fold_validation(rbfsvc_points_model,X_points, y)\n",
    "print(f\"Average accuracy: \",rbfSVC_points_acc)\n",
    "\n",
    "polysvc_points_model = SVC(kernel='poly')\n",
    "polySVC_points_acc = k_fold_validation(polysvc_points_model,X_points, y)\n",
    "print(f\"Average accuracy: \", polySVC_points_acc)\n",
    "\n",
    "\n",
    "# 2. using distances\n",
    "rbfsvc_distances_model = SVC(kernel='rbf')\n",
    "rbfSVC_dist_acc = k_fold_validation(rbfsvc_distances_model,X_distances, y)\n",
    "print(f\"Average accuracy: \",rbfSVC_dist_acc)\n",
    "\n",
    "polysvc_distances_model = SVC(kernel='poly')\n",
    "polySVC_dist_acc = k_fold_validation(polysvc_distances_model,X_distances, y)\n",
    "print(f\"Average accuracy: \",polySVC_dist_acc)\n"
   ]
  },
  {
   "cell_type": "markdown",
   "metadata": {},
   "source": [
    "## Feedforward Neural Network Using Facial Points"
   ]
  },
  {
   "cell_type": "code",
   "execution_count": 34,
   "metadata": {},
   "outputs": [],
   "source": [
    "def create_ff_model(input_shape, hidden_layers = (512,) , outputs = 22, optimizer = 'adam'):\n",
    "    \"\"\"\n",
    "    Create a feedforward model without any regularization\n",
    "    \n",
    "    :param input_shape: the size of input a 2-tupple\n",
    "    :param hidden_layers: the hidden units of each hidden layers\n",
    "    :param outputs: the number of expected output labels\n",
    "    \n",
    "    :return: compiled feedforwad nn model\n",
    "    \"\"\"\n",
    "    if len(hidden_layers) < 1:\n",
    "        raise Exception(\"Wrong parameter for hidden layer units\")\n",
    "        \n",
    "    ff_model = models.Sequential()\n",
    "    \n",
    "    # input layer\n",
    "    ff_model.add(layers.Dense(hidden_layers[0], activation='relu', input_shape = input_shape))\n",
    "                 \n",
    "    # add hidden layers\n",
    "    for index in range(1, len(hidden_layers)):\n",
    "        ff_model.add(layers.Dense(hidden_layers[index], activation='relu'))\n",
    "    \n",
    "    # output layer\n",
    "    ff_model.add(layers.Dense(outputs, activation='softmax'))\n",
    "    # rmsprop\n",
    "    \n",
    "    ff_model.compile(optimizer = optimizer, loss='categorical_crossentropy', metrics = ['acc'])\n",
    "    \n",
    "    return ff_model"
   ]
  },
  {
   "cell_type": "code",
   "execution_count": 35,
   "metadata": {},
   "outputs": [],
   "source": [
    "def create_regularized_ff_model(input_shape, hidden_layers = (512,) , outputs = 22, optimizer = 'adam', l2 = 0.01):\n",
    "    \"\"\"\n",
    "    Create a feedforward model `with` any regularization\n",
    "    \n",
    "    :param input_shape: the size of input a 2-tupple\n",
    "    :param hidden_layers: the hidden units of each hidden layers\n",
    "    :param outputs: the number of expected output labels\n",
    "    \n",
    "    :return: compiled feedforwad nn model\n",
    "    \"\"\"\n",
    "    if len(hidden_layers) < 1:\n",
    "        raise Exception(\"Wrong parameter for hidden layer units\")\n",
    "        \n",
    "    ff_model = models.Sequential()\n",
    "    \n",
    "    l2_regularizer = regularizers.l2(l2)\n",
    "    \n",
    "    # input layer\n",
    "    ff_model.add(layers.Dense(hidden_layers[0], activation='relu', input_shape = input_shape, kernel_regularizer = l2_regularizer))\n",
    "#     ff_model.add(layers.Dropout(0.5))         \n",
    "    # add hidden layers\n",
    "    for index in range(1, len(hidden_layers)):\n",
    "        ff_model.add(layers.Dense(hidden_layers[index], activation='relu', kernel_regularizer = l2_regularizer))\n",
    "#         ff_model.add(layers.Dropout(0.5))\n",
    "    # output layer\n",
    "    ff_model.add(layers.Dense(outputs, activation='softmax'))\n",
    "    # rmsprop\n",
    "    \n",
    "    ff_model.compile(optimizer = optimizer, loss='categorical_crossentropy', metrics = ['acc'])\n",
    "    \n",
    "    return ff_model"
   ]
  },
  {
   "cell_type": "code",
   "execution_count": 36,
   "metadata": {},
   "outputs": [],
   "source": [
    "def k_fold_feedforward_points(model, X, y, fold = 5, random_state = 13):\n",
    "    \"\"\"\n",
    "    Run k-fold cross validation for keras neural network model\n",
    "    \n",
    "    :param model_create_function: the function used to creat a compiled keras neural network model\n",
    "    :param input_shape: the size of input a 2-tupple\n",
    "    :param hidden_layer: the same as `create_ff_model` function\n",
    "    :param X: the feature matrix\n",
    "    :param y: the target\n",
    "    :param fold: the number of fold\n",
    "    :param random_state: random seed for k-fold splitting\n",
    "    \"\"\"\n",
    "    \n",
    "    # split folder\n",
    "    kfold = StratifiedKFold(n_splits=fold, shuffle=True, random_state=random_state)\n",
    "    \n",
    "    avg_accuracy = 0\n",
    "    histories = []\n",
    "    # 5-fold \n",
    "    for train_index, val_index in kfold.split(X, y):\n",
    "        # split traning set and validation set\n",
    "        X_train = X[train_index]\n",
    "        y_train = y[train_index]\n",
    "\n",
    "        X_test = X[val_index]\n",
    "        y_test = y[val_index]\n",
    "\n",
    "        scaler = StandardScaler()\n",
    "        X_train = scaler.fit_transform(X_train)\n",
    "        X_test =scaler.transform(X_test)\n",
    "\n",
    "        y_test = to_categorical(y_test)\n",
    "        y_train = to_categorical(y_train)\n",
    "\n",
    "        # early stopping\n",
    "        callbacks = [\n",
    "          EarlyStopping(\n",
    "            monitor='val_loss', patience=5, verbose=0)\n",
    "          ]\n",
    "\n",
    "\n",
    "        history = model.fit(X_train,y_train,\n",
    "                                         epochs = 20, \n",
    "                                        batch_size = 100,\n",
    "                                         workers = 6,\n",
    "                                         validation_data = (X_test, y_test),\n",
    "                                        verbose = False,\n",
    "                                        shuffle = True,\n",
    "                                        callbacks = callbacks)\n",
    "        histories.append(history)\n",
    "        avg_accuracy += model.evaluate(X_test, y_test, verbose = False)[1]\n",
    "    return histories, avg_accuracy / fold\n"
   ]
  },
  {
   "cell_type": "code",
   "execution_count": 37,
   "metadata": {},
   "outputs": [],
   "source": [
    "def draw_training_validation_graph(history_obj):\n",
    "    \"\"\"\n",
    "    Draw the loss and accuracy plot using the history_obj\n",
    "    \n",
    "    :param history_obj: the history object returned by calling fit method of keras' model\n",
    "    \n",
    "    \"\"\"\n",
    "    loss_values = history_obj.history['loss']\n",
    "    val_loss_valus = history_obj.history['val_loss']\n",
    "    acc = history_obj.history['acc']\n",
    "    val_acc = history_obj.history['val_acc']\n",
    "    \n",
    "    epochs = range(1,len(val_loss_valus) + 1)\n",
    "    \n",
    "    fig, axs = plt.subplots(1,2, figsize = (16,4))\n",
    "\n",
    "    axs[0].plot(epochs, loss_values, 'bo', label='Training Loss')\n",
    "    axs[0].plot(epochs, val_loss_valus, 'r', label='Validation Loss')\n",
    "    axs[0].set_title('Training and Validation Loss')\n",
    "    axs[0].set_xlabel('Epochs')\n",
    "    axs[0].set_ylabel('Loss')\n",
    "    axs[0].legend()\n",
    "    \n",
    "    axs[1].plot(epochs, acc, 'bo', label='Training Acc')\n",
    "    axs[1].plot(epochs, val_acc, 'r', label='Validation Acc')\n",
    "    axs[1].set_title('Training and Validation Acc')\n",
    "    axs[1].set_xlabel('Epochs')\n",
    "    axs[1].set_ylabel('Accuracy')\n",
    "    axs[1].legend()\n",
    "    \n",
    "    \n",
    "    plt.show()"
   ]
  },
  {
   "cell_type": "code",
   "execution_count": 38,
   "metadata": {},
   "outputs": [
    {
     "name": "stdout",
     "output_type": "stream",
     "text": [
      "Average accuracy of the NeuralNetwork Model with hidden units (32, 32) and learning rate adaptive:  0.35900634133043663\n",
      "Average accuracy of the NeuralNetwork Model with hidden units (64,) and learning rate adaptive:  0.38538639124336993\n",
      "Average accuracy of the NeuralNetwork Model with hidden units (64, 64) and learning rate adaptive:  0.35382375094936613\n",
      "Average accuracy of the NeuralNetwork Model with hidden units (128,) and learning rate adaptive:  0.3727025151672555\n",
      "Average accuracy of the NeuralNetwork Model with hidden units (128, 128) and learning rate adaptive:  0.37477959477456574\n",
      "Average accuracy of the NeuralNetwork Model with hidden units (256,) and learning rate adaptive:  0.3857536564636049\n",
      "Average accuracy of the NeuralNetwork Model with hidden units (256, 256) and learning rate adaptive:  0.3927896625985694\n",
      "Average accuracy of the NeuralNetwork Model with hidden units (512,) and learning rate adaptive:  0.41645637155285636\n",
      "Average accuracy of the NeuralNetwork Model with hidden units (512, 512) and learning rate adaptive:  0.39803810275762536\n",
      "Average accuracy of the NeuralNetwork Model with hidden units (1024,) and learning rate adaptive:  0.4143369726024037\n",
      "Average accuracy of the NeuralNetwork Model with hidden units (32, 32) and learning rate constant:  0.3390011920096758\n",
      "Average accuracy of the NeuralNetwork Model with hidden units (64,) and learning rate constant:  0.3433618656462015\n",
      "Average accuracy of the NeuralNetwork Model with hidden units (64, 64) and learning rate constant:  0.3515521158443372\n",
      "Average accuracy of the NeuralNetwork Model with hidden units (128,) and learning rate constant:  0.36288985023873704\n",
      "Average accuracy of the NeuralNetwork Model with hidden units (128, 128) and learning rate constant:  0.36558609723883023\n",
      "Average accuracy of the NeuralNetwork Model with hidden units (256,) and learning rate constant:  0.381683825741398\n",
      "Average accuracy of the NeuralNetwork Model with hidden units (256, 256) and learning rate constant:  0.3654715653069469\n",
      "Average accuracy of the NeuralNetwork Model with hidden units (512,) and learning rate constant:  0.38936976115678634\n",
      "Average accuracy of the NeuralNetwork Model with hidden units (512, 512) and learning rate constant:  0.38304916989966137\n",
      "Average accuracy of the NeuralNetwork Model with hidden units (1024,) and learning rate constant:  0.4064101989724042\n"
     ]
    }
   ],
   "source": [
    "\"\"\"\n",
    "1. Sklearn MLPClassifier with different hidden layers and learning rate\n",
    "\"\"\"\n",
    "\n",
    "for learning_rate in ['adaptive', 'constant']:\n",
    "    for hidden_layer in [(32,32), (64,), (64,64), (128,), (128,128), (256,), (256,256), (512,), (512,512), (1024,)]:\n",
    "        model = MLPClassifier(hidden_layer_sizes=hidden_layer, learning_rate=learning_rate,\n",
    "                     early_stopping= True, validation_fraction=0.2,\n",
    "                        )\n",
    "        avg_sklearn_nn_acc = k_fold_validation(model,X_points, y)\n",
    "        print(f\"Average accuracy of the NeuralNetwork Model with hidden units {hidden_layer} and learning rate {learning_rate}: \", avg_sklearn_nn_acc)\n",
    "        "
   ]
  },
  {
   "cell_type": "code",
   "execution_count": 40,
   "metadata": {},
   "outputs": [
    {
     "name": "stdout",
     "output_type": "stream",
     "text": [
      "Average accuracy of the NeuralNetwork Model with hidden units (128, 128, 128, 128):  0.434362518787384\n",
      "Average accuracy of the NeuralNetwork Model with hidden units (256, 256, 256):  0.488940954208374\n",
      "Average accuracy of the NeuralNetwork Model with hidden units (256, 256, 256, 256):  0.45197218656539917\n",
      "Average accuracy of the NeuralNetwork Model with hidden units (512, 512):  0.5024307608604431\n",
      "Average accuracy of the NeuralNetwork Model with hidden units (512, 512, 512):  0.48833304047584536\n",
      "Average accuracy of the NeuralNetwork Model with hidden units (1024,):  0.47208619117736816\n",
      "Average accuracy of the NeuralNetwork Model with hidden units (1024, 1024):  0.4923064887523651\n",
      "Average accuracy of the NeuralNetwork Model with hidden units (2048,):  0.45235479474067686\n"
     ]
    }
   ],
   "source": [
    "\"\"\"\n",
    "2. Keras Feedfoward neural network\n",
    "\"\"\"\n",
    "points_histories = {}\n",
    "for hidden_layer in [(128,128,128,128),(256,256,256), (256,256,256,256), (512,512), (512,512,512),(1024,),(1024,1024), (2048,)]:\n",
    "    model = create_ff_model((156,), hidden_layer,optimizer = 'rmsprop')\n",
    "    hist, acc = k_fold_feedforward_points(model, X_points, y)\n",
    "    points_histories[hidden_layer] = hist\n",
    "    print(f\"Average accuracy of the NeuralNetwork Model with hidden units {hidden_layer}: \", acc)"
   ]
  },
  {
   "cell_type": "code",
   "execution_count": 42,
   "metadata": {},
   "outputs": [
    {
     "data": {
      "image/png": "[encoded data removed]",
      "text/plain": [
       "<Figure size 1152x288 with 2 Axes>"
      ]
     },
     "metadata": {
      "needs_background": "light"
     },
     "output_type": "display_data"
    }
   ],
   "source": [
    "draw_training_validation_graph(points_histories[(512,512)][3])"
   ]
  },
  {
   "cell_type": "code",
   "execution_count": 41,
   "metadata": {},
   "outputs": [
    {
     "name": "stdout",
     "output_type": "stream",
     "text": [
      "Average accuracy of the NeuralNetwork Model with hidden units (128, 128, 128, 128):  0.4481018722057343\n",
      "Average accuracy of the NeuralNetwork Model with hidden units (256, 256, 256):  0.48871838450431826\n",
      "Average accuracy of the NeuralNetwork Model with hidden units (256, 256, 256, 256):  0.48443986773490905\n",
      "Average accuracy of the NeuralNetwork Model with hidden units (512, 512):  0.5466694056987762\n",
      "Average accuracy of the NeuralNetwork Model with hidden units (512, 512, 512):  0.5042557954788208\n",
      "Average accuracy of the NeuralNetwork Model with hidden units (1024,):  0.49952452778816225\n",
      "Average accuracy of the NeuralNetwork Model with hidden units (1024, 1024):  0.4971954166889191\n",
      "Average accuracy of the NeuralNetwork Model with hidden units (2048,):  0.4807595729827881\n"
     ]
    }
   ],
   "source": [
    "\"\"\"\n",
    "3. Keras Feedfoward neural network with regularization\n",
    "\"\"\"\n",
    "regularized_points_histories = {}\n",
    "for hidden_layer in [(128,128,128,128),(256,256,256), (256,256,256,256), (512,512), (512,512,512),(1024,),(1024,1024), (2048,)]:\n",
    "    model = create_regularized_ff_model((156,), hidden_layer, l2= 0.001, optimizer='adam')\n",
    "    hist, acc = k_fold_feedforward_points(model,X_points, y)\n",
    "    regularized_points_histories[hidden_layer] = hist\n",
    "    print(f\"Average accuracy of the NeuralNetwork Model with hidden units {hidden_layer}: \", acc)"
   ]
  },
  {
   "cell_type": "code",
   "execution_count": 53,
   "metadata": {},
   "outputs": [
    {
     "data": {
      "image/png": "[encoded data removed]",
      "text/plain": [
       "<Figure size 1152x288 with 2 Axes>"
      ]
     },
     "metadata": {
      "needs_background": "light"
     },
     "output_type": "display_data"
    }
   ],
   "source": [
    "draw_training_validation_graph(regularized_points_histories[(512,512)][0])"
   ]
  },
  {
   "cell_type": "code",
   "execution_count": 44,
   "metadata": {},
   "outputs": [
    {
     "name": "stdout",
     "output_type": "stream",
     "text": [
      "Wall time: 9.22 s\n"
     ]
    }
   ],
   "source": [
    "best_points_nn_model = create_regularized_ff_model((156,), (512,512), l2= 0.001, optimizer='adam')\n",
    "%time hist,acc = k_fold_feedforward_points(best_points_nn_model, X_points,y)"
   ]
  },
  {
   "cell_type": "markdown",
   "metadata": {},
   "source": [
    "## Feedforward Neural Network Using Distances"
   ]
  },
  {
   "cell_type": "code",
   "execution_count": null,
   "metadata": {},
   "outputs": [],
   "source": [
    "\"\"\"\n",
    "Flatten the image to feed feedforward neural network\n",
    "\"\"\"\n",
    "# X_flat_images = images.reshape((-1, height * width))\n",
    "# X_flat_images.shape"
   ]
  },
  {
   "cell_type": "code",
   "execution_count": 47,
   "metadata": {},
   "outputs": [
    {
     "name": "stdout",
     "output_type": "stream",
     "text": [
      "feedforward neural network with hidden layer : (512, 512) 0.5801692724227905\n",
      "feedforward neural network with hidden layer : (512, 512, 512) 0.5953602015972137\n",
      "feedforward neural network with hidden layer : (1024, 1024) 0.5309179604053498\n",
      "feedforward neural network with hidden layer : (1024, 1024, 1024) 0.5571295201778412\n"
     ]
    }
   ],
   "source": [
    "neural_distances_histories = {}\n",
    "# underfitting (64,64),\n",
    "# overfitting? (64,64,48),(128,128), (256,256), (512,512)\n",
    "# (64,64,48),(128,128),(256,256),\n",
    "\n",
    "for hidden_layer in [(512,512),(512,512,512),(1024,1024),(1024,1024,1024)]:\n",
    "    model = create_regularized_ff_model((3003,), hidden_layer, optimizer = 'rmsprop', l2= 0.001)\n",
    "    hist, acc = k_fold_feedforward_points(model, X_distances, y)\n",
    "    neural_distances_histories[hidden_layer] = hist\n",
    "    print(\"feedforward neural network with hidden layer :\", hidden_layer , acc)"
   ]
  },
  {
   "cell_type": "code",
   "execution_count": 55,
   "metadata": {},
   "outputs": [
    {
     "data": {
      "image/png": "[encoded data removed]",
      "text/plain": [
       "<Figure size 1152x288 with 2 Axes>"
      ]
     },
     "metadata": {
      "needs_background": "light"
     },
     "output_type": "display_data"
    }
   ],
   "source": [
    "draw_training_validation_graph(neural_distances_histories[(512,512)][0])"
   ]
  },
  {
   "cell_type": "code",
   "execution_count": 49,
   "metadata": {},
   "outputs": [
    {
     "name": "stdout",
     "output_type": "stream",
     "text": [
      "Wall time: 36.2 s\n"
     ]
    }
   ],
   "source": [
    "best_distances_nn_model = create_regularized_ff_model((3003,), (512,512, 512), l2= 0.001, optimizer='adam')\n",
    "%time hist,acc = k_fold_feedforward_points(best_distances_nn_model, X_distances,y)"
   ]
  },
  {
   "cell_type": "markdown",
   "metadata": {},
   "source": [
    "## Convolutional Neural Network"
   ]
  },
  {
   "cell_type": "code",
   "execution_count": 56,
   "metadata": {},
   "outputs": [],
   "source": [
    "def create_CNN_model(height = 300, width = 400, dim = 1, convolution_layers = (), dense_layers = (), outputs = 22):\n",
    "    \"\"\"\n",
    "    \n",
    "    \"\"\"\n",
    "    model = models.Sequential()\n",
    "    if len(convolution_layers) < 1:\n",
    "        raise Exception(\"Wrong layers parameters\")\n",
    "        \n",
    "    # input \n",
    "    model.add(layers.Conv2D(convolution_layers[0], (3,3), activation = 'relu', input_shape = (height, width, dim)))\n",
    "    model.add(layers.MaxPool2D(2,2))\n",
    "    \n",
    "    # hidden\n",
    "    for depth in range(1, len(convolution_layers)):\n",
    "        model.add(layers.Conv2D(depth,(3,3), activation = 'relu'))\n",
    "        model.add(layers.MaxPool2D(2,2))\n",
    "        \n",
    "    # output\n",
    "    model.add(layers.Flatten())\n",
    "    for layer in dense_layers:\n",
    "        model.add(layers.Dense(layer, activation = 'relu'))\n",
    "    \n",
    "    model.add(layers.Dense(outputs, activation = 'softmax'))\n",
    "    \n",
    "    model.compile(optimizer = 'rmsprop', loss = 'categorical_crossentropy', metrics = ['accuracy'])\n",
    "    \n",
    "    return model"
   ]
  },
  {
   "cell_type": "code",
   "execution_count": 63,
   "metadata": {},
   "outputs": [],
   "source": [
    "\"\"\"\n",
    "K-fold validation using data augmentation\n",
    "\"\"\"\n",
    "def k_fold_convolutional_model(model, X, y, fold = 5, random_state = 13):\n",
    "    \n",
    "    kfold = StratifiedKFold(n_splits=fold, shuffle=True, random_state=random_state)\n",
    "\n",
    "    train_datagen = ImageDataGenerator(rescale=1/255,\n",
    "                                      rotation_range= 40,\n",
    "                                       width_shift_range=0.2, \n",
    "                                       height_shift_range=0.2,\n",
    "                                       shear_range=0.2,\n",
    "                                      zoom_range=0.2,\n",
    "                                       horizontal_flip= True)\n",
    "\n",
    "    test_datagen = ImageDataGenerator(rescale=1/255)\n",
    "    \n",
    "    histories = []\n",
    "    avg_accuracy = 0\n",
    "    for train_index, val_index in kfold.split(X, y):\n",
    "        # split traning set and validation set\n",
    "        X_train = X[train_index]\n",
    "        y_train = y[train_index]\n",
    "\n",
    "        X_test = X[val_index]\n",
    "        y_test = y[val_index]\n",
    "        \n",
    "        y_train = to_categorical(y_train)\n",
    "        y_test = to_categorical(y_test)\n",
    "\n",
    "        \n",
    "        # create data generator\n",
    "        train_generator = train_datagen.flow(X_train, \n",
    "                                             y_train, \n",
    "                                             batch_size = 50, \n",
    "                                             shuffle = True, \n",
    "                                             seed = random_state)\n",
    "        test_generator = test_datagen.flow(X_test, y_test,\n",
    "                                                       batch_size = 20, \n",
    "                                                       seed = random_state)\n",
    "        \n",
    "        callbacks = [\n",
    "          EarlyStopping(\n",
    "            monitor='val_loss', patience=1, verbose=0)\n",
    "          ]\n",
    "        \n",
    "        history = model.fit_generator(train_generator, \n",
    "                                      epochs = 10, \n",
    "                                      steps_per_epoch = 50, \n",
    "                                      validation_data = test_generator, \n",
    "                                      validation_steps = 25,\n",
    "                                      workers = 6,\n",
    "                                      verbose = False,\n",
    "                                      shuffle = True,\n",
    "                                      callbacks = callbacks\n",
    "                                         )\n",
    "\n",
    "        histories.append(history)\n",
    "        avg_accuracy += model.evaluate(X_test, y_test, verbose = False)[1]\n",
    "        \n",
    "    return histories, avg_accuracy / fold\n"
   ]
  },
  {
   "cell_type": "code",
   "execution_count": 65,
   "metadata": {},
   "outputs": [
    {
     "name": "stdout",
     "output_type": "stream",
     "text": [
      "Accuracy of convolutional neural network with hidden layer (64, 128): 0.0557129520177841\n"
     ]
    }
   ],
   "source": [
    "conv_histories = {}\n",
    "\n",
    "for conv_layer in [(64,128), (128,128),(64,128,128,256)]:\n",
    "    model  = create_CNN_model(height, width, 1,conv_layer, [512])\n",
    "    hist, acc = k_fold_convolutional_model(model, images, y)\n",
    "    conv_histories[conv_layer] = hist\n",
    "    print(f\"Accuracy of convolutional neural network with hidden layer {conv_layer}:\", acc)\n"
   ]
  }
 ],
 "metadata": {
  "kernelspec": {
   "display_name": "Python 3",
   "language": "python",
   "name": "python3"
  }
 },
 "nbformat": 4,
 "nbformat_minor": 2
}
