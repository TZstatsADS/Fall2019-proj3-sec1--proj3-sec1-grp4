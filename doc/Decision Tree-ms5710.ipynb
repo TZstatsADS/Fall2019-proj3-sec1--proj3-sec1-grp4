{
 "cells": [
  {
   "cell_type": "code",
   "execution_count": 131,
   "metadata": {},
   "outputs": [],
   "source": [
    "import pandas as pd\n",
    "import numpy as np\n",
    "import matplotlib.pyplot as plt"
   ]
  },
  {
   "cell_type": "code",
   "execution_count": 62,
   "metadata": {},
   "outputs": [
    {
     "data": {
      "text/html": [
       "<div>\n",
       "<style scoped>\n",
       "    .dataframe tbody tr th:only-of-type {\n",
       "        vertical-align: middle;\n",
       "    }\n",
       "\n",
       "    .dataframe tbody tr th {\n",
       "        vertical-align: top;\n",
       "    }\n",
       "\n",
       "    .dataframe thead th {\n",
       "        text-align: right;\n",
       "    }\n",
       "</style>\n",
       "<table border=\"1\" class=\"dataframe\">\n",
       "  <thead>\n",
       "    <tr style=\"text-align: right;\">\n",
       "      <th></th>\n",
       "      <th>Unnamed: 0</th>\n",
       "      <th>V1</th>\n",
       "      <th>V2</th>\n",
       "      <th>V3</th>\n",
       "      <th>V4</th>\n",
       "      <th>V5</th>\n",
       "      <th>V6</th>\n",
       "      <th>V7</th>\n",
       "      <th>V8</th>\n",
       "      <th>V9</th>\n",
       "      <th>...</th>\n",
       "      <th>V147</th>\n",
       "      <th>V148</th>\n",
       "      <th>V149</th>\n",
       "      <th>V150</th>\n",
       "      <th>V151</th>\n",
       "      <th>V152</th>\n",
       "      <th>V153</th>\n",
       "      <th>V154</th>\n",
       "      <th>V155</th>\n",
       "      <th>V156</th>\n",
       "    </tr>\n",
       "  </thead>\n",
       "  <tbody>\n",
       "    <tr>\n",
       "      <th>0</th>\n",
       "      <td>1</td>\n",
       "      <td>457</td>\n",
       "      <td>412</td>\n",
       "      <td>429</td>\n",
       "      <td>451</td>\n",
       "      <td>473</td>\n",
       "      <td>494</td>\n",
       "      <td>479</td>\n",
       "      <td>456</td>\n",
       "      <td>432</td>\n",
       "      <td>...</td>\n",
       "      <td>638</td>\n",
       "      <td>666</td>\n",
       "      <td>681</td>\n",
       "      <td>664</td>\n",
       "      <td>638</td>\n",
       "      <td>602</td>\n",
       "      <td>547</td>\n",
       "      <td>491</td>\n",
       "      <td>434</td>\n",
       "      <td>377</td>\n",
       "    </tr>\n",
       "    <tr>\n",
       "      <th>1</th>\n",
       "      <td>2</td>\n",
       "      <td>465</td>\n",
       "      <td>421</td>\n",
       "      <td>438</td>\n",
       "      <td>460</td>\n",
       "      <td>484</td>\n",
       "      <td>501</td>\n",
       "      <td>485</td>\n",
       "      <td>463</td>\n",
       "      <td>441</td>\n",
       "      <td>...</td>\n",
       "      <td>628</td>\n",
       "      <td>658</td>\n",
       "      <td>671</td>\n",
       "      <td>660</td>\n",
       "      <td>626</td>\n",
       "      <td>586</td>\n",
       "      <td>533</td>\n",
       "      <td>475</td>\n",
       "      <td>417</td>\n",
       "      <td>358</td>\n",
       "    </tr>\n",
       "    <tr>\n",
       "      <th>2</th>\n",
       "      <td>3</td>\n",
       "      <td>362</td>\n",
       "      <td>320</td>\n",
       "      <td>338</td>\n",
       "      <td>359</td>\n",
       "      <td>380</td>\n",
       "      <td>395</td>\n",
       "      <td>377</td>\n",
       "      <td>357</td>\n",
       "      <td>339</td>\n",
       "      <td>...</td>\n",
       "      <td>630</td>\n",
       "      <td>664</td>\n",
       "      <td>676</td>\n",
       "      <td>663</td>\n",
       "      <td>629</td>\n",
       "      <td>591</td>\n",
       "      <td>542</td>\n",
       "      <td>489</td>\n",
       "      <td>435</td>\n",
       "      <td>380</td>\n",
       "    </tr>\n",
       "    <tr>\n",
       "      <th>3</th>\n",
       "      <td>4</td>\n",
       "      <td>424</td>\n",
       "      <td>377</td>\n",
       "      <td>397</td>\n",
       "      <td>417</td>\n",
       "      <td>439</td>\n",
       "      <td>455</td>\n",
       "      <td>437</td>\n",
       "      <td>416</td>\n",
       "      <td>395</td>\n",
       "      <td>...</td>\n",
       "      <td>639</td>\n",
       "      <td>672</td>\n",
       "      <td>688</td>\n",
       "      <td>672</td>\n",
       "      <td>637</td>\n",
       "      <td>600</td>\n",
       "      <td>548</td>\n",
       "      <td>488</td>\n",
       "      <td>427</td>\n",
       "      <td>366</td>\n",
       "    </tr>\n",
       "    <tr>\n",
       "      <th>4</th>\n",
       "      <td>5</td>\n",
       "      <td>454</td>\n",
       "      <td>419</td>\n",
       "      <td>432</td>\n",
       "      <td>453</td>\n",
       "      <td>473</td>\n",
       "      <td>490</td>\n",
       "      <td>473</td>\n",
       "      <td>454</td>\n",
       "      <td>436</td>\n",
       "      <td>...</td>\n",
       "      <td>605</td>\n",
       "      <td>632</td>\n",
       "      <td>645</td>\n",
       "      <td>634</td>\n",
       "      <td>604</td>\n",
       "      <td>568</td>\n",
       "      <td>518</td>\n",
       "      <td>466</td>\n",
       "      <td>411</td>\n",
       "      <td>357</td>\n",
       "    </tr>\n",
       "  </tbody>\n",
       "</table>\n",
       "<p>5 rows × 157 columns</p>\n",
       "</div>"
      ],
      "text/plain": [
       "   Unnamed: 0   V1   V2   V3   V4   V5   V6   V7   V8   V9  ...  V147  V148  \\\n",
       "0           1  457  412  429  451  473  494  479  456  432  ...   638   666   \n",
       "1           2  465  421  438  460  484  501  485  463  441  ...   628   658   \n",
       "2           3  362  320  338  359  380  395  377  357  339  ...   630   664   \n",
       "3           4  424  377  397  417  439  455  437  416  395  ...   639   672   \n",
       "4           5  454  419  432  453  473  490  473  454  436  ...   605   632   \n",
       "\n",
       "   V149  V150  V151  V152  V153  V154  V155  V156  \n",
       "0   681   664   638   602   547   491   434   377  \n",
       "1   671   660   626   586   533   475   417   358  \n",
       "2   676   663   629   591   542   489   435   380  \n",
       "3   688   672   637   600   548   488   427   366  \n",
       "4   645   634   604   568   518   466   411   357  \n",
       "\n",
       "[5 rows x 157 columns]"
      ]
     },
     "execution_count": 62,
     "metadata": {},
     "output_type": "execute_result"
    }
   ],
   "source": [
    "points = pd.read_csv('new.csv')\n",
    "labels = pd.read_csv('label.csv')\n",
    "points.head()"
   ]
  },
  {
   "cell_type": "code",
   "execution_count": 63,
   "metadata": {},
   "outputs": [
    {
     "data": {
      "text/html": [
       "<div>\n",
       "<style scoped>\n",
       "    .dataframe tbody tr th:only-of-type {\n",
       "        vertical-align: middle;\n",
       "    }\n",
       "\n",
       "    .dataframe tbody tr th {\n",
       "        vertical-align: top;\n",
       "    }\n",
       "\n",
       "    .dataframe thead th {\n",
       "        text-align: right;\n",
       "    }\n",
       "</style>\n",
       "<table border=\"1\" class=\"dataframe\">\n",
       "  <thead>\n",
       "    <tr style=\"text-align: right;\">\n",
       "      <th></th>\n",
       "      <th>Unnamed: 0</th>\n",
       "      <th>Index</th>\n",
       "      <th>identity</th>\n",
       "      <th>emotion_idx</th>\n",
       "      <th>emotion_cat</th>\n",
       "      <th>type</th>\n",
       "    </tr>\n",
       "  </thead>\n",
       "  <tbody>\n",
       "    <tr>\n",
       "      <th>0</th>\n",
       "      <td>1</td>\n",
       "      <td>1</td>\n",
       "      <td>111</td>\n",
       "      <td>1</td>\n",
       "      <td>Neutral</td>\n",
       "      <td>simple</td>\n",
       "    </tr>\n",
       "    <tr>\n",
       "      <th>1</th>\n",
       "      <td>2</td>\n",
       "      <td>2</td>\n",
       "      <td>114</td>\n",
       "      <td>1</td>\n",
       "      <td>Neutral</td>\n",
       "      <td>simple</td>\n",
       "    </tr>\n",
       "    <tr>\n",
       "      <th>2</th>\n",
       "      <td>3</td>\n",
       "      <td>3</td>\n",
       "      <td>115</td>\n",
       "      <td>1</td>\n",
       "      <td>Neutral</td>\n",
       "      <td>simple</td>\n",
       "    </tr>\n",
       "    <tr>\n",
       "      <th>3</th>\n",
       "      <td>4</td>\n",
       "      <td>4</td>\n",
       "      <td>116</td>\n",
       "      <td>1</td>\n",
       "      <td>Neutral</td>\n",
       "      <td>simple</td>\n",
       "    </tr>\n",
       "    <tr>\n",
       "      <th>4</th>\n",
       "      <td>5</td>\n",
       "      <td>5</td>\n",
       "      <td>117</td>\n",
       "      <td>1</td>\n",
       "      <td>Neutral</td>\n",
       "      <td>simple</td>\n",
       "    </tr>\n",
       "  </tbody>\n",
       "</table>\n",
       "</div>"
      ],
      "text/plain": [
       "   Unnamed: 0  Index  identity  emotion_idx emotion_cat    type\n",
       "0           1      1       111            1     Neutral  simple\n",
       "1           2      2       114            1     Neutral  simple\n",
       "2           3      3       115            1     Neutral  simple\n",
       "3           4      4       116            1     Neutral  simple\n",
       "4           5      5       117            1     Neutral  simple"
      ]
     },
     "execution_count": 63,
     "metadata": {},
     "output_type": "execute_result"
    }
   ],
   "source": [
    "labels.head()"
   ]
  },
  {
   "cell_type": "code",
   "execution_count": 64,
   "metadata": {},
   "outputs": [
    {
     "data": {
      "text/plain": [
       "(2500, 6)"
      ]
     },
     "execution_count": 64,
     "metadata": {},
     "output_type": "execute_result"
    }
   ],
   "source": [
    "labels.shape"
   ]
  },
  {
   "cell_type": "code",
   "execution_count": 65,
   "metadata": {},
   "outputs": [
    {
     "data": {
      "text/plain": [
       "(2500, 157)"
      ]
     },
     "execution_count": 65,
     "metadata": {},
     "output_type": "execute_result"
    }
   ],
   "source": [
    "points.shape"
   ]
  },
  {
   "cell_type": "code",
   "execution_count": 66,
   "metadata": {},
   "outputs": [],
   "source": [
    "X = points.iloc[:, 1:157].values\n",
    "y = labels.iloc[:, 3].values"
   ]
  },
  {
   "cell_type": "code",
   "execution_count": 67,
   "metadata": {},
   "outputs": [],
   "source": [
    "from sklearn.model_selection import train_test_split\n",
    "X_train, X_test, y_train, y_test = train_test_split(X, y, test_size=0.20)"
   ]
  },
  {
   "cell_type": "code",
   "execution_count": 140,
   "metadata": {},
   "outputs": [
    {
     "data": {
      "text/plain": [
       "DecisionTreeClassifier(class_weight=None, criterion='gini', max_depth=None,\n",
       "                       max_features=None, max_leaf_nodes=None,\n",
       "                       min_impurity_decrease=0.0, min_impurity_split=None,\n",
       "                       min_samples_leaf=1, min_samples_split=2,\n",
       "                       min_weight_fraction_leaf=0.0, presort=False,\n",
       "                       random_state=None, splitter='best')"
      ]
     },
     "execution_count": 140,
     "metadata": {},
     "output_type": "execute_result"
    }
   ],
   "source": [
    "from sklearn.tree import DecisionTreeClassifier\n",
    "classifier = DecisionTreeClassifier()\n",
    "classifier.fit(X_train, y_train)"
   ]
  },
  {
   "cell_type": "code",
   "execution_count": 73,
   "metadata": {},
   "outputs": [],
   "source": [
    "y_pred = classifier.predict(X_test)"
   ]
  },
  {
   "cell_type": "code",
   "execution_count": 74,
   "metadata": {},
   "outputs": [
    {
     "name": "stdout",
     "output_type": "stream",
     "text": [
      "Accuracy: 0.158\n"
     ]
    }
   ],
   "source": [
    "from sklearn import metrics\n",
    "print(\"Accuracy:\",metrics.accuracy_score(y_test, y_pred))"
   ]
  },
  {
   "cell_type": "code",
   "execution_count": 75,
   "metadata": {},
   "outputs": [
    {
     "name": "stdout",
     "output_type": "stream",
     "text": [
      "[[ 6  1  1  3  0  1  0  0  0  2  2  0  1  0  0  2  1  0  1  0  0  1]\n",
      " [ 0 10  2  0  2  1  2  4  2  1  0  1  0  1  0  0  0  0  1  0  0  0]\n",
      " [ 0  0  2  2  1  2  0  2  1  1  1  3  1  0  1  2  1  0  0  0  2  3]\n",
      " [ 1  1  2  4  0  1  0  0  0  4  2  2 12  1  0  0  0  0  0  0  0  0]\n",
      " [ 0  1  0  0  4  0  2  3  1  0  1  1  1  2  2  0  1  1  1  2  3  0]\n",
      " [ 4  0  1  0  0  5  0  0  2  0  1  3  4  0  0  0  0  0  0  1  1  1]\n",
      " [ 0  1  1  0  2  0  5  1  1  0  0  0  1  2  1  0  1  0  2  0  0  2]\n",
      " [ 0  4  0  0  2  0  5  7  1  1  0  0  0  1  1  0  3  2  0  0  0  0]\n",
      " [ 0  7  0  1  1  0  0  2  2  0  0  1  0  0  1  1  2  1  0  1  1  0]\n",
      " [ 1  0  1  3  0  1  0  0  0  4  6  1  2  0  0  0  0  0  0  2  0  0]\n",
      " [ 2  0  2  2  0  0  0  0  0  2  3  2  3  1  0  2  0  0  0  2  0  2]\n",
      " [ 0  1  1  2  0  0  1  0  1  0  1  1  3  1  0  0  1  0  0  0  0  3]\n",
      " [ 3  0  2  2  0  0  0  0  0  3  1  3  4  0  0  1  0  0  1  0  1  2]\n",
      " [ 0  1  0  0  1  0  0  0  0  2  1  0  0  3  3  0  0  0  2  2  1  0]\n",
      " [ 0  0  1  0  2  0  0  1  0  0  1  0  2  2  2  0  1  2  2  3  3  1]\n",
      " [ 2  0  3  1  1  1  0  2  1  0  2  1  1  0  0  3  0  1  1  1  0  1]\n",
      " [ 0  0  0  0  0  0  1  0  1  1  0  0  0  1  1  1  3  3  0  2  1  1]\n",
      " [ 1  1  0  0  3  0  3  1  1  1  0  0  0  1  0  0  5  6  1  2  1  1]\n",
      " [ 0  1  1  1  0  0  3  0  1  0  1  0  0  1  1  0  4  0  0  3  1  1]\n",
      " [ 0  1  1  0  0  0  2  1  1  1  0  0  1  0  1  1  4  0  3  1  0  0]\n",
      " [ 4  0  1  1  0  1  0  1  1  0  3  1  1  0  1  2  1  1  1  0  3  1]\n",
      " [ 3  0  1  1  0  1  1  0  2  0  2  3  0  1  2  2  2  2  2  1  3  1]]\n",
      "              precision    recall  f1-score   support\n",
      "\n",
      "           1       0.22      0.27      0.24        22\n",
      "           2       0.33      0.37      0.35        27\n",
      "           3       0.09      0.08      0.08        25\n",
      "           4       0.17      0.13      0.15        30\n",
      "           5       0.21      0.15      0.18        26\n",
      "           6       0.36      0.22      0.27        23\n",
      "           7       0.20      0.25      0.22        20\n",
      "           8       0.28      0.26      0.27        27\n",
      "           9       0.11      0.10      0.10        21\n",
      "          10       0.17      0.19      0.18        21\n",
      "          11       0.11      0.13      0.12        23\n",
      "          12       0.04      0.06      0.05        16\n",
      "          13       0.11      0.17      0.13        23\n",
      "          14       0.17      0.19      0.18        16\n",
      "          15       0.12      0.09      0.10        23\n",
      "          16       0.18      0.14      0.15        22\n",
      "          17       0.10      0.19      0.13        16\n",
      "          18       0.32      0.21      0.26        28\n",
      "          19       0.00      0.00      0.00        19\n",
      "          20       0.04      0.06      0.05        18\n",
      "          21       0.14      0.12      0.13        24\n",
      "          22       0.05      0.03      0.04        30\n",
      "\n",
      "    accuracy                           0.16       500\n",
      "   macro avg       0.16      0.16      0.15       500\n",
      "weighted avg       0.17      0.16      0.16       500\n",
      "\n"
     ]
    }
   ],
   "source": [
    "from sklearn.metrics import classification_report, confusion_matrix\n",
    "print(confusion_matrix(y_test, y_pred))\n",
    "print(classification_report(y_test, y_pred))"
   ]
  },
  {
   "cell_type": "code",
   "execution_count": 76,
   "metadata": {},
   "outputs": [
    {
     "name": "stdout",
     "output_type": "stream",
     "text": [
      "Mean Absolute Error: 5.972\n",
      "Mean Squared Error: 62.852\n",
      "Root Mean Squared Error: 7.927925327599901\n"
     ]
    }
   ],
   "source": [
    "from sklearn import metrics\n",
    "print('Mean Absolute Error:', metrics.mean_absolute_error(y_test, y_pred))\n",
    "print('Mean Squared Error:', metrics.mean_squared_error(y_test, y_pred))\n",
    "print('Root Mean Squared Error:', np.sqrt(metrics.mean_squared_error(y_test, y_pred)))"
   ]
  },
  {
   "cell_type": "code",
   "execution_count": 83,
   "metadata": {},
   "outputs": [
    {
     "name": "stdout",
     "output_type": "stream",
     "text": [
      "mean: 0.136 (std: 0.010)\n",
      "\n"
     ]
    }
   ],
   "source": [
    "# cross validation with k=5\n",
    "from sklearn.model_selection import cross_val_score\n",
    "classifier = DecisionTreeClassifier()\n",
    "classifier.fit(X_train, y_train)\n",
    "scores = cross_val_score(classifier, X_train, y_train, cv = 5)\n",
    "print(\"mean: {:.3f} (std: {:.3f})\".format(scores.mean(),\n",
    "                                          scores.std()),\n",
    "                                          end=\"\\n\\n\" )"
   ]
  },
  {
   "cell_type": "code",
   "execution_count": null,
   "metadata": {},
   "outputs": [],
   "source": []
  },
  {
   "cell_type": "code",
   "execution_count": 142,
   "metadata": {},
   "outputs": [
    {
     "name": "stderr",
     "output_type": "stream",
     "text": [
      "/Users/mingming/anaconda3/lib/python3.7/site-packages/sklearn/model_selection/_search.py:813: DeprecationWarning: The default of the `iid` parameter will change from True to False in version 0.22 and will be removed in 0.24. This will change numeric results when test-set sizes are unequal.\n",
      "  DeprecationWarning)\n"
     ]
    },
    {
     "data": {
      "text/plain": [
       "GridSearchCV(cv=5, error_score='raise-deprecating',\n",
       "             estimator=DecisionTreeClassifier(class_weight=None,\n",
       "                                              criterion='gini', max_depth=None,\n",
       "                                              max_features=None,\n",
       "                                              max_leaf_nodes=None,\n",
       "                                              min_impurity_decrease=0.0,\n",
       "                                              min_impurity_split=None,\n",
       "                                              min_samples_leaf=1,\n",
       "                                              min_samples_split=2,\n",
       "                                              min_weight_fraction_leaf=0.0,\n",
       "                                              presort=False, random_state=None,\n",
       "                                              splitter='best'),\n",
       "             iid='warn', n_jobs=None,\n",
       "             param_grid={'criterion': ['gini', 'entropy'],\n",
       "                         'max_depth': [None, 2, 5, 10],\n",
       "                         'max_leaf_nodes': [None, 5, 10, 20],\n",
       "                         'min_samples_leaf': [1, 5, 10],\n",
       "                         'min_samples_split': [2, 10, 20]},\n",
       "             pre_dispatch='2*n_jobs', refit=True, return_train_score=False,\n",
       "             scoring=None, verbose=0)"
      ]
     },
     "execution_count": 142,
     "metadata": {},
     "output_type": "execute_result"
    }
   ],
   "source": [
    "# changing parameters using GridSearch\n",
    "from sklearn.model_selection import GridSearchCV\n",
    "#create new a knn model\n",
    "dt2 = DecisionTreeClassifier()\n",
    "#create a dictionary of all values we want to test for n_neighbors\n",
    "param_grid = {\"criterion\": [\"gini\", \"entropy\"],\n",
    "              \"min_samples_split\": [2, 10, 20],\n",
    "              \"max_depth\": [None, 2, 5, 10],\n",
    "              \"min_samples_leaf\": [1, 5, 10],\n",
    "              \"max_leaf_nodes\": [None, 5, 10, 20],\n",
    "              }\n",
    "#use gridsearch to test all values for n_neighbors\n",
    "dt_gscv = GridSearchCV(dt2, param_grid, cv=5)\n",
    "#fit model to data\n",
    "dt_gscv.fit(X_train, y_train)"
   ]
  },
  {
   "cell_type": "code",
   "execution_count": 143,
   "metadata": {},
   "outputs": [
    {
     "data": {
      "text/plain": [
       "{'criterion': 'gini',\n",
       " 'max_depth': None,\n",
       " 'max_leaf_nodes': None,\n",
       " 'min_samples_leaf': 10,\n",
       " 'min_samples_split': 10}"
      ]
     },
     "execution_count": 143,
     "metadata": {},
     "output_type": "execute_result"
    }
   ],
   "source": [
    "dt_gscv.best_params_"
   ]
  },
  {
   "cell_type": "code",
   "execution_count": 144,
   "metadata": {},
   "outputs": [
    {
     "data": {
      "text/plain": [
       "0.1645"
      ]
     },
     "execution_count": 144,
     "metadata": {},
     "output_type": "execute_result"
    }
   ],
   "source": [
    "dt_gscv.best_score_"
   ]
  },
  {
   "cell_type": "code",
   "execution_count": null,
   "metadata": {},
   "outputs": [],
   "source": []
  }
 ],
 "metadata": {
  "kernelspec": {
   "display_name": "Python 3",
   "language": "python",
   "name": "python3"
  },
  "language_info": {
   "codemirror_mode": {
    "name": "ipython",
    "version": 3
   },
   "file_extension": ".py",
   "mimetype": "text/x-python",
   "name": "python",
   "nbconvert_exporter": "python",
   "pygments_lexer": "ipython3",
   "version": "3.7.3"
  }
 },
 "nbformat": 4,
 "nbformat_minor": 2
}
