{
 "cells": [
  {
   "cell_type": "markdown",
   "metadata": {},
   "source": [
    "# ADS Project 3 Group 4"
   ]
  },
  {
   "cell_type": "markdown",
   "metadata": {},
   "source": [
    "## Libraries and Settings"
   ]
  },
  {
   "cell_type": "code",
   "execution_count": 1,
   "metadata": {},
   "outputs": [],
   "source": [
    "from scipy.io import loadmat\n",
    "import os\n",
    "import matplotlib.pyplot as plt\n",
    "import numpy as np\n",
    "import pandas as pd\n",
    "import PIL\n",
    "from PIL import Image"
   ]
  },
  {
   "cell_type": "code",
   "execution_count": 2,
   "metadata": {},
   "outputs": [],
   "source": [
    "\"\"\"\n",
    "Path\n",
    "\"\"\"\n",
    "DATA_PATH = \"../data/train_set\"\n",
    "IMAGE_FOLDER = os.path.join(DATA_PATH, \"images\")\n",
    "POINTS_FOLDER = os.path.join(DATA_PATH, \"points\")\n",
    "LABELS_FOLDER = DATA_PATH"
   ]
  },
  {
   "cell_type": "markdown",
   "metadata": {},
   "source": [
    "## Read Training Data"
   ]
  },
  {
   "cell_type": "code",
   "execution_count": 3,
   "metadata": {},
   "outputs": [],
   "source": [
    "def read_all_images():\n",
    "    \"\"\"\n",
    "    Read 2500 training images from the IMAGE_FOLDER\n",
    "    :return a 4d numpy array in form of (index, height, width, channels), channels is RGB \n",
    "    \"\"\"\n",
    "    files = [file for file in os.listdir(IMAGE_FOLDER) if file.endswith('.jpg')]\n",
    "    files.sort()\n",
    "    \n",
    "    face_images = np.zeros((len(files), 750, 1000, 3))\n",
    "    \n",
    "    for index, filename in enumerate(files):\n",
    "        face_img_arr = plt.imread(os.path.join(IMAGE_FOLDER, filename))\n",
    "        if face_img_arr.shape != (750,1000,3):\n",
    "            # resize the image\n",
    "            face_img = Image.fromarray(face_img_arr)\n",
    "            face_img = face_img.resize((1000,750))\n",
    "            face_img_arr = np.array(face_img)\n",
    "        face_images[index] = face_img_arr\n",
    "    return face_images\n",
    "\n",
    "def read_labels():\n",
    "    \"\"\"\n",
    "    Read the image labels from the label.csv file\n",
    "    :return a pandas.DataFrame with 3 columns: 'emotion_idx','emotion_cat','type'\n",
    "    \"\"\"\n",
    "    labels_df = pd.read_csv(os.path.join(LABELS_FOLDER, 'label.csv'))\n",
    "    labels_df = labels_df.loc[:,['emotion_idx','emotion_cat','type']]\n",
    "    return labels_df\n",
    "    \n",
    "\n",
    "def read_all_points():\n",
    "    \"\"\"\n",
    "    Read all face coordinates points\n",
    "    :return a tuple of shape (2500, 78, 2). Because for each of 2500 images there are 78 points associated with it\n",
    "    \"\"\"\n",
    "    files = [file for file in os.listdir(POINTS_FOLDER) if file.endswith('.mat')]\n",
    "    files.sort()\n",
    "    \n",
    "    face_points = np.zeros((len(files), 78, 2))\n",
    "    for index, filename in enumerate(files):\n",
    "        face_points_dict = loadmat(os.path.join(POINTS_FOLDER, filename))\n",
    "    \n",
    "        face_points[index] = face_points_dict.get('faceCoordinatesUnwarped',  face_points_dict.get('faceCoordinates2'))\n",
    "    return face_points\n",
    "\n",
    "def load_data(loadImage = False):\n",
    "    \"\"\"\n",
    "    Load training data from local files\n",
    "    \n",
    "    :loadImage if it's False, this function will not load original images\n",
    "    :return a tuple (images, points, labels)\n",
    "        if loadImage is False, the 'images' will None. Otherwise its a numpy array with shape (2500,750,1000,3)\n",
    "        points is a numpy array with shape (2500, 78, 2)\n",
    "        labels is a pandas.DataFrame\n",
    "    \"\"\"\n",
    "    #face_images_narr =  read_all_images() if loadImage else None\n",
    "    face_images_points = read_all_points()\n",
    "    labels = read_labels()\n",
    "    #return face_images_narr, face_images_points, labels\n",
    "    return face_images_points, labels"
   ]
  },
  {
   "cell_type": "code",
   "execution_count": 4,
   "metadata": {},
   "outputs": [],
   "source": [
    "# pass True if you want to read original images, it might take some time to do it\n",
    "#images, points, labels = load_data(True)\n",
    "points, labels = load_data(True)"
   ]
  },
  {
   "cell_type": "code",
   "execution_count": 5,
   "metadata": {},
   "outputs": [
    {
     "name": "stdout",
     "output_type": "stream",
     "text": [
      "(2500, 78, 2)\n"
     ]
    },
    {
     "data": {
      "text/html": [
       "<div>\n",
       "<style scoped>\n",
       "    .dataframe tbody tr th:only-of-type {\n",
       "        vertical-align: middle;\n",
       "    }\n",
       "\n",
       "    .dataframe tbody tr th {\n",
       "        vertical-align: top;\n",
       "    }\n",
       "\n",
       "    .dataframe thead th {\n",
       "        text-align: right;\n",
       "    }\n",
       "</style>\n",
       "<table border=\"1\" class=\"dataframe\">\n",
       "  <thead>\n",
       "    <tr style=\"text-align: right;\">\n",
       "      <th></th>\n",
       "      <th>emotion_idx</th>\n",
       "      <th>emotion_cat</th>\n",
       "      <th>type</th>\n",
       "    </tr>\n",
       "  </thead>\n",
       "  <tbody>\n",
       "    <tr>\n",
       "      <td>0</td>\n",
       "      <td>1</td>\n",
       "      <td>Neutral</td>\n",
       "      <td>simple</td>\n",
       "    </tr>\n",
       "    <tr>\n",
       "      <td>1</td>\n",
       "      <td>1</td>\n",
       "      <td>Neutral</td>\n",
       "      <td>simple</td>\n",
       "    </tr>\n",
       "    <tr>\n",
       "      <td>2</td>\n",
       "      <td>1</td>\n",
       "      <td>Neutral</td>\n",
       "      <td>simple</td>\n",
       "    </tr>\n",
       "    <tr>\n",
       "      <td>3</td>\n",
       "      <td>1</td>\n",
       "      <td>Neutral</td>\n",
       "      <td>simple</td>\n",
       "    </tr>\n",
       "    <tr>\n",
       "      <td>4</td>\n",
       "      <td>1</td>\n",
       "      <td>Neutral</td>\n",
       "      <td>simple</td>\n",
       "    </tr>\n",
       "    <tr>\n",
       "      <td>...</td>\n",
       "      <td>...</td>\n",
       "      <td>...</td>\n",
       "      <td>...</td>\n",
       "    </tr>\n",
       "    <tr>\n",
       "      <td>2495</td>\n",
       "      <td>22</td>\n",
       "      <td>Sadly disgusted</td>\n",
       "      <td>compound</td>\n",
       "    </tr>\n",
       "    <tr>\n",
       "      <td>2496</td>\n",
       "      <td>22</td>\n",
       "      <td>Sadly disgusted</td>\n",
       "      <td>compound</td>\n",
       "    </tr>\n",
       "    <tr>\n",
       "      <td>2497</td>\n",
       "      <td>22</td>\n",
       "      <td>Sadly disgusted</td>\n",
       "      <td>compound</td>\n",
       "    </tr>\n",
       "    <tr>\n",
       "      <td>2498</td>\n",
       "      <td>22</td>\n",
       "      <td>Sadly disgusted</td>\n",
       "      <td>compound</td>\n",
       "    </tr>\n",
       "    <tr>\n",
       "      <td>2499</td>\n",
       "      <td>22</td>\n",
       "      <td>Sadly disgusted</td>\n",
       "      <td>compound</td>\n",
       "    </tr>\n",
       "  </tbody>\n",
       "</table>\n",
       "<p>2500 rows × 3 columns</p>\n",
       "</div>"
      ],
      "text/plain": [
       "      emotion_idx      emotion_cat      type\n",
       "0               1          Neutral    simple\n",
       "1               1          Neutral    simple\n",
       "2               1          Neutral    simple\n",
       "3               1          Neutral    simple\n",
       "4               1          Neutral    simple\n",
       "...           ...              ...       ...\n",
       "2495           22  Sadly disgusted  compound\n",
       "2496           22  Sadly disgusted  compound\n",
       "2497           22  Sadly disgusted  compound\n",
       "2498           22  Sadly disgusted  compound\n",
       "2499           22  Sadly disgusted  compound\n",
       "\n",
       "[2500 rows x 3 columns]"
      ]
     },
     "execution_count": 5,
     "metadata": {},
     "output_type": "execute_result"
    }
   ],
   "source": [
    "#if images:\n",
    "#    print(images.shape)\n",
    "\n",
    "print(points.shape)\n",
    "labels"
   ]
  },
  {
   "cell_type": "code",
   "execution_count": 8,
   "metadata": {},
   "outputs": [],
   "source": [
    "from sklearn.metrics import pairwise_distances\n",
    "\n",
    "def feature(input_points):\n",
    "    n = input_points.shape[0]\n",
    "    pairwise_dist_data = []\n",
    "    # return a vector\n",
    "    def pairwise_dist(vec):\n",
    "        vec = np.reshape(vec, (len(vec),1))\n",
    "        dist_matrix = pairwise_distances(vec)\n",
    "        dist_matrix = dist_matrix[np.triu_indices(dist_matrix.shape[0], k=1)]\n",
    "        return dist_matrix\n",
    "    \n",
    "    # dist is an 2 column array\n",
    "    def pairwise_dist_result(mat):\n",
    "        dist = np.apply_along_axis(func1d=pairwise_dist, axis=0, arr=mat)\n",
    "        dist_result = np.ndarray.flatten(dist,order='F').tolist()\n",
    "        return dist_result\n",
    "    \n",
    "    for i in range(n):\n",
    "        pairwise_dist_feature = pairwise_dist_result(points[i,:,:])\n",
    "        pairwise_dist_data.append(pairwise_dist_feature)\n",
    "        \n",
    "    pairwise_dist_data = pd.DataFrame(pairwise_dist_data)\n",
    "    return pairwise_dist_data\n",
    "        \n"
   ]
  },
  {
   "cell_type": "code",
   "execution_count": 11,
   "metadata": {},
   "outputs": [
    {
     "name": "stdout",
     "output_type": "stream",
     "text": [
      "0        1\n",
      "1        1\n",
      "2        1\n",
      "3        1\n",
      "4        1\n",
      "        ..\n",
      "2495    22\n",
      "2496    22\n",
      "2497    22\n",
      "2498    22\n",
      "2499    22\n",
      "Name: emotion_idx, Length: 2500, dtype: int64\n"
     ]
    }
   ],
   "source": [
    "X = feature(points)\n",
    "y = labels['emotion_idx']"
   ]
  },
  {
   "cell_type": "code",
   "execution_count": 15,
   "metadata": {},
   "outputs": [
    {
     "data": {
      "text/plain": [
       "286      3\n",
       "1495    14\n",
       "40       1\n",
       "1106    10\n",
       "1379    13\n",
       "        ..\n",
       "1033     9\n",
       "1731    16\n",
       "763      7\n",
       "835      8\n",
       "1653    15\n",
       "Name: emotion_idx, Length: 2000, dtype: int64"
      ]
     },
     "execution_count": 15,
     "metadata": {},
     "output_type": "execute_result"
    }
   ],
   "source": [
    "from sklearn.model_selection import train_test_split\n",
    "# train-test split\n",
    "X_train, X_test, y_train, y_test = train_test_split(X, y, test_size=0.2, random_state=0)"
   ]
  },
  {
   "cell_type": "code",
   "execution_count": 25,
   "metadata": {},
   "outputs": [
    {
     "name": "stdout",
     "output_type": "stream",
     "text": [
      "[0.16539042687571937, 0.18896920690311275, 0.1930451632581956, 0.20352750789991997, 0.2100487735012732, 0.21456889268655277, 0.2260104530637992, 0.24153722221925827, 0.24351734243066234, 0.24856563818397967, 0.25793576036962385, 0.25792206531103357, 0.2588973352981191, 0.25286451535282695, 0.2533865199823715, 0.2529690873935023, 0.25299995723608604, 0.2555308520613006, 0.25805868573945673, 0.2594833097084706, 0.2574377499083251, 0.25691828451389476, 0.25242931708606575, 0.2559588092832744, 0.25589308908009717, 0.2514308787973179, 0.25379251197026065, 0.25379413183442345, 0.2493731147054113, 0.2508913080300431]\n"
     ]
    }
   ],
   "source": [
    "# model selection with cross-validation \n",
    "from sklearn.neighbors import KNeighborsClassifier\n",
    "from sklearn.model_selection import cross_val_score\n",
    "k_range = range(1,31)\n",
    "cv_scores = []\n",
    "for k in k_range:\n",
    "    knn = KNeighborsClassifier(n_neighbors=k)\n",
    "    scores = cross_val_score(knn, X_train, y_train, cv=5, scoring='accuracy')\n",
    "    cv_scores.append(scores.mean())\n",
    "print(cv_scores)"
   ]
  },
  {
   "cell_type": "code",
   "execution_count": 26,
   "metadata": {},
   "outputs": [
    {
     "data": {
      "text/plain": [
       "[<matplotlib.lines.Line2D at 0x141083211c8>]"
      ]
     },
     "execution_count": 26,
     "metadata": {},
     "output_type": "execute_result"
    },
    {
     "data": {
      "image/png": "[encoded data removed]",
      "text/plain": [
       "<Figure size 432x288 with 1 Axes>"
      ]
     },
     "metadata": {
      "needs_background": "light"
     },
     "output_type": "display_data"
    }
   ],
   "source": [
    "plt.plot(k_range, cv_scores)"
   ]
  },
  {
   "cell_type": "code",
   "execution_count": 32,
   "metadata": {},
   "outputs": [
    {
     "name": "stdout",
     "output_type": "stream",
     "text": [
      "accuracy: 0.268\n"
     ]
    }
   ],
   "source": [
    "from sklearn.metrics import accuracy_score\n",
    "k_best = cv_scores.index(max(cv_scores))\n",
    "knn_best = KNeighborsClassifier(n_neighbors=k_best)\n",
    "knn_best.fit(X_train, y_train)\n",
    "pred = knn_best.predict(X_test)\n",
    "print(\"accuracy: {}\".format(accuracy_score(y_test, pred)))"
   ]
  }
 ],
 "metadata": {
  "kernelspec": {
   "display_name": "Python 3",
   "language": "python",
   "name": "python3"
  },
  "language_info": {
   "codemirror_mode": {
    "name": "ipython",
    "version": 3
   },
   "file_extension": ".py",
   "mimetype": "text/x-python",
   "name": "python",
   "nbconvert_exporter": "python",
   "pygments_lexer": "ipython3",
   "version": "3.7.4"
  }
 },
 "nbformat": 4,
 "nbformat_minor": 2
}
