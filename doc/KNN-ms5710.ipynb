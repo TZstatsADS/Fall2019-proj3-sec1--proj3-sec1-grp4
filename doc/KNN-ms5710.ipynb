{
 "cells": [
  {
   "cell_type": "code",
   "execution_count": 3,
   "metadata": {},
   "outputs": [],
   "source": [
    "import pandas as pd\n",
    "import numpy as np\n",
    "import matplotlib.pyplot as plt"
   ]
  },
  {
   "cell_type": "code",
   "execution_count": 4,
   "metadata": {},
   "outputs": [],
   "source": [
    "points = pd.read_csv('new.csv')\n",
    "labels = pd.read_csv('label.csv')"
   ]
  },
  {
   "cell_type": "code",
   "execution_count": 5,
   "metadata": {},
   "outputs": [
    {
     "data": {
      "text/html": [
       "<div>\n",
       "<style scoped>\n",
       "    .dataframe tbody tr th:only-of-type {\n",
       "        vertical-align: middle;\n",
       "    }\n",
       "\n",
       "    .dataframe tbody tr th {\n",
       "        vertical-align: top;\n",
       "    }\n",
       "\n",
       "    .dataframe thead th {\n",
       "        text-align: right;\n",
       "    }\n",
       "</style>\n",
       "<table border=\"1\" class=\"dataframe\">\n",
       "  <thead>\n",
       "    <tr style=\"text-align: right;\">\n",
       "      <th></th>\n",
       "      <th>Unnamed: 0</th>\n",
       "      <th>V1</th>\n",
       "      <th>V2</th>\n",
       "      <th>V3</th>\n",
       "      <th>V4</th>\n",
       "      <th>V5</th>\n",
       "      <th>V6</th>\n",
       "      <th>V7</th>\n",
       "      <th>V8</th>\n",
       "      <th>V9</th>\n",
       "      <th>...</th>\n",
       "      <th>V147</th>\n",
       "      <th>V148</th>\n",
       "      <th>V149</th>\n",
       "      <th>V150</th>\n",
       "      <th>V151</th>\n",
       "      <th>V152</th>\n",
       "      <th>V153</th>\n",
       "      <th>V154</th>\n",
       "      <th>V155</th>\n",
       "      <th>V156</th>\n",
       "    </tr>\n",
       "  </thead>\n",
       "  <tbody>\n",
       "    <tr>\n",
       "      <th>0</th>\n",
       "      <td>1</td>\n",
       "      <td>457</td>\n",
       "      <td>412</td>\n",
       "      <td>429</td>\n",
       "      <td>451</td>\n",
       "      <td>473</td>\n",
       "      <td>494</td>\n",
       "      <td>479</td>\n",
       "      <td>456</td>\n",
       "      <td>432</td>\n",
       "      <td>...</td>\n",
       "      <td>638</td>\n",
       "      <td>666</td>\n",
       "      <td>681</td>\n",
       "      <td>664</td>\n",
       "      <td>638</td>\n",
       "      <td>602</td>\n",
       "      <td>547</td>\n",
       "      <td>491</td>\n",
       "      <td>434</td>\n",
       "      <td>377</td>\n",
       "    </tr>\n",
       "    <tr>\n",
       "      <th>1</th>\n",
       "      <td>2</td>\n",
       "      <td>465</td>\n",
       "      <td>421</td>\n",
       "      <td>438</td>\n",
       "      <td>460</td>\n",
       "      <td>484</td>\n",
       "      <td>501</td>\n",
       "      <td>485</td>\n",
       "      <td>463</td>\n",
       "      <td>441</td>\n",
       "      <td>...</td>\n",
       "      <td>628</td>\n",
       "      <td>658</td>\n",
       "      <td>671</td>\n",
       "      <td>660</td>\n",
       "      <td>626</td>\n",
       "      <td>586</td>\n",
       "      <td>533</td>\n",
       "      <td>475</td>\n",
       "      <td>417</td>\n",
       "      <td>358</td>\n",
       "    </tr>\n",
       "    <tr>\n",
       "      <th>2</th>\n",
       "      <td>3</td>\n",
       "      <td>362</td>\n",
       "      <td>320</td>\n",
       "      <td>338</td>\n",
       "      <td>359</td>\n",
       "      <td>380</td>\n",
       "      <td>395</td>\n",
       "      <td>377</td>\n",
       "      <td>357</td>\n",
       "      <td>339</td>\n",
       "      <td>...</td>\n",
       "      <td>630</td>\n",
       "      <td>664</td>\n",
       "      <td>676</td>\n",
       "      <td>663</td>\n",
       "      <td>629</td>\n",
       "      <td>591</td>\n",
       "      <td>542</td>\n",
       "      <td>489</td>\n",
       "      <td>435</td>\n",
       "      <td>380</td>\n",
       "    </tr>\n",
       "    <tr>\n",
       "      <th>3</th>\n",
       "      <td>4</td>\n",
       "      <td>424</td>\n",
       "      <td>377</td>\n",
       "      <td>397</td>\n",
       "      <td>417</td>\n",
       "      <td>439</td>\n",
       "      <td>455</td>\n",
       "      <td>437</td>\n",
       "      <td>416</td>\n",
       "      <td>395</td>\n",
       "      <td>...</td>\n",
       "      <td>639</td>\n",
       "      <td>672</td>\n",
       "      <td>688</td>\n",
       "      <td>672</td>\n",
       "      <td>637</td>\n",
       "      <td>600</td>\n",
       "      <td>548</td>\n",
       "      <td>488</td>\n",
       "      <td>427</td>\n",
       "      <td>366</td>\n",
       "    </tr>\n",
       "    <tr>\n",
       "      <th>4</th>\n",
       "      <td>5</td>\n",
       "      <td>454</td>\n",
       "      <td>419</td>\n",
       "      <td>432</td>\n",
       "      <td>453</td>\n",
       "      <td>473</td>\n",
       "      <td>490</td>\n",
       "      <td>473</td>\n",
       "      <td>454</td>\n",
       "      <td>436</td>\n",
       "      <td>...</td>\n",
       "      <td>605</td>\n",
       "      <td>632</td>\n",
       "      <td>645</td>\n",
       "      <td>634</td>\n",
       "      <td>604</td>\n",
       "      <td>568</td>\n",
       "      <td>518</td>\n",
       "      <td>466</td>\n",
       "      <td>411</td>\n",
       "      <td>357</td>\n",
       "    </tr>\n",
       "  </tbody>\n",
       "</table>\n",
       "<p>5 rows × 157 columns</p>\n",
       "</div>"
      ],
      "text/plain": [
       "   Unnamed: 0   V1   V2   V3   V4   V5   V6   V7   V8   V9  ...  V147  V148  \\\n",
       "0           1  457  412  429  451  473  494  479  456  432  ...   638   666   \n",
       "1           2  465  421  438  460  484  501  485  463  441  ...   628   658   \n",
       "2           3  362  320  338  359  380  395  377  357  339  ...   630   664   \n",
       "3           4  424  377  397  417  439  455  437  416  395  ...   639   672   \n",
       "4           5  454  419  432  453  473  490  473  454  436  ...   605   632   \n",
       "\n",
       "   V149  V150  V151  V152  V153  V154  V155  V156  \n",
       "0   681   664   638   602   547   491   434   377  \n",
       "1   671   660   626   586   533   475   417   358  \n",
       "2   676   663   629   591   542   489   435   380  \n",
       "3   688   672   637   600   548   488   427   366  \n",
       "4   645   634   604   568   518   466   411   357  \n",
       "\n",
       "[5 rows x 157 columns]"
      ]
     },
     "execution_count": 5,
     "metadata": {},
     "output_type": "execute_result"
    }
   ],
   "source": [
    "points.head()"
   ]
  },
  {
   "cell_type": "code",
   "execution_count": 6,
   "metadata": {},
   "outputs": [
    {
     "data": {
      "text/html": [
       "<div>\n",
       "<style scoped>\n",
       "    .dataframe tbody tr th:only-of-type {\n",
       "        vertical-align: middle;\n",
       "    }\n",
       "\n",
       "    .dataframe tbody tr th {\n",
       "        vertical-align: top;\n",
       "    }\n",
       "\n",
       "    .dataframe thead th {\n",
       "        text-align: right;\n",
       "    }\n",
       "</style>\n",
       "<table border=\"1\" class=\"dataframe\">\n",
       "  <thead>\n",
       "    <tr style=\"text-align: right;\">\n",
       "      <th></th>\n",
       "      <th>Unnamed: 0</th>\n",
       "      <th>Index</th>\n",
       "      <th>identity</th>\n",
       "      <th>emotion_idx</th>\n",
       "      <th>emotion_cat</th>\n",
       "      <th>type</th>\n",
       "    </tr>\n",
       "  </thead>\n",
       "  <tbody>\n",
       "    <tr>\n",
       "      <th>0</th>\n",
       "      <td>1</td>\n",
       "      <td>1</td>\n",
       "      <td>111</td>\n",
       "      <td>1</td>\n",
       "      <td>Neutral</td>\n",
       "      <td>simple</td>\n",
       "    </tr>\n",
       "    <tr>\n",
       "      <th>1</th>\n",
       "      <td>2</td>\n",
       "      <td>2</td>\n",
       "      <td>114</td>\n",
       "      <td>1</td>\n",
       "      <td>Neutral</td>\n",
       "      <td>simple</td>\n",
       "    </tr>\n",
       "    <tr>\n",
       "      <th>2</th>\n",
       "      <td>3</td>\n",
       "      <td>3</td>\n",
       "      <td>115</td>\n",
       "      <td>1</td>\n",
       "      <td>Neutral</td>\n",
       "      <td>simple</td>\n",
       "    </tr>\n",
       "    <tr>\n",
       "      <th>3</th>\n",
       "      <td>4</td>\n",
       "      <td>4</td>\n",
       "      <td>116</td>\n",
       "      <td>1</td>\n",
       "      <td>Neutral</td>\n",
       "      <td>simple</td>\n",
       "    </tr>\n",
       "    <tr>\n",
       "      <th>4</th>\n",
       "      <td>5</td>\n",
       "      <td>5</td>\n",
       "      <td>117</td>\n",
       "      <td>1</td>\n",
       "      <td>Neutral</td>\n",
       "      <td>simple</td>\n",
       "    </tr>\n",
       "  </tbody>\n",
       "</table>\n",
       "</div>"
      ],
      "text/plain": [
       "   Unnamed: 0  Index  identity  emotion_idx emotion_cat    type\n",
       "0           1      1       111            1     Neutral  simple\n",
       "1           2      2       114            1     Neutral  simple\n",
       "2           3      3       115            1     Neutral  simple\n",
       "3           4      4       116            1     Neutral  simple\n",
       "4           5      5       117            1     Neutral  simple"
      ]
     },
     "execution_count": 6,
     "metadata": {},
     "output_type": "execute_result"
    }
   ],
   "source": [
    "labels.head()"
   ]
  },
  {
   "cell_type": "code",
   "execution_count": 12,
   "metadata": {},
   "outputs": [
    {
     "data": {
      "text/plain": [
       "array([ 1,  1,  1, ..., 22, 22, 22])"
      ]
     },
     "execution_count": 12,
     "metadata": {},
     "output_type": "execute_result"
    }
   ],
   "source": [
    "X = points.iloc[:, 1:157].values\n",
    "y = labels.iloc[:, 3].values"
   ]
  },
  {
   "cell_type": "code",
   "execution_count": 13,
   "metadata": {},
   "outputs": [],
   "source": [
    "from sklearn.model_selection import train_test_split\n",
    "X_train, X_test, y_train, y_test = train_test_split(X, y, test_size=0.20)"
   ]
  },
  {
   "cell_type": "code",
   "execution_count": 14,
   "metadata": {},
   "outputs": [],
   "source": [
    "# scaling\n",
    "from sklearn.preprocessing import StandardScaler\n",
    "scaler = StandardScaler()\n",
    "scaler.fit(X_train)\n",
    "\n",
    "X_train = scaler.transform(X_train)\n",
    "X_test = scaler.transform(X_test)"
   ]
  },
  {
   "cell_type": "code",
   "execution_count": 15,
   "metadata": {},
   "outputs": [
    {
     "data": {
      "text/plain": [
       "KNeighborsClassifier(algorithm='auto', leaf_size=30, metric='minkowski',\n",
       "                     metric_params=None, n_jobs=None, n_neighbors=5, p=2,\n",
       "                     weights='uniform')"
      ]
     },
     "execution_count": 15,
     "metadata": {},
     "output_type": "execute_result"
    }
   ],
   "source": [
    "# knn model\n",
    "from sklearn.neighbors import KNeighborsClassifier\n",
    "classifier = KNeighborsClassifier(n_neighbors=5)\n",
    "classifier.fit(X_train, y_train)"
   ]
  },
  {
   "cell_type": "code",
   "execution_count": 18,
   "metadata": {},
   "outputs": [],
   "source": [
    "# predition\n",
    "y_pred = classifier.predict(X_test)"
   ]
  },
  {
   "cell_type": "code",
   "execution_count": 23,
   "metadata": {},
   "outputs": [
    {
     "name": "stdout",
     "output_type": "stream",
     "text": [
      "Accuracy: 0.138\n"
     ]
    }
   ],
   "source": [
    "# print the accuracy\n",
    "from sklearn import metrics\n",
    "print(\"Accuracy:\",metrics.accuracy_score(y_test, y_pred))"
   ]
  },
  {
   "cell_type": "code",
   "execution_count": 19,
   "metadata": {},
   "outputs": [
    {
     "name": "stdout",
     "output_type": "stream",
     "text": [
      "[[18  0  2  2  2  0  1  0  1  0  0  0  0  0  0  1  0  0  0  0  0  0]\n",
      " [ 5  8  0  2  1  2  4  0  2  0  0  0  0  0  0  0  1  0  0  0  0  0]\n",
      " [10  3  6  5  1  0  1  0  1  3  1  2  0  0  0  0  1  0  0  0  0  0]\n",
      " [ 2  1  3  5  0  1  0  0  0  2  1  1  3  0  0  0  0  0  0  0  1  0]\n",
      " [ 5  1  1  1  5  0  1  1  0  0  0  0  0  1  2  0  1  0  0  0  0  0]\n",
      " [ 3  4  5  4  0  4  1  0  0  1  0  1  0  0  0  2  0  0  0  0  0  0]\n",
      " [ 7  1  2  1  1  0  4  4  1  0  0  0  0  0  1  0  0  0  1  0  0  0]\n",
      " [ 3  4  1  2  2  0  3  4  1  0  0  0  0  0  0  0  0  0  2  0  0  0]\n",
      " [ 4  5  0  2  1  1  1  0  0  1  2  0  0  1  0  0  0  0  1  2  0  1]\n",
      " [ 0  2  2  5  0  0  0  0  0  4  3  1  1  0  0  0  0  0  0  1  0  0]\n",
      " [ 1  0  3  0  1  2  0  1  3  3  1  1  3  1  0  0  0  0  0  0  0  0]\n",
      " [ 1  1  4  5  0  0  0  0  2  5  1  0  0  0  1  0  0  0  0  0  0  1]\n",
      " [ 2  0  1  5  0  1  0  0  0  3  0  1  1  0  0  0  0  0  0  0  1  0]\n",
      " [ 1  0  4  3  2  2  2  1  2  2  0  1  1  1  0  0  0  0  0  0  0  0]\n",
      " [ 1  2  4  2  1  1  0  0  0  1  0  0  1  4  1  0  0  1  0  0  0  0]\n",
      " [ 3  2  0  2  1  1  1  2  0  1  1  0  0  0  1  2  1  1  1  1  0  1]\n",
      " [ 6  5  3  3  3  2  4  3  0  0  0  0  0  1  1  1  3  2  0  2  0  0]\n",
      " [ 2  1  3  3  2  0  4  1  1  0  0  0  0  0  0  0  0  1  1  2  0  0]\n",
      " [ 5  3  2  2  2  0  1  2  1  0  0  1  0  0  0  0  0  0  1  1  0  0]\n",
      " [ 3  0  1  1  1  0  2  1  0  1  0  0  0  0  0  0  0  1  1  0  0  2]\n",
      " [ 3  2  3  2  1  0  1  0  0  2  0  1  2  2  0  0  1  0  1  0  0  1]\n",
      " [ 7  3  4  2  1  1  1  0  1  1  0  0  3  0  0  0  1  0  2  0  1  0]]\n",
      "              precision    recall  f1-score   support\n",
      "\n",
      "           1       0.20      0.67      0.30        27\n",
      "           2       0.17      0.32      0.22        25\n",
      "           3       0.11      0.18      0.14        34\n",
      "           4       0.08      0.25      0.13        20\n",
      "           5       0.18      0.26      0.21        19\n",
      "           6       0.22      0.16      0.19        25\n",
      "           7       0.12      0.17      0.15        23\n",
      "           8       0.20      0.18      0.19        22\n",
      "           9       0.00      0.00      0.00        22\n",
      "          10       0.13      0.21      0.16        19\n",
      "          11       0.10      0.05      0.07        20\n",
      "          12       0.00      0.00      0.00        21\n",
      "          13       0.07      0.07      0.07        15\n",
      "          14       0.09      0.05      0.06        22\n",
      "          15       0.14      0.05      0.08        19\n",
      "          16       0.33      0.09      0.14        22\n",
      "          17       0.33      0.08      0.12        39\n",
      "          18       0.17      0.05      0.07        21\n",
      "          19       0.09      0.05      0.06        21\n",
      "          20       0.00      0.00      0.00        14\n",
      "          21       0.00      0.00      0.00        22\n",
      "          22       0.00      0.00      0.00        28\n",
      "\n",
      "    accuracy                           0.14       500\n",
      "   macro avg       0.12      0.13      0.11       500\n",
      "weighted avg       0.13      0.14      0.11       500\n",
      "\n"
     ]
    }
   ],
   "source": [
    "# print the results\n",
    "from sklearn.metrics import classification_report, confusion_matrix\n",
    "print(confusion_matrix(y_test, y_pred))\n",
    "print(classification_report(y_test, y_pred))"
   ]
  },
  {
   "cell_type": "code",
   "execution_count": 24,
   "metadata": {},
   "outputs": [],
   "source": [
    "error = []\n",
    "\n",
    "# Calculating error for K values between 1 and 40\n",
    "for i in range(1, 40):\n",
    "    knn = KNeighborsClassifier(n_neighbors=i)\n",
    "    knn.fit(X_train, y_train)\n",
    "    pred_i = knn.predict(X_test)\n",
    "    error.append(np.mean(pred_i != y_test))"
   ]
  },
  {
   "cell_type": "code",
   "execution_count": 21,
   "metadata": {},
   "outputs": [
    {
     "data": {
      "text/plain": [
       "Text(0, 0.5, 'Mean Error')"
      ]
     },
     "execution_count": 21,
     "metadata": {},
     "output_type": "execute_result"
    },
    {
     "data": {
      "image/png": "[encoded data removed]",
      "text/plain": [
       "<Figure size 864x432 with 1 Axes>"
      ]
     },
     "metadata": {
      "needs_background": "light"
     },
     "output_type": "display_data"
    }
   ],
   "source": [
    "# plot the results with K value\n",
    "plt.figure(figsize=(12, 6))\n",
    "plt.plot(range(1, 40), error, color='red', linestyle='dashed', marker='o',\n",
    "         markerfacecolor='blue', markersize=10)\n",
    "plt.title('Error Rate K Value')\n",
    "plt.xlabel('K Value')\n",
    "plt.ylabel('Mean Error')"
   ]
  },
  {
   "cell_type": "code",
   "execution_count": 45,
   "metadata": {},
   "outputs": [
    {
     "name": "stdout",
     "output_type": "stream",
     "text": [
      "Accuracy: 0.144\n"
     ]
    }
   ],
   "source": [
    "# according to previous graph, set n=6 and check the accuracy\n",
    "classifier = KNeighborsClassifier(n_neighbors=6)\n",
    "classifier.fit(X_train, y_train)\n",
    "y_pred = classifier.predict(X_test)\n",
    "from sklearn import metrics\n",
    "print(\"Accuracy:\",metrics.accuracy_score(y_test, y_pred))"
   ]
  },
  {
   "cell_type": "code",
   "execution_count": 55,
   "metadata": {},
   "outputs": [
    {
     "data": {
      "text/plain": [
       "0.144"
      ]
     },
     "execution_count": 55,
     "metadata": {},
     "output_type": "execute_result"
    }
   ],
   "source": [
    "classifier.score(X_test, y_test)"
   ]
  },
  {
   "cell_type": "code",
   "execution_count": 56,
   "metadata": {},
   "outputs": [
    {
     "name": "stdout",
     "output_type": "stream",
     "text": [
      "mean: 0.102 (std: 0.012)\n",
      "\n"
     ]
    }
   ],
   "source": [
    "# cross validation with k=5\n",
    "from sklearn.model_selection import cross_val_score\n",
    "knn = KNeighborsClassifier(n_neighbors=6)\n",
    "knn.fit(X_train, y_train)\n",
    "scores = cross_val_score(knn, X_train, y_train, cv = 5)\n",
    "print(\"mean: {:.3f} (std: {:.3f})\".format(scores.mean(),\n",
    "                                          scores.std()),\n",
    "                                          end=\"\\n\\n\" )"
   ]
  },
  {
   "cell_type": "code",
   "execution_count": null,
   "metadata": {},
   "outputs": [],
   "source": []
  },
  {
   "cell_type": "code",
   "execution_count": 51,
   "metadata": {},
   "outputs": [
    {
     "name": "stderr",
     "output_type": "stream",
     "text": [
      "/Users/mingming/anaconda3/lib/python3.7/site-packages/sklearn/model_selection/_search.py:813: DeprecationWarning: The default of the `iid` parameter will change from True to False in version 0.22 and will be removed in 0.24. This will change numeric results when test-set sizes are unequal.\n",
      "  DeprecationWarning)\n"
     ]
    },
    {
     "data": {
      "text/plain": [
       "GridSearchCV(cv=5, error_score='raise-deprecating',\n",
       "             estimator=KNeighborsClassifier(algorithm='auto', leaf_size=30,\n",
       "                                            metric='minkowski',\n",
       "                                            metric_params=None, n_jobs=None,\n",
       "                                            n_neighbors=6, p=2,\n",
       "                                            weights='uniform'),\n",
       "             iid='warn', n_jobs=None,\n",
       "             param_grid={'n_neighbors': array([ 1,  2,  3,  4,  5,  6,  7,  8,  9, 10, 11, 12, 13, 14, 15, 16, 17,\n",
       "       18, 19, 20, 21, 22, 23, 24, 25, 26, 27, 28, 29, 30, 31, 32, 33, 34,\n",
       "       35, 36, 37, 38, 39])},\n",
       "             pre_dispatch='2*n_jobs', refit=True, return_train_score=False,\n",
       "             scoring=None, verbose=0)"
      ]
     },
     "execution_count": 51,
     "metadata": {},
     "output_type": "execute_result"
    }
   ],
   "source": [
    "from sklearn.model_selection import GridSearchCV\n",
    "#create new a knn model\n",
    "knn2 = KNeighborsClassifier()\n",
    "#create a dictionary of all values we want to test for n_neighbors\n",
    "param_grid = {'n_neighbors': np.arange(1, 40)}\n",
    "#use gridsearch to test all values for n_neighbors\n",
    "knn_gscv = GridSearchCV(knn2, param_grid, cv=5)\n",
    "#fit model to data\n",
    "knn_gscv.fit(X_train, y_train)"
   ]
  },
  {
   "cell_type": "code",
   "execution_count": 53,
   "metadata": {},
   "outputs": [
    {
     "data": {
      "text/plain": [
       "{'n_neighbors': 25}"
      ]
     },
     "execution_count": 53,
     "metadata": {},
     "output_type": "execute_result"
    }
   ],
   "source": [
    "#check top performing n_neighbors value\n",
    "knn_gscv.best_params_"
   ]
  },
  {
   "cell_type": "code",
   "execution_count": 54,
   "metadata": {},
   "outputs": [
    {
     "data": {
      "text/plain": [
       "0.115"
      ]
     },
     "execution_count": 54,
     "metadata": {},
     "output_type": "execute_result"
    }
   ],
   "source": [
    "knn_gscv.best_score_"
   ]
  },
  {
   "cell_type": "code",
   "execution_count": null,
   "metadata": {},
   "outputs": [],
   "source": []
  },
  {
   "cell_type": "code",
   "execution_count": null,
   "metadata": {},
   "outputs": [],
   "source": []
  }
 ],
 "metadata": {
  "kernelspec": {
   "display_name": "Python 3",
   "language": "python",
   "name": "python3"
  },
  "language_info": {
   "codemirror_mode": {
    "name": "ipython",
    "version": 3
   },
   "file_extension": ".py",
   "mimetype": "text/x-python",
   "name": "python",
   "nbconvert_exporter": "python",
   "pygments_lexer": "ipython3",
   "version": "3.7.3"
  }
 },
 "nbformat": 4,
 "nbformat_minor": 2
}
